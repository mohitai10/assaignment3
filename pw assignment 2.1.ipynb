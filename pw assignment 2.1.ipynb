{
 "cells": [
  {
   "cell_type": "markdown",
   "id": "92e6acb8-2197-46b5-8643-9480e542ce92",
   "metadata": {},
   "source": [
    "Quesion 1.Write a program to reverse a string."
   ]
  },
  {
   "cell_type": "code",
   "execution_count": 4,
   "id": "b100a720-434d-41a8-b0b6-3142a4274367",
   "metadata": {},
   "outputs": [
    {
     "data": {
      "text/plain": [
       "'sdrow erehw eno ot secaps yb detarapes era sdrow erehw gnirts a trevnoC'"
      ]
     },
     "execution_count": 4,
     "metadata": {},
     "output_type": "execute_result"
    }
   ],
   "source": [
    "str1 = \"Convert a string where words are separated by spaces to one where words\"\n",
    "str1[::-1]\n"
   ]
  },
  {
   "cell_type": "markdown",
   "id": "8ee82995-9c6e-4afc-9be6-9e780229b302",
   "metadata": {},
   "source": [
    "Quesion 2.Check if a string is a palindrome."
   ]
  },
  {
   "cell_type": "markdown",
   "id": "3757d305-6a39-4ef0-aef7-2caf8a7009de",
   "metadata": {},
   "source": [
    "str = input(\"Enter the string\")\n",
    "x = str[::-1]\n",
    "if str==x:\n",
    "    print(x ,\": string is a palindrom\")\n",
    "else:\n",
    "    print(x,\": string is not a palindrom\")                                   "
   ]
  },
  {
   "cell_type": "markdown",
   "id": "fac33d65-bf65-45b0-81a3-132c0eadd7ea",
   "metadata": {},
   "source": [
    "Quesion 3.Convert a string to uppercase"
   ]
  },
  {
   "cell_type": "code",
   "execution_count": 4,
   "id": "07678f5f-842a-4189-8ccc-04bd1c89429e",
   "metadata": {},
   "outputs": [
    {
     "name": "stdin",
     "output_type": "stream",
     "text": [
      "Enter the string mohit\n"
     ]
    },
    {
     "data": {
      "text/plain": [
       "'MOHIT'"
      ]
     },
     "execution_count": 4,
     "metadata": {},
     "output_type": "execute_result"
    }
   ],
   "source": [
    "str = input(\"Enter the string\")\n",
    "str.upper()"
   ]
  },
  {
   "cell_type": "markdown",
   "id": "f51c3d03-54bc-421c-82c1-7f1b6cc460ab",
   "metadata": {},
   "source": [
    "Quesion 3.Convert a string to lowercase"
   ]
  },
  {
   "cell_type": "code",
   "execution_count": 8,
   "id": "09d220ff-271f-4643-ab61-0f359dad78f3",
   "metadata": {},
   "outputs": [
    {
     "name": "stdin",
     "output_type": "stream",
     "text": [
      "Enter the string mohit\n"
     ]
    },
    {
     "data": {
      "text/plain": [
       "'mohit'"
      ]
     },
     "execution_count": 8,
     "metadata": {},
     "output_type": "execute_result"
    }
   ],
   "source": [
    "str = input(\"Enter the string\")\n",
    "str.lower()"
   ]
  },
  {
   "cell_type": "markdown",
   "id": "2c2cf33b-9dba-4b3c-8c7f-64cface3cf1a",
   "metadata": {},
   "source": [
    "Quesion 5.Count the number of vowels in a string"
   ]
  },
  {
   "cell_type": "code",
   "execution_count": 9,
   "id": "4553d9be-0c2e-41ed-a57c-a3dd31848ee7",
   "metadata": {},
   "outputs": [
    {
     "name": "stdout",
     "output_type": "stream",
     "text": [
      "21\n"
     ]
    }
   ],
   "source": [
    "str = \"Convert a string where words are separated by spaces to one where word\"\n",
    "count= 0\n",
    "vowels = \"aeiou\"\n",
    "for i in str:\n",
    "    for j in vowels:\n",
    "        if i==j:\n",
    "            count+=1\n",
    "print(count)"
   ]
  },
  {
   "cell_type": "markdown",
   "id": "715de7da-115d-4f20-869a-48a07fa9b4fd",
   "metadata": {},
   "source": [
    "Quesion 6. Count the number of consonants in a string"
   ]
  },
  {
   "cell_type": "code",
   "execution_count": 21,
   "id": "995c989d-3274-491d-a1ca-eca19e8a1708",
   "metadata": {},
   "outputs": [
    {
     "name": "stdin",
     "output_type": "stream",
     "text": [
      "Enter the string : mohit\n"
     ]
    },
    {
     "name": "stdout",
     "output_type": "stream",
     "text": [
      "23\n"
     ]
    }
   ],
   "source": [
    "str = input(\"Enter the string :\")\n",
    "count = 0\n",
    "vowels = \"aeiou\"\n",
    "for i in str:\n",
    "    for j in vowels:\n",
    "        if i != j:\n",
    "            count+=1\n",
    "print(count)"
   ]
  },
  {
   "cell_type": "code",
   "execution_count": 17,
   "id": "71e91658-9c33-4d50-9061-010d79e563f9",
   "metadata": {},
   "outputs": [
    {
     "name": "stdin",
     "output_type": "stream",
     "text": [
      ". Convert a string where words are separated by spaces to one where words mohit\n"
     ]
    },
    {
     "name": "stdout",
     "output_type": "stream",
     "text": [
      "3\n"
     ]
    }
   ],
   "source": [
    "str = (\". Convert a string where words are separated by spaces to one where words\")\n",
    "count = 0 \n",
    "consonant  =\"aeiou\"\n",
    "for i in str :\n",
    "    if i  not in consonant:\n",
    "        count+=1\n",
    "print(count)"
   ]
  },
  {
   "cell_type": "markdown",
   "id": "d7bc3e4b-33b5-4de6-8705-dcdf723cb153",
   "metadata": {},
   "source": [
    "Quesion7.Remove all whitespaces from a string"
   ]
  },
  {
   "cell_type": "code",
   "execution_count": 22,
   "id": "5fc74a09-15a0-4841-99ec-8f3fcb287928",
   "metadata": {},
   "outputs": [
    {
     "data": {
      "text/plain": [
       "'Convertastringwherewordsareseparatedbyspacestoonewherewordsmohit'"
      ]
     },
     "execution_count": 22,
     "metadata": {},
     "output_type": "execute_result"
    }
   ],
   "source": [
    "str= \"Convert a string where words are separated by spaces to one where words mohit\"\n",
    "str.replace(\" \",\"\")"
   ]
  },
  {
   "cell_type": "markdown",
   "id": "111b4a8d-b540-4d7e-b0af-1b9c028d5fcd",
   "metadata": {},
   "source": [
    "Quesion 8.Find the length of a string without using the `len()` function"
   ]
  },
  {
   "cell_type": "code",
   "execution_count": 25,
   "id": "01540462-e517-43e3-9554-a157e9f99026",
   "metadata": {},
   "outputs": [
    {
     "name": "stdin",
     "output_type": "stream",
     "text": [
      "Enter the string : mohit\n"
     ]
    },
    {
     "name": "stdout",
     "output_type": "stream",
     "text": [
      "length of string is : 5\n"
     ]
    }
   ],
   "source": [
    "str = input(\"Enter the string :\")\n",
    "length = 0\n",
    "for i in str:\n",
    "    length+=1\n",
    "print(\"length of string is :\",length)\n",
    "    \n",
    "    "
   ]
  },
  {
   "cell_type": "markdown",
   "id": "1342a2c2-956c-4eb5-ae49-20a7cdb779a8",
   "metadata": {},
   "source": [
    "Quesoin 9. Check if a string contains a specific word."
   ]
  },
  {
   "cell_type": "code",
   "execution_count": 26,
   "id": "be3eb9e8-93a5-466b-88b1-3bef3ad5feee",
   "metadata": {},
   "outputs": [
    {
     "name": "stdout",
     "output_type": "stream",
     "text": [
      "mohit kumar\n"
     ]
    }
   ],
   "source": [
    "str = \". Check if a string mohit kumar contains a specific word.\"\n",
    "find = \"mohit kumar\"\n",
    "if find in str:\n",
    "    print(find)"
   ]
  },
  {
   "cell_type": "markdown",
   "id": "09e1336a-247a-4bda-b040-19d43ca62970",
   "metadata": {},
   "source": [
    "Quesion10.. Replace a word in a string with another word"
   ]
  },
  {
   "cell_type": "code",
   "execution_count": 8,
   "id": "017c8aaf-6fcc-4ad6-9955-95a9db3da379",
   "metadata": {},
   "outputs": [
    {
     "name": "stdout",
     "output_type": "stream",
     "text": [
      ". Check if a string mohit kumar contains a specific word.\n"
     ]
    }
   ],
   "source": [
    "str = \" Check if a string mohit kumar contains a specific word.\"\n",
    "result = i\n",
    "for i in str:\n",
    "    if i == \"mohit kumar\":\n",
    "        \n",
    "            i = \"rohit kumar\"\n",
    "        \n",
    "    result+=i\n",
    "print (result)\n",
    "        \n",
    "    \n",
    "    "
   ]
  },
  {
   "cell_type": "code",
   "execution_count": 43,
   "id": "9da1ee40-87f2-4fb0-8d6d-5233eb2bc502",
   "metadata": {},
   "outputs": [
    {
     "name": "stdout",
     "output_type": "stream",
     "text": [
      "  Themohitbrownfoxjusmpsmohitoverthelazydog\n"
     ]
    }
   ],
   "source": [
    "string = \"The quick brown fox jusmps quick over the lazy dog\"\n",
    "words = string.split(\" \")\n",
    "\n",
    "result = '  '\n",
    "for i in words:\n",
    "        if i == \"quick\":\n",
    "                i = \"mohit\"\n",
    "        result += i\n",
    "print(result)"
   ]
  },
  {
   "cell_type": "code",
   "execution_count": 47,
   "id": "f3e125f3-68c0-40f7-a5b4-36bc6c9fc41e",
   "metadata": {},
   "outputs": [
    {
     "name": "stdout",
     "output_type": "stream",
     "text": [
      "This is a sample string\n"
     ]
    }
   ],
   "source": [
    "def custom_replace(original_string, old_word, new_word):\n",
    "    words = original_string.split(' ')  # Split the string by spaces\n",
    "    new_words = []\n",
    "    for word in words:\n",
    "        if word == old_word:\n",
    "            new_words.append(new_word)\n",
    "        else:\n",
    "            new_words.append(word)\n",
    "    return ' '.join(new_words)  # Join the words back with spaces\n",
    "\n",
    "# Example usage:\n",
    "my_string = \"This is a test string\"\n",
    "modified_string = custom_replace(my_string, \"test\", \"sample\")\n",
    "print(modified_string) # Output: This is a sample string"
   ]
  },
  {
   "cell_type": "markdown",
   "id": "a3c38b8b-3d9b-4940-9ee4-6a5cd1896b89",
   "metadata": {},
   "source": [
    "Quesion11.Count the occurrences of a word in a string"
   ]
  },
  {
   "cell_type": "code",
   "execution_count": 22,
   "id": "0edd7c1a-8a43-4e13-8326-f8f2d7a62ca3",
   "metadata": {},
   "outputs": [],
   "source": [
    "def string_split(string):\n",
    "    list_string = []\n",
    "    start_index = 0\n",
    "    for i in range(0,len(string)): \n",
    "        if string[i] == \" \":\n",
    "            space_index = i\n",
    "            word = string[start_index:space_index]\n",
    "            start_index = space_index+1\n",
    "            list_string.append(word)\n",
    "    list_string.append(string[start_index:])        \n",
    "    return list_string\n",
    "\n",
    "def count_occurrence(str1,word):\n",
    "    words = string_split(str1)\n",
    "    count = 0\n",
    "    for i in words:\n",
    "        if i==word:\n",
    "            count+=1\n",
    "    return count\n",
    "        "
   ]
  },
  {
   "cell_type": "code",
   "execution_count": 23,
   "id": "864300bf-9c82-4c31-a417-2585dd16e1d7",
   "metadata": {},
   "outputs": [
    {
     "name": "stdout",
     "output_type": "stream",
     "text": [
      "2\n"
     ]
    }
   ],
   "source": [
    "string = \"Count the a number count of uppercase cuunt letters count in a string.\"\n",
    "words = \"count\"\n",
    "output = count_occurrence(string,words)\n",
    "print(output)"
   ]
  },
  {
   "cell_type": "markdown",
   "id": "5abe5267-7340-417a-8769-e6a67f2b9fd6",
   "metadata": {},
   "source": [
    "Quesion12.. Find the first occurrence of a word in a string"
   ]
  },
  {
   "cell_type": "code",
   "execution_count": 6,
   "id": "da952e33-9e55-4d8d-9cd1-7820279924e7",
   "metadata": {},
   "outputs": [],
   "source": [
    "def split(string):\n",
    "    list_string = []\n",
    "    start_index = 0\n",
    "    for i in range(0,len(string)):\n",
    "        if string[i]== \" \":\n",
    "            space_index = i\n",
    "            word= string[start_index : space_index]\n",
    "            start_index = space_index+1\n",
    "            list_string.append(word)\n",
    "    list_string.append(string[start_index:])\n",
    "    return list_string\n",
    "def first_occurrence(string1,word):\n",
    "    words = split(string1)\n",
    "    for i in range(0,len(words)):\n",
    "        if words[i] == word:\n",
    "            first_occ = i\n",
    "            \n",
    "    return first_occ\n",
    "            \n",
    "        "
   ]
  },
  {
   "cell_type": "code",
   "execution_count": 8,
   "id": "6807b70d-ac45-4b1d-a313-1a4b7babb568",
   "metadata": {},
   "outputs": [
    {
     "name": "stdout",
     "output_type": "stream",
     "text": [
      "10\n"
     ]
    }
   ],
   "source": [
    "string1 = \"Count the a number count of number uppercase cuunt letters number count in a string.\"\n",
    "word  = \"number\"\n",
    "output = first_occurrence(string1,word)\n",
    "print(output)"
   ]
  },
  {
   "cell_type": "markdown",
   "id": "83f0c183-b623-4320-82ab-93919366ef8c",
   "metadata": {},
   "source": [
    "Quesion13.. Find the last occurrence of a word in a string."
   ]
  },
  {
   "cell_type": "code",
   "execution_count": null,
   "id": "8420422d-5354-42e0-8a42-d636b2c132eb",
   "metadata": {},
   "outputs": [],
   "source": []
  },
  {
   "cell_type": "markdown",
   "id": "00150b6c-10f5-4409-b85a-9c05dbcc598c",
   "metadata": {},
   "source": [
    "Quesion14.. Split a string into a list of words"
   ]
  },
  {
   "cell_type": "code",
   "execution_count": 10,
   "id": "b560d07e-19ec-4a12-8073-e921e6c235ab",
   "metadata": {},
   "outputs": [],
   "source": [
    "def n_split(str1):\n",
    "    new_list= []\n",
    "    start = 0\n",
    "    for i in range(0,len(str1)):\n",
    "        if str1[i] == \" \":\n",
    "            space_index = i\n",
    "            word = str1[start : space_index]\n",
    "            start = space_index+1\n",
    "            new_list.append(word)\n",
    "    new_list.append(str1[space_index:])\n",
    "        \n",
    "    return new_list\n",
    "\n"
   ]
  },
  {
   "cell_type": "code",
   "execution_count": 11,
   "id": "d474d40e-1e98-4b99-af9d-cfd7572a997b",
   "metadata": {},
   "outputs": [
    {
     "name": "stdout",
     "output_type": "stream",
     "text": [
      "['Check', 'if', 'a', 'string', 'starts', 'with', 'a', 'specific', 'word', 'or', ' phrase']\n"
     ]
    }
   ],
   "source": [
    "str1 = \"Check if a string starts with a specific word or phrase\"\n",
    "print(n_split(str1))"
   ]
  },
  {
   "cell_type": "markdown",
   "id": "41a80748-3098-43f5-b6fd-5a8041c169ac",
   "metadata": {},
   "source": [
    "Quesion 15.Join a list of words into a string."
   ]
  },
  {
   "cell_type": "code",
   "execution_count": 20,
   "id": "e277ec5a-76c9-4de0-acf1-2e5821e9feab",
   "metadata": {},
   "outputs": [
    {
     "name": "stdout",
     "output_type": "stream",
     "text": [
      "Check if a string starts \n"
     ]
    }
   ],
   "source": [
    "list1 = ['Check', 'if', 'a', 'string', 'starts']\n",
    "str1 = \"\"\n",
    "for i in list1:\n",
    "    str1=str1 + i +\" \"\n",
    "print(str1)    "
   ]
  },
  {
   "cell_type": "code",
   "execution_count": 14,
   "id": "fa647dfb-c46f-4c77-84f5-10250489f4ad",
   "metadata": {},
   "outputs": [
    {
     "data": {
      "text/plain": [
       "str"
      ]
     },
     "execution_count": 14,
     "metadata": {},
     "output_type": "execute_result"
    }
   ],
   "source": [
    "type(str1)"
   ]
  },
  {
   "cell_type": "markdown",
   "id": "fdcc5715-fa98-4a2a-8486-f9211baeedfb",
   "metadata": {},
   "source": [
    "Quesion16.Convert a string where words are separated by spaces to one where words\n",
    "are separated by underscores\n"
   ]
  },
  {
   "cell_type": "code",
   "execution_count": 17,
   "id": "8f7d2b0f-221a-459a-92b7-0a62a0ec26b1",
   "metadata": {},
   "outputs": [
    {
     "name": "stdout",
     "output_type": "stream",
     "text": [
      "Convert_a_string_where_words_are_separated_by_spaces_to_one_where_words_are_separated_by_underscores\n"
     ]
    }
   ],
   "source": [
    "str1 = \"Convert a string where words are separated by spaces to one where words are separated by underscores\"\n",
    "word = str1.split()\n",
    "str2 = \"_\".join(word)\n",
    "print(str2)"
   ]
  },
  {
   "cell_type": "code",
   "execution_count": 21,
   "id": "ed2efd66-bfa8-4ba1-84ed-f0bfd3a71472",
   "metadata": {},
   "outputs": [
    {
     "name": "stdout",
     "output_type": "stream",
     "text": [
      "Convert_a_string_where_words_are_separated_by_spaces_to_one_where_words_are_separated_by_underscores\n"
     ]
    }
   ],
   "source": [
    "str1 = \"Convert a string where words are separated by spaces to one where words are separated by underscores\"\n",
    "word = str1.replace(\" \",\"_\")\n",
    "print(word)"
   ]
  },
  {
   "cell_type": "markdown",
   "id": "10fa9cad-87b5-4f68-a5c0-97b7c9d4b0b8",
   "metadata": {},
   "source": [
    "Quesion17.Check if a string starts with a specific word or phrase."
   ]
  },
  {
   "cell_type": "code",
   "execution_count": 25,
   "id": "b2024eb2-e7b1-4cf3-860c-43cb709b6cf9",
   "metadata": {},
   "outputs": [
    {
     "name": "stdout",
     "output_type": "stream",
     "text": [
      "True\n"
     ]
    }
   ],
   "source": [
    "str1 = \"Hello,mohit kumar\"\n",
    "x= str1.startswith(\"Hello\")\n",
    "print(x)"
   ]
  },
  {
   "cell_type": "code",
   "execution_count": 38,
   "id": "99f4e9e8-06dc-4649-bf32-a5513f2ef9dd",
   "metadata": {},
   "outputs": [
    {
     "name": "stdin",
     "output_type": "stream",
     "text": [
      "Enter the string : Hello my name is mohit kumar\n"
     ]
    },
    {
     "name": "stdout",
     "output_type": "stream",
     "text": [
      "True\n"
     ]
    }
   ],
   "source": [
    "str1 = input(\"Enter the string :\")\n",
    "x = str1.split()\n",
    "if x[0]==\"Hello\":\n",
    "    print(True)\n",
    "else:\n",
    "    print(False)"
   ]
  },
  {
   "cell_type": "markdown",
   "id": "76957d9c-f810-486d-8881-5609b379a16a",
   "metadata": {},
   "source": [
    "Quesion18.Check if a string ends with a specific word or phrase"
   ]
  },
  {
   "cell_type": "code",
   "execution_count": 46,
   "id": "d62f8c05-bbe0-45bf-8d2b-94c7681acfdc",
   "metadata": {},
   "outputs": [
    {
     "name": "stdout",
     "output_type": "stream",
     "text": [
      "True\n"
     ]
    }
   ],
   "source": [
    "str1 = \"Hello mohit kumar\"\n",
    "x= str1.endswith(\"kumar\")\n",
    "print(x)"
   ]
  },
  {
   "cell_type": "code",
   "execution_count": 48,
   "id": "e6441272-842c-4317-9d3d-8f3a88b04629",
   "metadata": {},
   "outputs": [
    {
     "name": "stdin",
     "output_type": "stream",
     "text": [
      "Enter the string : . Replace multiple spaces in a string with a single space.\n"
     ]
    },
    {
     "name": "stdout",
     "output_type": "stream",
     "text": [
      "True\n"
     ]
    }
   ],
   "source": [
    "str1 = input(\"Enter the string :\")\n",
    "x = str1.split()\n",
    "if x[-1]==\"space.\":\n",
    "    print(True)\n",
    "else:\n",
    "    print(False)"
   ]
  },
  {
   "cell_type": "markdown",
   "id": "971d4b81-870f-43dd-be43-e92d5e4aff43",
   "metadata": {},
   "source": [
    "Quesion 19.Convert a string to title case (e.g., \"hello world\" to \"Hello World\")."
   ]
  },
  {
   "cell_type": "code",
   "execution_count": 52,
   "id": "a2ef6390-7c5a-4b49-a4f3-80b41cceb695",
   "metadata": {},
   "outputs": [
    {
     "name": "stdout",
     "output_type": "stream",
     "text": [
      "Hello World\n"
     ]
    }
   ],
   "source": [
    "str = \"hello world\"\n",
    "x = str.title()\n",
    "print(x)"
   ]
  },
  {
   "cell_type": "code",
   "execution_count": 19,
   "id": "ff9ef8d3-ee73-4207-a6a9-0e678debe139",
   "metadata": {},
   "outputs": [
    {
     "name": "stdout",
     "output_type": "stream",
     "text": [
      "Mohit Is A Good Boy He Is A Very Honsety\n"
     ]
    }
   ],
   "source": [
    "str1 = \"mohit is a good boy he is a very honsety \"\n",
    "words = str1.split()\n",
    "title_cased_words = []\n",
    "for word in words:\n",
    "    \n",
    "    if word:  \n",
    "        title_cased_word = word[0].upper() + word[1:].lower()\n",
    "        title_cased_words.append(title_cased_word)\n",
    "    else:\n",
    "        title_cased_words.append('')  \n",
    "        \n",
    "  \n",
    "\n",
    "print(\" \".join(title_cased_words))    \n",
    "\n"
   ]
  },
  {
   "cell_type": "markdown",
   "id": "4996c8e1-0c2d-4249-af68-c3d532bdc0f9",
   "metadata": {},
   "source": [
    "Quesion 19.Find the longest word in a string"
   ]
  },
  {
   "cell_type": "code",
   "execution_count": 13,
   "id": "d7fd3f7b-d655-4fd7-afe3-6990bb253c24",
   "metadata": {},
   "outputs": [
    {
     "name": "stdout",
     "output_type": "stream",
     "text": [
      "uppercase\n"
     ]
    }
   ],
   "source": [
    "str1 = \"Count the number  of uppercase letters in a string\"\n",
    "words = str1.split()\n",
    "longest_word = max(words, key=len)  \n",
    "print(longest_word)\n"
   ]
  },
  {
   "cell_type": "code",
   "execution_count": 124,
   "id": "a3dd97af-8881-4780-a2db-07b02d4dc91f",
   "metadata": {},
   "outputs": [],
   "source": [
    "def longest_word(str1):\n",
    "    words = str1.split()\n",
    "    count = 1\n",
    "    for i in words:\n",
    "        if  len(i)>count:\n",
    "            count = len(i)\n",
    "            \n",
    "            \n",
    "    return  count"
   ]
  },
  {
   "cell_type": "code",
   "execution_count": 125,
   "id": "8b9bf6e7-3764-40e8-bd82-9815caa0443d",
   "metadata": {},
   "outputs": [
    {
     "name": "stdout",
     "output_type": "stream",
     "text": [
      "longest word in a string 9\n"
     ]
    }
   ],
   "source": [
    "str1 = \"Count the number  of uppercase letters in a string \"\n",
    "print(\"longest word in a string\",longest_word(str1))"
   ]
  },
  {
   "cell_type": "code",
   "execution_count": 74,
   "id": "19107364-95b7-4637-bb76-59ba3f560601",
   "metadata": {},
   "outputs": [],
   "source": [
    "def longest_word(str1):\n",
    "    words = str1.split()\n",
    "    count = 0\n",
    "    for i in words:\n",
    "        print(i, len(i))"
   ]
  },
  {
   "cell_type": "code",
   "execution_count": 75,
   "id": "6d19f651-7f5e-44a3-8e6b-0287e78284e7",
   "metadata": {},
   "outputs": [
    {
     "name": "stdout",
     "output_type": "stream",
     "text": [
      "Count 5\n",
      "the 3\n",
      "number 6\n",
      "of 2\n",
      "uppercase 9\n",
      "letters 7\n",
      "in 2\n",
      "a 1\n",
      "string 6\n",
      "None\n"
     ]
    }
   ],
   "source": [
    "str1 = \"Count the number  of uppercase letters in a string\"\n",
    "print(longest_word(str1))"
   ]
  },
  {
   "cell_type": "markdown",
   "id": "28048767-6f3a-4106-b2b6-6db65ce8e80a",
   "metadata": {},
   "source": [
    "Quesion21.Find the shortest word in a string"
   ]
  },
  {
   "cell_type": "code",
   "execution_count": 14,
   "id": "73381e85-aa3d-4d37-92b0-eb60edf538d3",
   "metadata": {},
   "outputs": [
    {
     "name": "stdout",
     "output_type": "stream",
     "text": [
      "a\n"
     ]
    }
   ],
   "source": [
    "str1 = \"Count the number  of uppercase letters in a string\"\n",
    "words = str1.split()\n",
    "shortest_word = min(words, key=len)  \n",
    "print(shortest_word)"
   ]
  },
  {
   "cell_type": "markdown",
   "id": "33899eca-b9d8-4adf-8b98-a89e26baa1b9",
   "metadata": {},
   "source": [
    "Quesion22.Reverse the order of words in a string"
   ]
  },
  {
   "cell_type": "code",
   "execution_count": 22,
   "id": "3b716947-c3fc-4aef-a9b8-2d8a52a5b745",
   "metadata": {},
   "outputs": [
    {
     "name": "stdout",
     "output_type": "stream",
     "text": [
      "language powerful a is Python\n"
     ]
    }
   ],
   "source": [
    "str1 = \"Python is a powerful language\"\n",
    "words = str1.split()\n",
    "x = words[::-1]\n",
    "result = \" \".join(x)\n",
    "print(result)"
   ]
  },
  {
   "cell_type": "markdown",
   "id": "086676a0-fb38-45f7-bc8f-95d79aaca327",
   "metadata": {},
   "source": [
    "Quesion 23.Check if a string is alphanumeric."
   ]
  },
  {
   "cell_type": "code",
   "execution_count": 22,
   "id": "a3a49285-72c1-4907-892e-3424edeb529a",
   "metadata": {},
   "outputs": [
    {
     "name": "stdout",
     "output_type": "stream",
     "text": [
      "False\n"
     ]
    }
   ],
   "source": [
    "str1 = \"mohitkumar@\"\n",
    "result = str1.isalnum()\n",
    "print(result)"
   ]
  },
  {
   "cell_type": "code",
   "execution_count": 9,
   "id": "e99cfd25-639c-4666-aa46-6d198df2883a",
   "metadata": {},
   "outputs": [
    {
     "name": "stdin",
     "output_type": "stream",
     "text": [
      "enter the string kjnibihn\n"
     ]
    },
    {
     "name": "stdout",
     "output_type": "stream",
     "text": [
      "True\n"
     ]
    }
   ],
   "source": [
    "str1 = input(\"enter the string\")\n",
    "for i in str1:\n",
    "    if not (i.isalpha() or i.isdigit()):\n",
    "        print(False)\n",
    "        break \n",
    "else:\n",
    "    print(True)\n",
    "    "
   ]
  },
  {
   "cell_type": "markdown",
   "id": "3fa8d68f-a468-4941-a39e-47d676b9eaca",
   "metadata": {},
   "source": [
    "Quesion 24.. Extract all digits from a string."
   ]
  },
  {
   "cell_type": "code",
   "execution_count": null,
   "id": "3533546b-1bf6-4c6d-a845-4305fa896d18",
   "metadata": {},
   "outputs": [],
   "source": [
    "str1 = \"Extract 15 the username 14 from an 13 email 12 address 11 string\"\n",
    "words = str1.split()\n",
    "for item in words:\n",
    "    if item.isdigit():\n",
    "        print(item)"
   ]
  },
  {
   "cell_type": "markdown",
   "id": "18c2d6fb-4455-4d37-bae5-f83eaa36e52d",
   "metadata": {},
   "source": [
    "Quesion25.Extract all alphabets from a string"
   ]
  },
  {
   "cell_type": "code",
   "execution_count": 29,
   "id": "7de1054f-c0c6-40c7-8012-159662680c21",
   "metadata": {},
   "outputs": [
    {
     "name": "stdout",
     "output_type": "stream",
     "text": [
      "Extracttheusernamefromanemailaddressstring\n"
     ]
    }
   ],
   "source": [
    "input_string = \"Extract 15 the username 14 from an 13 email 12 address 11 string\"\n",
    "alphabets = \"\".join(char for char in input_string if char.isalpha())\n",
    "print(alphabets)"
   ]
  },
  {
   "cell_type": "markdown",
   "id": "deeab409-0ff1-4a0f-aaa3-0dbc6fd21a22",
   "metadata": {},
   "source": [
    "Quesion26.Count the number of uppercase letters in a string."
   ]
  },
  {
   "cell_type": "code",
   "execution_count": 10,
   "id": "555e96f8-09f9-4c54-af36-a0f46f305c89",
   "metadata": {},
   "outputs": [
    {
     "name": "stdout",
     "output_type": "stream",
     "text": [
      "9\n"
     ]
    }
   ],
   "source": [
    "str1 = \"Replace Multiple Spaces In  String With A Single Space\"\n",
    "count = 0\n",
    "for item in str1:\n",
    "    if item.isupper():\n",
    "        count+=1\n",
    "print(count)\n"
   ]
  },
  {
   "cell_type": "markdown",
   "id": "32e16914-5a78-43d7-8168-defd120fb1a8",
   "metadata": {},
   "source": [
    "Quesion27.Count the number of lowercase letters in a string."
   ]
  },
  {
   "cell_type": "code",
   "execution_count": 18,
   "id": "46453e2f-572e-40ed-9f5b-64f8d6690b32",
   "metadata": {},
   "outputs": [
    {
     "name": "stdout",
     "output_type": "stream",
     "text": [
      "36\n"
     ]
    }
   ],
   "source": [
    "str1 = \"Replace Multiple Spaces In  String With A Single Space\"\n",
    "count = 0\n",
    "for item in str1:\n",
    "    if item.islower():\n",
    "        count+=1\n",
    "print(count)\n"
   ]
  },
  {
   "cell_type": "markdown",
   "id": "eeea1d8d-7735-4692-b1d2-320c626aeea6",
   "metadata": {},
   "source": [
    "Quesion28.. Swap the case of each character in a string"
   ]
  },
  {
   "cell_type": "code",
   "execution_count": 25,
   "id": "57558efd-476f-4e04-b937-d6b91e016d8e",
   "metadata": {},
   "outputs": [
    {
     "name": "stdout",
     "output_type": "stream",
     "text": [
      "mohit kumar123\n"
     ]
    }
   ],
   "source": [
    "str1 = \"MOHIT KUMAR123\"\n",
    "swap = str1.swapcase()\n",
    "print(swap)"
   ]
  },
  {
   "cell_type": "markdown",
   "id": "de3bd060-df18-4a0f-bad8-35824cb78cb1",
   "metadata": {},
   "source": [
    "Quesion29.. Remove a specific word from a string"
   ]
  },
  {
   "cell_type": "code",
   "execution_count": 8,
   "id": "d850ec6e-3db5-4533-bd9b-6e52393c1641",
   "metadata": {},
   "outputs": [
    {
     "name": "stdout",
     "output_type": "stream",
     "text": [
      "Count the of uppercase letters in a string\n"
     ]
    }
   ],
   "source": [
    "str1 = \" Count the number of uppercase letters in a string\"\n",
    "result= []\n",
    "words = str1.split()\n",
    "for i in words :\n",
    "    if i != \"number\":\n",
    "        result.append(i)\n",
    "print(\" \".join(result))\n",
    "    \n",
    "        \n",
    "       \n",
    "        \n"
   ]
  },
  {
   "cell_type": "markdown",
   "id": "54d4fe58-9c2b-44ac-b620-e0a91ede55a7",
   "metadata": {},
   "source": [
    "Quesion30.Check if a string is a valid email address"
   ]
  },
  {
   "cell_type": "code",
   "execution_count": null,
   "id": "3130be7e-3393-4d52-95d3-1c874abc4cee",
   "metadata": {},
   "outputs": [],
   "source": []
  },
  {
   "cell_type": "markdown",
   "id": "3f5030b5-7aae-4e52-aeb6-e79c6fdc40e5",
   "metadata": {},
   "source": [
    "# list"
   ]
  },
  {
   "cell_type": "markdown",
   "id": "77e58964-7df5-4e95-bd6b-c97517edce6f",
   "metadata": {},
   "source": [
    "num = list(range(1,11))\n",
    "print(num)\n",
    "    "
   ]
  },
  {
   "cell_type": "markdown",
   "id": "7d46e9f7-3f52-4243-a5bc-ce782c1e0f28",
   "metadata": {},
   "source": [
    "Quesion2.. Find the length of a list without using the `len()` function."
   ]
  },
  {
   "cell_type": "code",
   "execution_count": 85,
   "id": "5b30b319-7e7a-4a8d-8b2a-c70eb8925c18",
   "metadata": {},
   "outputs": [
    {
     "name": "stdout",
     "output_type": "stream",
     "text": [
      "10\n"
     ]
    }
   ],
   "source": [
    "l = (1,2,3,4,5,65,47,8,8,8)\n",
    "len = 0\n",
    "for i in l:\n",
    "    len+=1\n",
    "print(len)\n",
    "    \n",
    "\n",
    "    \n",
    "    "
   ]
  },
  {
   "cell_type": "markdown",
   "id": "af423e16-3abf-4d3c-9362-985fdf259b3d",
   "metadata": {},
   "source": [
    "Quesion3.Append an element to the end of a list"
   ]
  },
  {
   "cell_type": "code",
   "execution_count": 12,
   "id": "370444d2-b669-4e51-ac86-3ea758dc88bb",
   "metadata": {},
   "outputs": [
    {
     "name": "stdout",
     "output_type": "stream",
     "text": [
      "[1, 2, 3, 4, 5, 6, 7]\n"
     ]
    }
   ],
   "source": [
    "l= [1,2,3,4,5,6]\n",
    "l.append(7)\n",
    "print(l)"
   ]
  },
  {
   "cell_type": "code",
   "execution_count": 2,
   "id": "9f4b3688-58e6-44ee-b9ea-b417a477af6d",
   "metadata": {},
   "outputs": [
    {
     "name": "stdout",
     "output_type": "stream",
     "text": [
      "[1, 2, 3, 4, 5, 6]\n"
     ]
    }
   ],
   "source": [
    "list = [1,2,3,4,5]\n",
    "add_element = 6\n",
    "new_list = list + [add_element]\n",
    "print(new_list)"
   ]
  },
  {
   "cell_type": "code",
   "execution_count": 3,
   "id": "aa9d39b1-e725-4e92-bb63-ad7bfc0b1ac9",
   "metadata": {},
   "outputs": [
    {
     "name": "stdout",
     "output_type": "stream",
     "text": [
      "[1, 2, 3, 4, 5, 6]\n"
     ]
    }
   ],
   "source": [
    "list = [1,2,3,4,5]\n",
    "add_element = 6\n",
    "new_list = list + [6]\n",
    "print(new_list)"
   ]
  },
  {
   "cell_type": "markdown",
   "id": "7fcb084c-0c01-4a3b-8d73-42324d33389e",
   "metadata": {},
   "source": [
    "Quesion4.. Insert an element at a specific index in a list."
   ]
  },
  {
   "cell_type": "code",
   "execution_count": 5,
   "id": "38d2b01f-2423-4801-92a0-2ebc18f28c71",
   "metadata": {},
   "outputs": [
    {
     "name": "stdout",
     "output_type": "stream",
     "text": [
      "[1, 2, 3, 4, 5, 6, 7, 8]\n"
     ]
    }
   ],
   "source": [
    "list = [1,2,3,4,6,7,8]\n",
    "list.insert(4,5)\n",
    "print(list)"
   ]
  },
  {
   "cell_type": "code",
   "execution_count": 14,
   "id": "4606504d-ceb1-4799-b1ad-b5576cf619a4",
   "metadata": {},
   "outputs": [
    {
     "name": "stdout",
     "output_type": "stream",
     "text": [
      "[]\n"
     ]
    }
   ],
   "source": [
    "list = [1,2,3,4,6,7,8]\n",
    "new_list = []\n",
    "for i in range(len(list)):\n",
    "    if i == [4]:\n",
    "        new_list.append(5)\n",
    "        i+=1\n",
    "print(new_list)\n",
    "        "
   ]
  },
  {
   "cell_type": "markdown",
   "id": "9f603a2a-1cf6-40a9-9ae2-59fd8a7e0ed6",
   "metadata": {},
   "source": [
    "Quesion5.. Remove an element from a list by its value"
   ]
  },
  {
   "cell_type": "code",
   "execution_count": 18,
   "id": "50c16a5b-d1e8-4a1d-a2f3-ce5eb8e7ce0b",
   "metadata": {},
   "outputs": [
    {
     "name": "stdout",
     "output_type": "stream",
     "text": [
      "[1, 2, 3, 4, 6, 7, 8]\n"
     ]
    }
   ],
   "source": [
    "list = [1,2,3,4,5,6,7,8]\n",
    "remove_value = 5\n",
    "result = []\n",
    "for i in list:\n",
    "    if i != remove_value:\n",
    "        result.append(i)\n",
    "print(result)"
   ]
  },
  {
   "cell_type": "markdown",
   "id": "0777e0b9-4de2-454d-bb5d-cd8662324155",
   "metadata": {},
   "source": [
    "Quesion6.Remove an element from a list by its index"
   ]
  },
  {
   "cell_type": "code",
   "execution_count": 20,
   "id": "b6d5d6c9-bedc-4d9e-825b-093202260c07",
   "metadata": {},
   "outputs": [
    {
     "name": "stdout",
     "output_type": "stream",
     "text": [
      "[1, 2, 3, 5, 6, 7, 8]\n"
     ]
    }
   ],
   "source": [
    "list = [1,2,3,4,5,6,7,8]\n",
    "remove_index = 3\n",
    "del list[remove_index]\n",
    "print(list)"
   ]
  },
  {
   "cell_type": "markdown",
   "id": "ebc6a3b6-1352-493c-a5a3-920caf73608e",
   "metadata": {},
   "source": [
    "Quesion7.Check if an element exists in a list.\n"
   ]
  },
  {
   "cell_type": "code",
   "execution_count": 8,
   "id": "8014913e-6e0a-4a81-9bae-408e9d24e964",
   "metadata": {},
   "outputs": [
    {
     "name": "stdin",
     "output_type": "stream",
     "text": [
      "enter the element 15\n"
     ]
    },
    {
     "name": "stdout",
     "output_type": "stream",
     "text": [
      "element not exists in a list\n"
     ]
    }
   ],
   "source": [
    "list = [1,2,3,4,5,6,7,8]\n",
    "find_element = int(input(\"enter the element\"))\n",
    "for i in list:\n",
    "    if i == find_element :\n",
    "        print(find_element ,\"element exists in a list\")\n",
    "        break \n",
    "else:\n",
    "    print(\"element not exists in a list\")"
   ]
  },
  {
   "cell_type": "raw",
   "id": "354fb087-7fcc-4258-8449-1a5b33e0e88a",
   "metadata": {},
   "source": [
    "Quesion8.. Find the index of the first occurrence of an element in a list."
   ]
  },
  {
   "cell_type": "code",
   "execution_count": 14,
   "id": "7ed42ac1-01a2-4861-9876-1a0414cb926c",
   "metadata": {},
   "outputs": [
    {
     "name": "stdout",
     "output_type": "stream",
     "text": [
      "[]\n"
     ]
    }
   ],
   "source": [
    "list = [1,2,3,5,8,52,1947,5216,5,2]\n",
    "j =[]\n",
    "for i in list:\n",
    "    if i == range(len(list)):\n",
    "        l.append(i)\n",
    "print(j)\n",
    "        \n",
    "        \n",
    "    \n",
    "    "
   ]
  },
  {
   "cell_type": "markdown",
   "id": "a708b2e4-8084-41e1-a715-1a871d0712b4",
   "metadata": {},
   "source": [
    "Quesion10.Reverse the order of elements in a list"
   ]
  },
  {
   "cell_type": "code",
   "execution_count": 19,
   "id": "61876cf8-e858-4bc8-920d-b94ebcb9c6ef",
   "metadata": {},
   "outputs": [
    {
     "name": "stdout",
     "output_type": "stream",
     "text": [
      "[8, 7, 6, 5, 4, 3, 2, 1]\n"
     ]
    }
   ],
   "source": [
    "list = [1,2,3,4,5,6,7,8]\n",
    "list1 = list[::-1]\n",
    "print(list1)"
   ]
  },
  {
   "cell_type": "markdown",
   "id": "742f61ea-ec15-4347-ae3c-e5eed3917167",
   "metadata": {},
   "source": [
    "Quesion11.. Sort a list in ascending order"
   ]
  },
  {
   "cell_type": "code",
   "execution_count": 5,
   "id": "55416e25-288e-4a01-a624-fa2175a10c04",
   "metadata": {},
   "outputs": [
    {
     "name": "stdout",
     "output_type": "stream",
     "text": [
      "[1, 2, 3, 4, 5, 6, 8, 9, 21, 58]\n"
     ]
    }
   ],
   "source": [
    "list1= [8,9,4,5,6,21,58,1,2,3]\n",
    "n= len(list1)\n",
    "for i in range(0,n-1):\n",
    "    for j in range(0,n-i-1):\n",
    "        if list1[j]>list1[j+1]:\n",
    "            list1[j],list1[j+1]= list1[j+1],list1[j]  \n",
    "print(list1)            "
   ]
  },
  {
   "cell_type": "markdown",
   "id": "98452a1c-e525-4f65-9289-d9dbea902617",
   "metadata": {},
   "source": [
    "Quesion12.Sort a list in descending order"
   ]
  },
  {
   "cell_type": "code",
   "execution_count": 8,
   "id": "78fcfa46-3cd7-4eb3-9027-a34c474b50d4",
   "metadata": {},
   "outputs": [
    {
     "name": "stdout",
     "output_type": "stream",
     "text": [
      "[58, 21, 9, 8, 6, 5, 4, 3, 2, 1]\n"
     ]
    }
   ],
   "source": [
    "list1= [8,9,4,5,6,21,58,1,2,3]\n",
    "n= len(list1)\n",
    "for i in range(0,n-1):\n",
    "    for j in range(0,n-i-1):\n",
    "        if list1[j]<list1[j+1]:\n",
    "            list1[j],list1[j+1]= list1[j+1],list1[j]\n",
    "print(list1)"
   ]
  },
  {
   "cell_type": "markdown",
   "id": "daac4235-4113-4b78-9cce-5d47366041f8",
   "metadata": {},
   "source": [
    "Quesion13.Create a list of even numbers from 1 to 20."
   ]
  },
  {
   "cell_type": "code",
   "execution_count": 8,
   "id": "09acdc49-993a-49fd-a504-c8f854e041b3",
   "metadata": {},
   "outputs": [],
   "source": [
    "def even_num(n):\n",
    "    list_even = []\n",
    "    for i in range(1,n+1):\n",
    "        if i%2==0:\n",
    "            list_even.append(i)\n",
    "    return list_even"
   ]
  },
  {
   "cell_type": "code",
   "execution_count": 9,
   "id": "690bd13e-0a79-46d6-9e63-ef342816e9e5",
   "metadata": {},
   "outputs": [
    {
     "name": "stdout",
     "output_type": "stream",
     "text": [
      "[2, 4, 6, 8, 10, 12, 14, 16, 18, 20]\n"
     ]
    }
   ],
   "source": [
    "n= 20\n",
    "print(even_num(n))"
   ]
  },
  {
   "cell_type": "markdown",
   "id": "23989a93-ed0e-4543-a4a3-f4e4d13a0d89",
   "metadata": {},
   "source": [
    "Quesion14.Create a list of odd numbers from 1 to 20."
   ]
  },
  {
   "cell_type": "code",
   "execution_count": 25,
   "id": "482d65db-31ae-4916-9657-a0fc0421596b",
   "metadata": {},
   "outputs": [],
   "source": [
    "def odd_num(n1,n2):\n",
    "    list_odd = []\n",
    "    for i in range(n1,n2+1):\n",
    "        if i%2 !=0:\n",
    "            list_odd.append(i)\n",
    "    return list_odd"
   ]
  },
  {
   "cell_type": "code",
   "execution_count": 26,
   "id": "2ab53bc9-0060-4624-8219-cf88d0a5ec59",
   "metadata": {},
   "outputs": [
    {
     "name": "stdout",
     "output_type": "stream",
     "text": [
      "[21, 23, 25, 27, 29, 31, 33, 35, 37, 39, 41, 43, 45, 47, 49, 51, 53, 55, 57, 59, 61, 63, 65, 67, 69, 71, 73, 75, 77, 79, 81, 83, 85, 87, 89, 91, 93, 95, 97, 99]\n"
     ]
    }
   ],
   "source": [
    "n1 = 20\n",
    "n2=100\n",
    "print(odd_num(n1,n2))"
   ]
  },
  {
   "cell_type": "markdown",
   "id": "89f63396-b505-4dd1-8317-b14084284de0",
   "metadata": {},
   "source": [
    "Quesion15. Find the sum of all elements in a list"
   ]
  },
  {
   "cell_type": "code",
   "execution_count": 17,
   "id": "d4ff5187-1e66-475e-b8be-3b4ae215e340",
   "metadata": {},
   "outputs": [],
   "source": [
    "def sum(lists):\n",
    "    sum_of_list= 0\n",
    "    for i in lists:\n",
    "        sum_of_list =i + sum_of_list\n",
    "    return sum_of_list"
   ]
  },
  {
   "cell_type": "code",
   "execution_count": 19,
   "id": "26d55a39-0f47-41a2-8e16-adbe3c70e580",
   "metadata": {},
   "outputs": [
    {
     "name": "stdout",
     "output_type": "stream",
     "text": [
      "55\n"
     ]
    }
   ],
   "source": [
    "list = [1,2,3,4,5,6,7,8,9,10]\n",
    "print(sum(list))"
   ]
  },
  {
   "cell_type": "markdown",
   "id": "877f6950-15d3-4ecf-96db-a21b4288dedb",
   "metadata": {},
   "source": [
    "Quesion16.Find the maximum value in a list"
   ]
  },
  {
   "cell_type": "code",
   "execution_count": 10,
   "id": "d45e9ad1-1b47-48d9-86ca-06b71a328dd3",
   "metadata": {},
   "outputs": [],
   "source": [
    "def maximum_value(list):\n",
    "    maximum_num = 0\n",
    "    for i in list:\n",
    "        if i > maximum_num:\n",
    "            maximum_num = i\n",
    "    return maximum_num"
   ]
  },
  {
   "cell_type": "code",
   "execution_count": 11,
   "id": "373f85ff-3bdd-4527-ace7-666c947b55e2",
   "metadata": {},
   "outputs": [
    {
     "name": "stdout",
     "output_type": "stream",
     "text": [
      "25\n"
     ]
    }
   ],
   "source": [
    "list = [1,2,18,4,15,6,7,8,25,10]\n",
    "print(maximum_value(list))"
   ]
  },
  {
   "cell_type": "code",
   "execution_count": 38,
   "id": "91549e62-6ead-454e-b900-0dff8952477c",
   "metadata": {},
   "outputs": [],
   "source": [
    "def minimum_value(list):\n",
    "    minimum_num = list[0]\n",
    "    for i in list:\n",
    "        if i < minimum_num:\n",
    "            minimum_num = i\n",
    "    return minimum_num"
   ]
  },
  {
   "cell_type": "code",
   "execution_count": 39,
   "id": "83132c6e-5f49-4025-89ed-bca61d70b32f",
   "metadata": {},
   "outputs": [
    {
     "name": "stdout",
     "output_type": "stream",
     "text": [
      "1\n"
     ]
    }
   ],
   "source": [
    "list = [50,18,4,15,1,21,8,25,10]\n",
    "print(minimum_value(list))"
   ]
  },
  {
   "cell_type": "markdown",
   "id": "d8cbf5af-3721-43de-ad87-c1190ee3b8bd",
   "metadata": {},
   "source": [
    "Quesion17.Create a list of squares of numbers from 1 to 10."
   ]
  },
  {
   "cell_type": "code",
   "execution_count": 42,
   "id": "3f36860d-94a5-44ae-9997-2a2a655566be",
   "metadata": {},
   "outputs": [],
   "source": [
    "def squares(n1,n2):\n",
    "    list_of_squares = []\n",
    "    for i in range(n1,n2):\n",
    "        squares = i**2\n",
    "        list_of_squares.append(squares)\n",
    "    return list_of_squares\n",
    "        "
   ]
  },
  {
   "cell_type": "code",
   "execution_count": 46,
   "id": "a5a53dfe-df3e-480c-83fa-02a2890c222c",
   "metadata": {},
   "outputs": [
    {
     "name": "stdout",
     "output_type": "stream",
     "text": [
      "[4, 9, 16, 25, 36, 49, 64, 81, 100, 121, 144, 169, 196]\n"
     ]
    }
   ],
   "source": [
    "n1= 2\n",
    "n2= 15\n",
    "print(squares(n1,n2))"
   ]
  },
  {
   "cell_type": "markdown",
   "id": "ebdb3e3a-ca10-4898-9307-2fd9b8cea216",
   "metadata": {},
   "source": [
    "Quesion19.Create a list of random numbers"
   ]
  },
  {
   "cell_type": "code",
   "execution_count": 47,
   "id": "da37dae4-8e75-4821-854c-6f6c13c41886",
   "metadata": {},
   "outputs": [],
   "source": [
    "def random_list(a,b,n):\n",
    "    list1 = []\n",
    "    \n",
    "    for i in range(10):\n",
    "        list1.append(i)\n",
    "    return list1"
   ]
  },
  {
   "cell_type": "code",
   "execution_count": 48,
   "id": "795d82f9-ba01-4b9f-b76a-9614d758a99f",
   "metadata": {},
   "outputs": [
    {
     "name": "stdout",
     "output_type": "stream",
     "text": [
      "[0, 1, 2, 3, 4, 5, 6, 7, 8, 9]\n"
     ]
    }
   ],
   "source": [
    "n1=1\n",
    "n2= 100\n",
    "print(random_list(n1,n2))"
   ]
  },
  {
   "cell_type": "markdown",
   "id": "2568d0e2-d124-4bfa-8e94-42b8d9696d8a",
   "metadata": {},
   "source": [
    "Quesion20. Remove duplicates from a list."
   ]
  },
  {
   "cell_type": "code",
   "execution_count": 7,
   "id": "a3b2ce35-b49d-4a7b-9886-986ff9f7c392",
   "metadata": {},
   "outputs": [],
   "source": [
    "def remove_duplicates(list1):\n",
    "    list2 = []\n",
    "    for i in list1:\n",
    "        if i not in list2:\n",
    "            list2.append(i)\n",
    "    return list2"
   ]
  },
  {
   "cell_type": "code",
   "execution_count": 8,
   "id": "fcc4d9bd-48f9-4739-b7de-2d1743123a0e",
   "metadata": {},
   "outputs": [
    {
     "name": "stdout",
     "output_type": "stream",
     "text": [
      "[1, 2, 3, 4, 5, 8, 6, 9]\n"
     ]
    }
   ],
   "source": [
    "list1 = [1,2,3,4,5,8,5,2,6,4,9,3]\n",
    "print(remove_duplicates(list1))"
   ]
  },
  {
   "cell_type": "markdown",
   "id": "97aa03dc-23ae-40f1-ab4c-c4b5f9fbf75a",
   "metadata": {},
   "source": [
    "Quesion21.. Find the common elements between two lists"
   ]
  },
  {
   "cell_type": "code",
   "execution_count": 17,
   "id": "5b4e2ec4-5ccf-4717-8552-8adea63ae529",
   "metadata": {},
   "outputs": [],
   "source": [
    "def common_element(list1,list2):\n",
    "    list3 = []\n",
    "    for i in list1:\n",
    "        if i in list2:\n",
    "            list3.append(i)\n",
    "    return list3"
   ]
  },
  {
   "cell_type": "code",
   "execution_count": 20,
   "id": "68ef0c24-537d-496c-ad0a-538129dee0d9",
   "metadata": {},
   "outputs": [
    {
     "name": "stdout",
     "output_type": "stream",
     "text": [
      "[1, 2, 4, 5, 8, 5, 6, 4, 9]\n"
     ]
    }
   ],
   "source": [
    "list1 = [1,2,3,4,5,8,5,6,4,9,3]\n",
    "list2 = [1,5,4,8,7,6,8,4,2,9]\n",
    "print(common_element(list1,list2))"
   ]
  },
  {
   "cell_type": "markdown",
   "id": "bc0f5c1e-4ddc-4704-ba95-145f01a780aa",
   "metadata": {},
   "source": [
    "Quesion22.Find the difference between two lists"
   ]
  },
  {
   "cell_type": "code",
   "execution_count": 40,
   "id": "2270b361-7622-4083-844a-72883478f7e7",
   "metadata": {},
   "outputs": [],
   "source": [
    "def difference_element(list1,list2):\n",
    "    list3 = []\n",
    "    for i in list1:\n",
    "        if i not in list2:\n",
    "            list3.append(i)\n",
    "    return list3"
   ]
  },
  {
   "cell_type": "code",
   "execution_count": 42,
   "id": "854bee91-f0e5-4859-88f4-3703820df702",
   "metadata": {},
   "outputs": [
    {
     "name": "stdout",
     "output_type": "stream",
     "text": [
      "[3, 0]\n"
     ]
    }
   ],
   "source": [
    "list1 = [1,2,3,4,0,5,8,5,6,4,9,]\n",
    "list2 = [1,5,4,8,7,6,8,4,2,9]\n",
    "print(difference_element(list1,list2))"
   ]
  },
  {
   "cell_type": "markdown",
   "id": "60070eec-e551-4c1d-9a43-664ef06e3000",
   "metadata": {},
   "source": [
    "Quesion23.Merge two lists"
   ]
  },
  {
   "cell_type": "code",
   "execution_count": 50,
   "id": "314e31b4-eb6e-4a76-a604-2a46fb616022",
   "metadata": {},
   "outputs": [],
   "source": [
    "def merge(list1,list2):\n",
    "    list4= list1+list2\n",
    "    return list4"
   ]
  },
  {
   "cell_type": "code",
   "execution_count": 51,
   "id": "8654342d-bc1d-4260-a9bb-9fc041c6841b",
   "metadata": {},
   "outputs": [
    {
     "name": "stdout",
     "output_type": "stream",
     "text": [
      "[1, 2, 3, 4, 0, 5, 8, 5, 6, 4, 9, 1, 5, 4, 8, 7, 6, 8, 4, 2, 9]\n"
     ]
    }
   ],
   "source": [
    "list1 = [1,2,3,4,0,5,8,5,6,4,9,]\n",
    "list2 = [1,5,4,8,7,6,8,4,2,9]\n",
    "print(merge(list1,list2))"
   ]
  },
  {
   "cell_type": "markdown",
   "id": "6b2e583f-9211-415e-a81a-ea070b161f97",
   "metadata": {},
   "source": [
    "Quesion24.. Multiply all elements in a list by 2."
   ]
  },
  {
   "cell_type": "code",
   "execution_count": 3,
   "id": "437d47be-ec47-4dd9-ba59-c81a81d4b859",
   "metadata": {},
   "outputs": [],
   "source": [
    "def multiply(list1):\n",
    "    list2 = []\n",
    "    for i in list1:\n",
    "        i=i*2\n",
    "        list2.append(i)\n",
    "    return list2"
   ]
  },
  {
   "cell_type": "code",
   "execution_count": 5,
   "id": "bf46bdef-4163-4a4f-b648-70c7681f8b54",
   "metadata": {},
   "outputs": [
    {
     "name": "stdout",
     "output_type": "stream",
     "text": [
      "[4, 6, 8, 10, 12, 14, 16, 18]\n"
     ]
    }
   ],
   "source": [
    "list1 = [2,3,4,5,6,7,8,9]\n",
    "print(multiply(list1))"
   ]
  },
  {
   "cell_type": "markdown",
   "id": "972384a8-cf63-478d-94ba-f21d7a501618",
   "metadata": {},
   "source": [
    "Quesion25.. Filter out all even numbers from a list."
   ]
  },
  {
   "cell_type": "code",
   "execution_count": 8,
   "id": "8da6457e-83a0-4981-8d53-3cd701c4dadd",
   "metadata": {},
   "outputs": [],
   "source": [
    "def filter_even_num(list1):\n",
    "    list2 = []\n",
    "    for i in list1:\n",
    "        if i%2==0:\n",
    "            list2.append(i)\n",
    "    return list2\n",
    "            "
   ]
  },
  {
   "cell_type": "code",
   "execution_count": 9,
   "id": "a8d701f8-b8eb-4954-b135-98fc3c906e6f",
   "metadata": {},
   "outputs": [
    {
     "name": "stdout",
     "output_type": "stream",
     "text": [
      "[2, 4, 2, 88, 6, 10]\n"
     ]
    }
   ],
   "source": [
    "list1= [2,5,1,4,55,9,2,88,3,6,7,10]\n",
    "print(filter_even_num(list1))"
   ]
  },
  {
   "cell_type": "markdown",
   "id": "92910e16-e16f-4618-9a3a-30714432e229",
   "metadata": {},
   "source": [
    "Quesion26.. Convert a list of strings to a list of integers"
   ]
  },
  {
   "cell_type": "code",
   "execution_count": 10,
   "id": "c664d82d-a9cc-46c1-97a7-e5f69f9e4c8b",
   "metadata": {},
   "outputs": [],
   "source": [
    "def integers(list1):\n",
    "    list2= []\n",
    "    for i in list1:\n",
    "        list2.append(int(i))\n",
    "    return list2"
   ]
  },
  {
   "cell_type": "code",
   "execution_count": 11,
   "id": "284f1623-5207-4a9f-a5fe-5d22394e3539",
   "metadata": {},
   "outputs": [
    {
     "name": "stdout",
     "output_type": "stream",
     "text": [
      "[1, 2, 3, 4, 5]\n"
     ]
    }
   ],
   "source": [
    "list1= [\"1\",\"2\",\"3\",\"4\",\"5\"]\n",
    "print(integers(list1))"
   ]
  },
  {
   "cell_type": "markdown",
   "id": "cb786675-3d6c-4a90-bbfe-411800c0576b",
   "metadata": {},
   "source": [
    "Quesion27.. Convert a list of integers to a list of strings."
   ]
  },
  {
   "cell_type": "code",
   "execution_count": 14,
   "id": "2c535102-f783-4621-9d5c-57162f1b9a2c",
   "metadata": {},
   "outputs": [],
   "source": [
    "def string(list1):\n",
    "    list_of_string = []\n",
    "    for i in list1:\n",
    "         list_of_string.append(str(i))\n",
    "    return  list_of_string"
   ]
  },
  {
   "cell_type": "code",
   "execution_count": 15,
   "id": "fa3d2496-7a58-4bd1-8212-490261c7c493",
   "metadata": {},
   "outputs": [
    {
     "name": "stdout",
     "output_type": "stream",
     "text": [
      "['2', '5', '1', '4', '55', '9', '2', '88', '3', '6', '7', '10']\n"
     ]
    }
   ],
   "source": [
    "list1= [2,5,1,4,55,9,2,88,3,6,7,10]\n",
    "print(string(list1))"
   ]
  },
  {
   "cell_type": "markdown",
   "id": "e1bee589-7827-418d-86ab-9d7d99f528b8",
   "metadata": {},
   "source": [
    "Quesion28. Flatten a nested list."
   ]
  },
  {
   "cell_type": "code",
   "execution_count": 28,
   "id": "fba34406-1e7c-45e0-ab18-25b6ea62e8d0",
   "metadata": {},
   "outputs": [],
   "source": [
    "def flatten_of_nested(list1):\n",
    "    flatten= []\n",
    "    for sublist in list1:\n",
    "        for i in sublist:\n",
    "            flatten.append(i)\n",
    "    return flatten\n"
   ]
  },
  {
   "cell_type": "code",
   "execution_count": 27,
   "id": "61b63674-706b-4381-854f-73c9e8864f1d",
   "metadata": {},
   "outputs": [
    {
     "name": "stdout",
     "output_type": "stream",
     "text": [
      "[1, 2, 3, 4, 5, 6, 7, 8]\n"
     ]
    }
   ],
   "source": [
    "list1 = [[1, 2, 3], [4, 5], [6, 7, 8]]\n",
    "print(flatten_of_nested(list1))"
   ]
  },
  {
   "cell_type": "markdown",
   "id": "4a7069dc-878a-4bc2-835d-b7996f19bd12",
   "metadata": {},
   "source": [
    "Quesion29.Create a list of the first 10 Fibonacci numbers."
   ]
  },
  {
   "cell_type": "code",
   "execution_count": 9,
   "id": "ebcde283-d555-4562-9341-71c937f00809",
   "metadata": {},
   "outputs": [],
   "source": [
    "def fibonacci_list(a,b,n):\n",
    "    list1 = []\n",
    "    while n>0:\n",
    "        c = a+b\n",
    "        list1.append(c)\n",
    "        a,b = b,a+b\n",
    "        n-=1\n",
    "    return list1\n",
    "    "
   ]
  },
  {
   "cell_type": "code",
   "execution_count": 10,
   "id": "b82affdb-7336-4ff8-b1ad-a637d85962b9",
   "metadata": {},
   "outputs": [
    {
     "name": "stdout",
     "output_type": "stream",
     "text": [
      "[1, 2, 3, 5, 8, 13, 21, 34, 55, 89]\n"
     ]
    }
   ],
   "source": [
    "a= 0\n",
    "b= 1\n",
    "n = 10\n",
    "print( fibonacci_list(a,b,n))"
   ]
  },
  {
   "cell_type": "code",
   "execution_count": 16,
   "id": "47e96f8c-8569-4669-aa78-cee54eb5d465",
   "metadata": {},
   "outputs": [
    {
     "name": "stdout",
     "output_type": "stream",
     "text": [
      "0\n",
      "1\n",
      "1\n",
      "2\n",
      "3\n",
      "5\n",
      "8\n",
      "13\n",
      "21\n",
      "34\n"
     ]
    }
   ],
   "source": [
    "def fibonacci_for_loop(a,b,n):\n",
    "    \n",
    "    for i in range(n):\n",
    "        print(a)\n",
    "        a, b = b, a + b\n",
    "\n",
    "\n",
    "fibonacci_for_loop(0,1,10)"
   ]
  },
  {
   "cell_type": "code",
   "execution_count": 29,
   "id": "92231e0a-1beb-41a8-ac19-62d8172aeb5b",
   "metadata": {},
   "outputs": [],
   "source": [
    "def check_list_is_sorted(list1):\n",
    "    x = list1[:]\n",
    "    x.sort()\n",
    "    if x==list1:\n",
    "        return True\n",
    "    \n",
    "    else:\n",
    "        return False\n",
    "    "
   ]
  },
  {
   "cell_type": "code",
   "execution_count": 30,
   "id": "aa8e1fb7-822b-463f-a64f-4818200873bb",
   "metadata": {},
   "outputs": [
    {
     "name": "stdout",
     "output_type": "stream",
     "text": [
      "False\n"
     ]
    }
   ],
   "source": [
    "list1= [1,2,7,4,5,6]\n",
    "print(check_list_is_sorted(list1))\n"
   ]
  },
  {
   "cell_type": "markdown",
   "id": "82e71cd6-5539-4a27-a612-846da2b943d0",
   "metadata": {},
   "source": [
    "Quesion31.Rotate a list to the left by `n` positions."
   ]
  },
  {
   "cell_type": "code",
   "execution_count": 87,
   "id": "8a8f2f46-6e51-451d-874c-afb7d9ec50ff",
   "metadata": {},
   "outputs": [],
   "source": [
    "def left_rotate(list1,n):\n",
    "    for i in range(n):\n",
    "        last_element = list1.pop(-1)\n",
    "        list1.insert(0,last_element)\n",
    "    return list1\n"
   ]
  },
  {
   "cell_type": "code",
   "execution_count": 88,
   "id": "c1b2037f-38a6-40e2-a381-7b2c3f47c949",
   "metadata": {},
   "outputs": [
    {
     "name": "stdout",
     "output_type": "stream",
     "text": [
      "[4, 5, 1, 2, 3]\n"
     ]
    }
   ],
   "source": [
    "list1= [1,2,3,4,5]\n",
    "n= 2\n",
    "print(left_rotate(list1,n))"
   ]
  },
  {
   "cell_type": "markdown",
   "id": "a10d73bb-9c1a-490d-a52c-1c39de753da7",
   "metadata": {},
   "source": [
    "Quesion32. Rotate a list to the right by `n` positions."
   ]
  },
  {
   "cell_type": "code",
   "execution_count": 76,
   "id": "7118ad6c-77ea-443f-a3c8-6e610c1aca50",
   "metadata": {},
   "outputs": [],
   "source": [
    "def right_rotate(lst, n):  \n",
    "    return lst[-n:] + lst[:-n]"
   ]
  },
  {
   "cell_type": "code",
   "execution_count": 77,
   "id": "ac10829a-33f3-4630-95f2-db1c5856f0c3",
   "metadata": {},
   "outputs": [
    {
     "name": "stdout",
     "output_type": "stream",
     "text": [
      "[5, 6, 1, 2, 7, 4]\n"
     ]
    }
   ],
   "source": [
    "lst1= [1,2,7,4,5,6]\n",
    "n= 2\n",
    "print(right_rotate(lst1,n))"
   ]
  },
  {
   "cell_type": "code",
   "execution_count": 82,
   "id": "cf770220-744d-4dfc-b484-fbba4212b201",
   "metadata": {},
   "outputs": [
    {
     "name": "stdout",
     "output_type": "stream",
     "text": [
      "[3, 4, 5, 1, 2]\n"
     ]
    }
   ],
   "source": [
    "def left_rotate(lst, n):\n",
    "    for i in range(n):\n",
    "        lst.append(lst.pop(0))  \n",
    "    return lst\n",
    "\n",
    "\n",
    "lst = [1, 2, 3, 4, 5]\n",
    "n = 2\n",
    "print(left_rotate(lst, n))"
   ]
  },
  {
   "cell_type": "markdown",
   "id": "98fe233e-7511-4548-ab97-d1c2df03a707",
   "metadata": {},
   "source": [
    "Quesion33.Create a list of prime numbers up to 50"
   ]
  },
  {
   "cell_type": "code",
   "execution_count": 11,
   "id": "fa68699b-0ca4-4dae-810e-3235a288f3ea",
   "metadata": {},
   "outputs": [
    {
     "name": "stdout",
     "output_type": "stream",
     "text": [
      "2 3 5 7 11 13 17 19 23 29 31 37 41 43 47 "
     ]
    }
   ],
   "source": [
    "def prime_number (n):\n",
    "    for i in range(2,n):\n",
    "        if n%i==0:\n",
    "            return False\n",
    "    return True\n",
    "N = 50\n",
    "for i in range(2,N+1):\n",
    "    if prime_number(i):\n",
    "        print(i,end = \" \")"
   ]
  },
  {
   "cell_type": "markdown",
   "id": "c63060ff-ef6c-4b8d-bf27-742367322883",
   "metadata": {},
   "source": [
    "Qiesion33.Split a list into chunks of size `n`."
   ]
  },
  {
   "cell_type": "code",
   "execution_count": 12,
   "id": "b1021213-d072-4715-8832-0065707d3778",
   "metadata": {},
   "outputs": [
    {
     "name": "stdout",
     "output_type": "stream",
     "text": [
      "[[1, 2, 3], [4, 5, 6], [7, 8, 9], [10]]\n"
     ]
    }
   ],
   "source": [
    "def chunk_list(lst, n):\n",
    "    .\n",
    "\n",
    "    \n",
    "    for i in range(0, len(lst), n):\n",
    "        yield lst[i:i + n]\n",
    "\n",
    "my_list = [1, 2, 3, 4, 5, 6, 7, 8, 9, 10]\n",
    "chunk_size = 3\n",
    "chunks = list(chunk_list(my_list, chunk_size))\n",
    "print(chunks)"
   ]
  },
  {
   "cell_type": "markdown",
   "id": "5f8ce796-e391-4d4c-a9fe-e5c6329ddd21",
   "metadata": {},
   "source": [
    "Quesion35.. Find the second largest number in a list"
   ]
  },
  {
   "cell_type": "code",
   "execution_count": 1,
   "id": "243a5cf4-05b8-401c-85c2-616cab83288f",
   "metadata": {},
   "outputs": [],
   "source": [
    "def second_largest_num(list1):\n",
    "    largest= 0\n",
    "    for i in (list1):\n",
    "        if i > largest :\n",
    "            second_largest = largest\n",
    "            largest = i\n",
    "    return second_largest\n",
    "        \n",
    "        "
   ]
  },
  {
   "cell_type": "code",
   "execution_count": 2,
   "id": "53957588-6c9c-42c0-ba2c-28ee3d0e76b1",
   "metadata": {},
   "outputs": [
    {
     "name": "stdout",
     "output_type": "stream",
     "text": [
      "18\n"
     ]
    }
   ],
   "source": [
    "list1=[1,2,3,5,4,18,7,9,2,5,15,19]\n",
    "print(second_largest_num(list1))"
   ]
  },
  {
   "cell_type": "markdown",
   "id": "67fa4dec-001c-4f00-89e3-bbf37e5f59e0",
   "metadata": {},
   "source": [
    "Quesion36.Replace every element in a list with its square."
   ]
  },
  {
   "cell_type": "code",
   "execution_count": 3,
   "id": "04d6f319-e2ed-4a4f-bf78-16b2fea530ab",
   "metadata": {},
   "outputs": [],
   "source": [
    "def square(list1):\n",
    "    list2 = []\n",
    "    for i in list1:\n",
    "        list2.append(i**2)\n",
    "    return list2\n",
    "        \n",
    "    "
   ]
  },
  {
   "cell_type": "code",
   "execution_count": 4,
   "id": "3da6d1db-1906-4c3d-8069-b6ed98ccb0a5",
   "metadata": {},
   "outputs": [
    {
     "name": "stdout",
     "output_type": "stream",
     "text": [
      "[1, 4, 9, 25, 16, 324, 49, 81, 4, 25, 225, 361]\n"
     ]
    }
   ],
   "source": [
    "list1 =[1,2,3,5,4,18,7,9,2,5,15,19]\n",
    "print( square(list1))"
   ]
  },
  {
   "cell_type": "markdown",
   "id": "8e56f5b2-aff5-4620-a2f0-2e7c4db3093f",
   "metadata": {},
   "source": [
    "Quesion37. Convert a list to a dictionary where list elements become keys and their\n",
    "indices become values.\n"
   ]
  },
  {
   "cell_type": "code",
   "execution_count": 103,
   "id": "4ecc30b5-5cd2-44e7-bf26-8dbc9e55fa38",
   "metadata": {},
   "outputs": [
    {
     "name": "stdout",
     "output_type": "stream",
     "text": [
      "{1: 0, 2: 8, 3: 2, 5: 9, 4: 4, 18: 5, 7: 6, 9: 7, 15: 10, 19: 11}\n"
     ]
    }
   ],
   "source": [
    "my_list = [1,2,3,5,4,18,7,9,2,5,15,19]\n",
    "my_dict = {}\n",
    "\n",
    "for i in range(len(my_list)):\n",
    "    my_dict[my_list[i]] = i\n",
    "\n",
    "print(my_dict)"
   ]
  },
  {
   "cell_type": "markdown",
   "id": "c79a02eb-a86b-4779-8dce-e69e8b29c81d",
   "metadata": {},
   "source": [
    "Quesion38.Shuffle the elements of a list randomly."
   ]
  },
  {
   "cell_type": "code",
   "execution_count": 5,
   "id": "58161f20-525e-4023-991e-97860f3a8c8f",
   "metadata": {},
   "outputs": [],
   "source": [
    "def shuffle(list1):\n",
    "    shuffal =  list1[::-1]\n",
    "    shuffal = shuffal[-1:] + shuffal[:-1]  \n",
    "    return shuffal"
   ]
  },
  {
   "cell_type": "code",
   "execution_count": 12,
   "id": "55334481-65fd-47a2-b8da-cc37c835e181",
   "metadata": {},
   "outputs": [
    {
     "name": "stdout",
     "output_type": "stream",
     "text": [
      "[1, 19, 15, 5, 2, 9, 7, 18, 4, 5, 3, 2]\n"
     ]
    }
   ],
   "source": [
    "list1 = [1,2,3,5,4,18,7,9,2,5,15,19]\n",
    "print(shuffle(list1))"
   ]
  },
  {
   "cell_type": "markdown",
   "id": "3e7e5b0c-c273-4469-809f-7ff19c2a31d8",
   "metadata": {},
   "source": [
    "Quesion39. Create a list of the first 10 factorial numbers."
   ]
  },
  {
   "cell_type": "code",
   "execution_count": 6,
   "id": "99519c38-f862-4c55-b398-61a37d6029ae",
   "metadata": {},
   "outputs": [
    {
     "name": "stdout",
     "output_type": "stream",
     "text": [
      "[1, 2, 6, 24, 120, 720, 5040, 40320, 362880]\n"
     ]
    }
   ],
   "source": [
    "factorials = []\n",
    "fact = 1\n",
    "for i in range(1,10):\n",
    "    fact= fact* i\n",
    "    factorials.append(fact)\n",
    "\n",
    "print(factorials)"
   ]
  },
  {
   "cell_type": "markdown",
   "id": "caefd2a9-25ac-4619-9fe7-c9bafbd62d71",
   "metadata": {},
   "source": [
    "Quesion40. Check if two lists have at least one element in common.  "
   ]
  },
  {
   "cell_type": "code",
   "execution_count": 16,
   "id": "394da6c8-61eb-4338-8b3f-666846c9fedc",
   "metadata": {},
   "outputs": [],
   "source": [
    "def common(list1,list2):\n",
    "    for i in list1:\n",
    "        if i in list2:\n",
    "            return True\n",
    "    else:\n",
    "        return False\n",
    "         \n",
    "    \n",
    "            "
   ]
  },
  {
   "cell_type": "code",
   "execution_count": 17,
   "id": "cf7fa551-e03b-4ee7-ab23-bfa008d6c66a",
   "metadata": {},
   "outputs": [
    {
     "name": "stdout",
     "output_type": "stream",
     "text": [
      "True\n"
     ]
    }
   ],
   "source": [
    "list1 = [1,2,3,4,5]\n",
    "list2 = [5,6,7,8,9]\n",
    "print(common(list1,list2))"
   ]
  },
  {
   "cell_type": "markdown",
   "id": "cb2cd59a-b52d-4285-aa69-eac775af213e",
   "metadata": {},
   "source": [
    "Quesion41.. Remove all elements from a list."
   ]
  },
  {
   "cell_type": "code",
   "execution_count": 23,
   "id": "ce830be3-cb0e-485e-b150-a7f8daef4899",
   "metadata": {},
   "outputs": [
    {
     "name": "stdout",
     "output_type": "stream",
     "text": [
      "[]\n",
      "None\n"
     ]
    }
   ],
   "source": [
    "def remove(list1):\n",
    "    list1[:] =[]\n",
    "    print(list1)\n",
    "list1= [1,2,3,4,5,6]\n",
    "print(remove(list1))"
   ]
  },
  {
   "cell_type": "markdown",
   "id": "45ecb016-380a-4cf8-8922-73d39478303c",
   "metadata": {},
   "source": [
    "Quesion42.. Replace negative numbers in a list with 0."
   ]
  },
  {
   "cell_type": "code",
   "execution_count": 29,
   "id": "a66f3fc9-6f8d-4a44-b5c5-3b817e661db0",
   "metadata": {},
   "outputs": [],
   "source": [
    "def replace_negative_num(list1):\n",
    "    list2 = []\n",
    "    for i in list1:\n",
    "        if i<0:\n",
    "            list2.append(0)\n",
    "        else:\n",
    "            list2.append(i)\n",
    "    return list2\n",
    "            "
   ]
  },
  {
   "cell_type": "code",
   "execution_count": 30,
   "id": "e095642f-ea97-4852-b250-15c827ea923c",
   "metadata": {},
   "outputs": [
    {
     "name": "stdout",
     "output_type": "stream",
     "text": [
      "[1, 2, 3, 0, 0, 0, 7, 8, 9]\n"
     ]
    }
   ],
   "source": [
    "list1 = [1,2,3,-4,-5,-6,7,8,9]\n",
    "print(replace_negative_num(list1))"
   ]
  },
  {
   "cell_type": "markdown",
   "id": "f1e8b749-94e7-42d6-bdf9-3ace09902f76",
   "metadata": {},
   "source": [
    "Quesion 43.Convert a string into a list of words."
   ]
  },
  {
   "cell_type": "code",
   "execution_count": 15,
   "id": "06bbe0f2-c645-4aef-93ab-6c1c258bdeea",
   "metadata": {},
   "outputs": [
    {
     "name": "stdout",
     "output_type": "stream",
     "text": [
      "['Shuffle', 'the', 'elements', 'of', 'a', 'list', 'randomly']\n"
     ]
    }
   ],
   "source": [
    "def  split(string):\n",
    "    list1 =[]\n",
    "    start = 0\n",
    "    for i in range(0,len(string)):\n",
    "        if string[i] ==\" \":\n",
    "            space_index = i\n",
    "            word = string[start:space_index]\n",
    "            start = space_index+1\n",
    "            list1.append(word)\n",
    "    list1.append(string[start:])\n",
    "    return list1\n",
    "            \n",
    "string = \"Shuffle the elements of a list randomly\"        \n",
    "print(split(string)) "
   ]
  },
  {
   "cell_type": "markdown",
   "id": "0a708bf0-4bfe-4ca1-8bb0-102b0d716c8c",
   "metadata": {},
   "source": [
    "Quesion44.Convert a list of words into a string"
   ]
  },
  {
   "cell_type": "code",
   "execution_count": 29,
   "id": "20b21f71-db1c-4101-b675-b335899993ef",
   "metadata": {},
   "outputs": [],
   "source": [
    "def list_to_string(list1):\n",
    "    string  = \"\"\n",
    "    for i in list1:\n",
    "        string = string+i +\" \"\n",
    "        \n",
    "    return string"
   ]
  },
  {
   "cell_type": "code",
   "execution_count": 30,
   "id": "f98a9daa-54a7-4ece-b138-6e9e0a1b4b47",
   "metadata": {},
   "outputs": [
    {
     "name": "stdout",
     "output_type": "stream",
     "text": [
      "Shuffle the elements of a list randomly \n"
     ]
    }
   ],
   "source": [
    "list1 = ['Shuffle', 'the', 'elements', 'of', 'a', 'list', 'randomly']\n",
    "print(list_to_string(list1))"
   ]
  },
  {
   "cell_type": "markdown",
   "id": "e10569ef-0474-4e48-9399-d1d566efd128",
   "metadata": {},
   "source": [
    "Quesion45.Create a list of the first `n` powers of 2."
   ]
  },
  {
   "cell_type": "code",
   "execution_count": 37,
   "id": "a7db0e81-51fc-4fb4-bd25-29fe19b0a6fa",
   "metadata": {},
   "outputs": [],
   "source": [
    "def generate_powers_of_2(n1,n2):\n",
    "    if n<0:\n",
    "        return []\n",
    "    power_of_list = []\n",
    "    for i in range(n1,n2):\n",
    "        power_of_list.append(i**2)\n",
    "    return power_of_list"
   ]
  },
  {
   "cell_type": "code",
   "execution_count": 39,
   "id": "2b308792-7bcd-45f2-b35f-911ba4ce4c80",
   "metadata": {},
   "outputs": [
    {
     "name": "stdout",
     "output_type": "stream",
     "text": [
      "[100, 121, 144, 169, 196, 225, 256, 289, 324, 361, 400]\n"
     ]
    }
   ],
   "source": [
    "n1 = 10\n",
    "n2 = 21\n",
    "print(generate_powers_of_2(n1,n2))"
   ]
  },
  {
   "cell_type": "markdown",
   "id": "c9c9be72-f42f-4692-913c-8a0745494a48",
   "metadata": {},
   "source": [
    "Quesion46.. Find the longest string in a list of strings."
   ]
  },
  {
   "cell_type": "code",
   "execution_count": 46,
   "id": "40eaef84-48d3-4f92-9133-3ad97d7b5a18",
   "metadata": {},
   "outputs": [
    {
     "name": "stdout",
     "output_type": "stream",
     "text": [
      "skanvojnndlmCKOC\n"
     ]
    }
   ],
   "source": [
    "strings = [\"apple\", \"banana\", \"k\", \"grapefruit\",\"skanvojnndlmCKOC\"]\n",
    "longest_string = \"\"\n",
    "\n",
    "for s in strings:\n",
    "    if len(s) > len(longest_string):\n",
    "        longest_string = s\n",
    "\n",
    "print(longest_string)"
   ]
  },
  {
   "cell_type": "markdown",
   "id": "1fa87de7-0028-40a9-99e5-83c492a8cb94",
   "metadata": {},
   "source": [
    "Quesion47.Find the shortest string in a list of strings"
   ]
  },
  {
   "cell_type": "code",
   "execution_count": 51,
   "id": "06bbaf4f-a51f-4868-9b8e-afc30052d2af",
   "metadata": {},
   "outputs": [
    {
     "name": "stdout",
     "output_type": "stream",
     "text": [
      "kiwi\n"
     ]
    }
   ],
   "source": [
    "def find_shortest_string(string_list):\n",
    "    if not string_list:\n",
    "        return None  \n",
    "\n",
    "    shortest_string = string_list[0]\n",
    "    for s in string_list[1:]:\n",
    "        if len(s) < len(shortest_string):\n",
    "            shortest_string = s\n",
    "    return shortest_string\n",
    "\n",
    "string_list = [\"apple\", \"banana\", \"kiwi\", \"grape\"]\n",
    "result = find_shortest_string(string_list)\n",
    "print(result)"
   ]
  },
  {
   "cell_type": "markdown",
   "id": "5ab8a9c3-4582-4651-900a-d9beeb5d125a",
   "metadata": {},
   "source": [
    "Quesion48.Create a list of the first `n` triangular numbers."
   ]
  },
  {
   "cell_type": "code",
   "execution_count": 68,
   "id": "7c43380c-8448-41ce-8b7a-60da372a472b",
   "metadata": {},
   "outputs": [],
   "source": [
    "def triangular_numbers(n):\n",
    "    list1 = []\n",
    "    for i in range(1,n):\n",
    "        j = i*(i+1)/2\n",
    "        list1.append(int(j))\n",
    "    return list1\n",
    "    "
   ]
  },
  {
   "cell_type": "code",
   "execution_count": 69,
   "id": "d3c1ab2c-eca4-49c8-bdd4-577cf57ce03d",
   "metadata": {},
   "outputs": [
    {
     "name": "stdout",
     "output_type": "stream",
     "text": [
      "[1, 3, 6, 10, 15, 21, 28, 36, 45]\n"
     ]
    }
   ],
   "source": [
    "n =10\n",
    "print( triangular_numbers(n))"
   ]
  },
  {
   "cell_type": "markdown",
   "id": "972958df-6a79-4c94-975b-80de79eb444c",
   "metadata": {},
   "source": [
    "# Tuple"
   ]
  },
  {
   "cell_type": "markdown",
   "id": "03bfd4e2-df53-4dcd-99a2-48d3b685fed8",
   "metadata": {},
   "source": [
    "Quesion1.. Create a tuple with integers from 1 to 5"
   ]
  },
  {
   "cell_type": "code",
   "execution_count": 78,
   "id": "c7d6984c-0976-4b78-b008-3ccaed1d5efb",
   "metadata": {},
   "outputs": [],
   "source": [
    "def tuple_int(n):\n",
    "    tuple1 = ()\n",
    "    list1 =[]\n",
    "    for i in range(1,n+1):\n",
    "        list1.append(i)\n",
    "        tuple1 = tuple(list1)\n",
    "    return tuple1\n",
    "        \n",
    "    \n",
    "    \n",
    "    "
   ]
  },
  {
   "cell_type": "code",
   "execution_count": 79,
   "id": "92366874-1bdc-4975-8520-dad23dc486da",
   "metadata": {},
   "outputs": [
    {
     "name": "stdout",
     "output_type": "stream",
     "text": [
      "(1, 2, 3, 4, 5)\n"
     ]
    }
   ],
   "source": [
    "n = 5\n",
    "print(tuple_int(n))"
   ]
  },
  {
   "cell_type": "markdown",
   "id": "ab6b513e-5c58-4065-bac3-171bd996e796",
   "metadata": {},
   "source": [
    "Quesion2.Access the third element of a tuple"
   ]
  },
  {
   "cell_type": "code",
   "execution_count": 76,
   "id": "465e098e-9548-4c58-9d14-c6f35794203d",
   "metadata": {},
   "outputs": [
    {
     "data": {
      "text/plain": [
       "'kumar'"
      ]
     },
     "execution_count": 76,
     "metadata": {},
     "output_type": "execute_result"
    }
   ],
   "source": [
    "tuple1 = (1,2,\"Mohit\",\"kumar\",5)\n",
    "tuple1[3]"
   ]
  },
  {
   "cell_type": "markdown",
   "id": "7041f3f6-85a9-4621-acee-617b82fb9d8f",
   "metadata": {},
   "source": [
    "Quesion3.Find the length of a tuple without using the `len()` function."
   ]
  },
  {
   "cell_type": "code",
   "execution_count": 87,
   "id": "5868605e-ee86-4540-a588-5716def74cca",
   "metadata": {},
   "outputs": [],
   "source": [
    "def lenth(tup):\n",
    "    length = 0\n",
    "    for i in tup:\n",
    "        length+=1\n",
    "    return length"
   ]
  },
  {
   "cell_type": "code",
   "execution_count": 88,
   "id": "51eb57af-f33c-4710-8a2e-73d63876c5a6",
   "metadata": {},
   "outputs": [
    {
     "name": "stdout",
     "output_type": "stream",
     "text": [
      "8\n"
     ]
    }
   ],
   "source": [
    "tup = (1,2,\"Mohit\",\"kumar\",5,65.5,658541,2141)\n",
    "print(lenth(tup))"
   ]
  },
  {
   "cell_type": "markdown",
   "id": "1aec8e9b-69fe-4827-81af-1f5a6aceb026",
   "metadata": {},
   "source": [
    "Quesion4.. Insert an element at a specific index in a list"
   ]
  },
  {
   "cell_type": "code",
   "execution_count": 91,
   "id": "8f32ed92-0508-4d2f-8fa5-39970a10b118",
   "metadata": {},
   "outputs": [
    {
     "data": {
      "text/plain": [
       "(1, 2, 'Mohit', 'kumar', 5, 'rohit', 658541, 2141)"
      ]
     },
     "execution_count": 91,
     "metadata": {},
     "output_type": "execute_result"
    }
   ],
   "source": [
    "tup = (1,2,\"Mohit\",\"kumar\",5,65.5,658541,2141)\n",
    "list1 = list(tup)\n",
    "list1[5] = \"rohit\"\n",
    "tup = tuple(list1)\n",
    "tup"
   ]
  },
  {
   "cell_type": "markdown",
   "id": "0c326094-a9de-48b2-baca-b130755707cd",
   "metadata": {},
   "source": [
    "Quesion5.Count the occurrences of an element in a tuple"
   ]
  },
  {
   "cell_type": "code",
   "execution_count": 93,
   "id": "620c1c7d-a811-49fd-8429-a75cd11c2bc5",
   "metadata": {},
   "outputs": [],
   "source": [
    "def count_of_occurences(tup,word):\n",
    "    count = 0\n",
    "    for i in tup:\n",
    "        if i==word:\n",
    "            count+=1\n",
    "    return count\n",
    "            "
   ]
  },
  {
   "cell_type": "code",
   "execution_count": 95,
   "id": "d6215c44-b448-4a3a-8604-5537a45eeba7",
   "metadata": {},
   "outputs": [
    {
     "name": "stdout",
     "output_type": "stream",
     "text": [
      "3\n"
     ]
    }
   ],
   "source": [
    "tup = (1,2,\"mohit\",\"kumar\",5,65.5,658541,2141,\"mohit\",\"mohit\")\n",
    "word = \"mohit\"\n",
    "print(count_of_occurences(tup,word))"
   ]
  },
  {
   "cell_type": "markdown",
   "id": "e96b062b-f64b-499c-ba06-affc692de4d1",
   "metadata": {},
   "source": [
    "Quesion6.Find the index of the first occurrence of an element in a tuple."
   ]
  },
  {
   "cell_type": "code",
   "execution_count": 3,
   "id": "ab93c995-ab22-4965-bf43-72ff59b9d452",
   "metadata": {},
   "outputs": [],
   "source": [
    "def  first_occurrence(tup,element):\n",
    "    \n",
    "    for i in range(0,len(tup)):\n",
    "        if tup[i] == element:\n",
    "            j = i\n",
    "            break\n",
    "    return j\n",
    "            "
   ]
  },
  {
   "cell_type": "code",
   "execution_count": 4,
   "id": "13bbba97-956d-4741-b3be-8410da94f0cd",
   "metadata": {},
   "outputs": [
    {
     "name": "stdout",
     "output_type": "stream",
     "text": [
      "2\n"
     ]
    }
   ],
   "source": [
    "tup = (1,2,\"mohit\",\"kumar\",5,65.5,658541,2141,\"mohit\",\"mohit\")\n",
    "element = \"mohit\"\n",
    "print(first_occurrence(tup,element))"
   ]
  },
  {
   "cell_type": "code",
   "execution_count": null,
   "id": "2e768061-0472-4bb5-81a1-e2e5f3b60664",
   "metadata": {},
   "outputs": [],
   "source": [
    "Quesion6. Check if an element exists in a tuple"
   ]
  },
  {
   "cell_type": "code",
   "execution_count": 18,
   "id": "72f04c52-ffe3-47fa-82ad-3390f403bc12",
   "metadata": {},
   "outputs": [],
   "source": [
    "def check(tup,element):\n",
    "    for i in range(0,len(tup)):\n",
    "        if tup[i] == element:\n",
    "            return True\n",
    "            break\n",
    "    else:\n",
    "        return  False"
   ]
  },
  {
   "cell_type": "code",
   "execution_count": 19,
   "id": "f42ed3d1-950b-4fd4-8de3-3f930a30da45",
   "metadata": {},
   "outputs": [
    {
     "name": "stdout",
     "output_type": "stream",
     "text": [
      "True\n"
     ]
    }
   ],
   "source": [
    "tup = (1,2,\"mohit\",\"kumar\",5,65.5,658541,2141,\"mohit\",\"mohit\")\n",
    "element = 2\n",
    "print(check(tup,element))\n"
   ]
  },
  {
   "cell_type": "markdown",
   "id": "188048b8-2964-40d4-bb88-776843689a9f",
   "metadata": {},
   "source": [
    "Quesion7. Convert a tuple to a list."
   ]
  },
  {
   "cell_type": "code",
   "execution_count": 23,
   "id": "c93fc87a-9050-4606-a0e4-4120819d5703",
   "metadata": {},
   "outputs": [],
   "source": [
    "def tuple_to_list(tup):\n",
    "    list1=[]\n",
    "    for i in tup:\n",
    "        list1.append(i)\n",
    "    return list1"
   ]
  },
  {
   "cell_type": "code",
   "execution_count": 24,
   "id": "829fdce7-a82e-4a4f-a66b-db5904853fc6",
   "metadata": {},
   "outputs": [
    {
     "name": "stdout",
     "output_type": "stream",
     "text": [
      "[1, 2, 'mohit', 'kumar', 5, 65.5, 658541, 2141, 'mohit', 'mohit']\n"
     ]
    }
   ],
   "source": [
    "tup = (1,2,\"mohit\",\"kumar\",5,65.5,658541,2141,\"mohit\",\"mohit\")\n",
    "print(tuple_to_list(tup))"
   ]
  },
  {
   "cell_type": "markdown",
   "id": "9d897c28-8501-4ed1-bcd8-9c088bbafb43",
   "metadata": {},
   "source": [
    "Quesion8.Convert a list to a tuple"
   ]
  },
  {
   "cell_type": "code",
   "execution_count": 25,
   "id": "8c374489-aea3-4bbf-82d4-1196e3c299db",
   "metadata": {},
   "outputs": [],
   "source": [
    "def list_to_tuple(list1):\n",
    "    tup =()\n",
    "    list2  =[]\n",
    "    for i in list1:\n",
    "        list2.append(i)\n",
    "        tup = tuple(list2)\n",
    "    return tup\n",
    "        "
   ]
  },
  {
   "cell_type": "code",
   "execution_count": 26,
   "id": "430e6efc-fd47-447f-b5ba-3547021f6a32",
   "metadata": {},
   "outputs": [
    {
     "name": "stdout",
     "output_type": "stream",
     "text": [
      "(1, 2, 'mohit', 'kumar', 5, 65.5, 658541, 2141, 'mohit', 'mohit')\n"
     ]
    }
   ],
   "source": [
    "list1 = [1,2,\"mohit\",\"kumar\",5,65.5,658541,2141,\"mohit\",\"mohit\"]\n",
    "print( list_to_tuple(list1))"
   ]
  },
  {
   "cell_type": "markdown",
   "id": "0577bf04-5433-4205-92c4-03b16512c611",
   "metadata": {},
   "source": [
    "Quesion9.Unpack the elements of a tuple into variables"
   ]
  },
  {
   "cell_type": "code",
   "execution_count": 27,
   "id": "dcf900c9-1a1e-4197-8e0c-091cf5f84759",
   "metadata": {},
   "outputs": [
    {
     "name": "stdout",
     "output_type": "stream",
     "text": [
      "1 2 mohit kumar 5 65.5 658541 2141 mohit mohit\n"
     ]
    }
   ],
   "source": [
    "tup = (1,2,\"mohit\",\"kumar\",5,65.5,658541,2141,\"mohit\",\"mohit\")\n",
    "a,b,c,f,d,t,y,u,i,o = tup\n",
    "print (a,b,c,f,d,t,y,u,i,o)"
   ]
  },
  {
   "cell_type": "markdown",
   "id": "6e3a0c7e-8bf3-46cb-bdcb-787224507aee",
   "metadata": {},
   "source": [
    "Quesion10.Create a tuple of even numbers from 1 to 10"
   ]
  },
  {
   "cell_type": "code",
   "execution_count": 32,
   "id": "bcc866b6-a6f5-417f-8279-633b866c4b5b",
   "metadata": {},
   "outputs": [],
   "source": [
    "def even_num(n1,n2):\n",
    "    tup =()\n",
    "    list1 =[]\n",
    "    for i in range(n1,n2):\n",
    "        if i%2==0:\n",
    "            list1.append(i)\n",
    "            tup = tuple(list1)\n",
    "    return tup"
   ]
  },
  {
   "cell_type": "code",
   "execution_count": 34,
   "id": "e9413819-9026-4804-96ab-5feece9bc9a0",
   "metadata": {},
   "outputs": [
    {
     "name": "stdout",
     "output_type": "stream",
     "text": [
      "(2, 4, 6, 8, 10, 12, 14, 16, 18, 20, 22, 24, 26, 28, 30, 32, 34, 36, 38, 40, 42, 44, 46, 48)\n"
     ]
    }
   ],
   "source": [
    "n1=1\n",
    "n2=50\n",
    "print(even_num(n1,n2))"
   ]
  },
  {
   "cell_type": "markdown",
   "id": "5fc2fb8b-690f-495b-85a6-33c9149a17b2",
   "metadata": {},
   "source": [
    "Quesion11.Create a tuple of odd numbers from 1 to 10."
   ]
  },
  {
   "cell_type": "code",
   "execution_count": 116,
   "id": "9bc4c84c-77d5-4210-a2d9-c2f967d4a8d4",
   "metadata": {},
   "outputs": [],
   "source": [
    "def even_num(n1,n2):\n",
    "    list1 =[]\n",
    "    for i in range(n1,n2):\n",
    "        if i%2!=0:\n",
    "            list1.append(i)\n",
    "            \n",
    "    return tuple(list1)"
   ]
  },
  {
   "cell_type": "code",
   "execution_count": 117,
   "id": "ad7fe141-2e2d-4153-abec-d5ab6773c6f6",
   "metadata": {},
   "outputs": [
    {
     "name": "stdout",
     "output_type": "stream",
     "text": [
      "(1, 3, 5, 7, 9, 11, 13, 15, 17, 19, 21, 23, 25, 27, 29, 31, 33, 35, 37, 39, 41, 43, 45, 47, 49)\n"
     ]
    }
   ],
   "source": [
    "n1=1\n",
    "n2=50\n",
    "print(even_num(n1,n2))"
   ]
  },
  {
   "cell_type": "markdown",
   "id": "794333f2-4fec-4294-bfe9-430e915b8f18",
   "metadata": {},
   "source": [
    "Quwsion12.. Concatenate two tuples"
   ]
  },
  {
   "cell_type": "code",
   "execution_count": 38,
   "id": "4cfb1d35-5896-49fc-bdbf-fc22f858b4dc",
   "metadata": {},
   "outputs": [
    {
     "name": "stdout",
     "output_type": "stream",
     "text": [
      "(1, 2, 3, 'a', 'b', 'c')\n"
     ]
    }
   ],
   "source": [
    "tuple1 = (1, 2, 3)\n",
    "tuple2 = ('a', 'b', 'c')\n",
    "\n",
    "concatenated_tuple = tuple1 + tuple2\n",
    "print(concatenated_tuple)"
   ]
  },
  {
   "cell_type": "markdown",
   "id": "69756c38-efdd-4557-b64f-37b0fd5abcb6",
   "metadata": {},
   "source": [
    "Quesion13.Repeat a tuple three times."
   ]
  },
  {
   "cell_type": "code",
   "execution_count": 114,
   "id": "c308e715-7a79-45d2-939b-0878ccdd0446",
   "metadata": {},
   "outputs": [],
   "source": [
    "def repet(tup):\n",
    "    tup1 = (((tup,))*4) \n",
    "    return tup1"
   ]
  },
  {
   "cell_type": "code",
   "execution_count": 115,
   "id": "30a96183-5e87-427e-8ace-710691532059",
   "metadata": {},
   "outputs": [
    {
     "name": "stdout",
     "output_type": "stream",
     "text": [
      "((1, 2, 3, 4, 5, 6), (1, 2, 3, 4, 5, 6), (1, 2, 3, 4, 5, 6), (1, 2, 3, 4, 5, 6))\n"
     ]
    }
   ],
   "source": [
    "tup = (1,2,3,4,5,6)\n",
    "print(repet(tup))"
   ]
  },
  {
   "cell_type": "markdown",
   "id": "ff692c10-d8a4-4cd6-a34c-430af18be5ac",
   "metadata": {},
   "source": [
    "Quesion14.Check if a tuple is empty."
   ]
  },
  {
   "cell_type": "code",
   "execution_count": 8,
   "id": "99996860-1dca-405f-b028-e98347f43f81",
   "metadata": {},
   "outputs": [],
   "source": [
    "def chack(my_tuple):\n",
    "    if len(my_tuple) == 0:\n",
    "        print(\"The tuple is empty.\")\n",
    "    else:\n",
    "        print(\"The tuple is not empty.\")\n",
    "\n"
   ]
  },
  {
   "cell_type": "code",
   "execution_count": 9,
   "id": "495c3040-ca2e-4173-80f9-fefe44f579ee",
   "metadata": {},
   "outputs": [
    {
     "name": "stdout",
     "output_type": "stream",
     "text": [
      "The tuple is empty.\n",
      "None\n"
     ]
    }
   ],
   "source": [
    "my_tuple = ()\n",
    "print(chack(my_tuple))"
   ]
  },
  {
   "cell_type": "markdown",
   "id": "b9f9125f-f696-4881-a78f-87ae15cb140c",
   "metadata": {},
   "source": [
    "Quesion15.. Create a nested tuple."
   ]
  },
  {
   "cell_type": "code",
   "execution_count": 23,
   "id": "1537e179-32f9-4708-9a53-f9b1ab71caf3",
   "metadata": {},
   "outputs": [],
   "source": [
    "def nested(tup1,tup2,tup3):\n",
    "    tup = (((tup1,)*2),((tup2,)*3),((tup3,)*4))\n",
    "    return tup\n",
    "           "
   ]
  },
  {
   "cell_type": "code",
   "execution_count": 24,
   "id": "fae1dfee-93e4-4b1b-9f7f-ea4b2cd01501",
   "metadata": {},
   "outputs": [
    {
     "name": "stdout",
     "output_type": "stream",
     "text": [
      "(((1, 2, 3, 4), (1, 2, 3, 4)), ((5, 6, 7, 8), (5, 6, 7, 8), (5, 6, 7, 8)), ((9, 12, 3, 5), (9, 12, 3, 5), (9, 12, 3, 5), (9, 12, 3, 5)))\n"
     ]
    }
   ],
   "source": [
    "tup1 =(1,2,3,4)\n",
    "tup2 = (5,6,7,8)\n",
    "tup3 = (9,12,3,5)\n",
    "print(nested(tup1,tup2,tup3))"
   ]
  },
  {
   "cell_type": "markdown",
   "id": "ff7299af-cf01-4539-b845-94a5336b8292",
   "metadata": {},
   "source": [
    "Quesion16.Access the first element of a nested tuple"
   ]
  },
  {
   "cell_type": "code",
   "execution_count": 27,
   "id": "6d52e89f-aa3f-4e1a-b491-760ffaf930d9",
   "metadata": {},
   "outputs": [
    {
     "name": "stdout",
     "output_type": "stream",
     "text": [
      "7\n"
     ]
    }
   ],
   "source": [
    "nested_tuple =(1,2,3,4,(4,5,6,7,(8,9,4,5)))\n",
    "print(nested_tuple[4][3])"
   ]
  },
  {
   "cell_type": "raw",
   "id": "8e9e9e28-ac14-4b91-aa62-72f3a8854d51",
   "metadata": {},
   "source": [
    "Quesion17.Create a tuple with a single element."
   ]
  },
  {
   "cell_type": "code",
   "execution_count": 28,
   "id": "b4bb7aa6-671c-46a6-b4f3-b6f7e7bb319b",
   "metadata": {},
   "outputs": [
    {
     "name": "stdout",
     "output_type": "stream",
     "text": [
      "apple\n"
     ]
    }
   ],
   "source": [
    "tup = (\"apple\")\n",
    "print(tup)"
   ]
  },
  {
   "cell_type": "markdown",
   "id": "6c87d066-f595-4382-9022-848fd8a716a9",
   "metadata": {},
   "source": [
    "Quesion18.Compare two tuples."
   ]
  },
  {
   "cell_type": "code",
   "execution_count": 31,
   "id": "7cf082c6-52fa-4ef0-a70f-97591e352e59",
   "metadata": {},
   "outputs": [
    {
     "name": "stdout",
     "output_type": "stream",
     "text": [
      "True\n",
      "False\n"
     ]
    }
   ],
   "source": [
    "tuple1 = (1, 2, 3)\n",
    "tuple2 = (1, 2, 3)\n",
    "tuple3 = (3, 2, 1)\n",
    "print(tuple1 == tuple2)  \n",
    "print(tuple1 == tuple3) "
   ]
  },
  {
   "cell_type": "markdown",
   "id": "43739d46-8457-4b0d-9e0c-6b6858852c9f",
   "metadata": {},
   "source": [
    "Quesion19.Delete a tuple."
   ]
  },
  {
   "cell_type": "code",
   "execution_count": 35,
   "id": "4b1e9f79-31ea-4b94-80ef-7539054cd4bb",
   "metadata": {},
   "outputs": [
    {
     "name": "stdout",
     "output_type": "stream",
     "text": [
      "Original tuple: ('apple', 'banana', 'cherry')\n",
      "Error: name 'my_tuple' is not defined\n"
     ]
    }
   ],
   "source": [
    "my_tuple = (\"apple\", \"banana\", \"cherry\")\n",
    "print(f\"Original tuple: {my_tuple}\")\n",
    "\n",
    "del my_tuple\n",
    "try:\n",
    "    print(my_tuple)\n",
    "except NameError as e:\n",
    "    print(f\"Error: {e}\")"
   ]
  },
  {
   "cell_type": "markdown",
   "id": "183d3987-4bc8-47dd-99a6-a7466c5e11de",
   "metadata": {},
   "source": [
    "Quesion20.Slice a tuple."
   ]
  },
  {
   "cell_type": "code",
   "execution_count": 37,
   "id": "45536e05-7844-486d-9ee2-0b8b314593b7",
   "metadata": {},
   "outputs": [
    {
     "name": "stdout",
     "output_type": "stream",
     "text": [
      "Slice from index 2 to 7: (30, 40, 50, 60, 70)\n",
      "Slice from beginning to index 5: (10, 20, 30, 40, 50)\n",
      "Slice from index 4 to end: (50, 60, 70, 80, 90)\n",
      "Slice with step 2: (10, 30, 50, 70, 90)\n",
      "Reversed tuple: (90, 80, 70, 60, 50, 40, 30, 20, 10)\n",
      "Slice using negative indices: (50, 60, 70)\n"
     ]
    }
   ],
   "source": [
    "my_tuple = (10, 20, 30, 40, 50, 60, 70, 80, 90)\n",
    "\n",
    "slice1 = my_tuple[2:7]\n",
    "print(f\"Slice from index 2 to 7: {slice1}\")  \n",
    "\n",
    "slice2 = my_tuple[:5]\n",
    "print(f\"Slice from beginning to index 5: {slice2}\")  \n",
    "\n",
    "\n",
    "slice3 = my_tuple[4:]\n",
    "print(f\"Slice from index 4 to end: {slice3}\")  \n",
    "\n",
    "\n",
    "slice4 = my_tuple[::2]\n",
    "print(f\"Slice with step 2: {slice4}\")  \n",
    "\n",
    "\n",
    "reversed_tuple = my_tuple[::-1]\n",
    "print(f\"Reversed tuple: {reversed_tuple}\")  \n",
    "\n",
    "\n",
    "slice5 = my_tuple[-5:-2]\n",
    "print(f\"Slice using negative indices: {slice5}\")  "
   ]
  },
  {
   "cell_type": "markdown",
   "id": "e8b0c146-c119-43b3-8019-df50660589d8",
   "metadata": {},
   "source": [
    "Quesion21.Find the maximum value in a tuple.\n",
    "    "
   ]
  },
  {
   "cell_type": "code",
   "execution_count": 38,
   "id": "f610eeeb-e4b7-4d61-bef9-478018546b56",
   "metadata": {},
   "outputs": [],
   "source": [
    "def maximum_value(tup):\n",
    "    max_val = 0\n",
    "    for i in  tup:\n",
    "        if i>max_val:\n",
    "            max_val = i\n",
    "    return max_val"
   ]
  },
  {
   "cell_type": "code",
   "execution_count": 40,
   "id": "4829a953-8a5e-4867-bdad-91f14f7cf955",
   "metadata": {},
   "outputs": [
    {
     "name": "stdout",
     "output_type": "stream",
     "text": [
      "44\n"
     ]
    }
   ],
   "source": [
    "tup =(5,6,7,8,1,44,2,7,9,3,7,15)\n",
    "print(maximum_value(tup))"
   ]
  },
  {
   "cell_type": "markdown",
   "id": "a0f1ec85-064c-4333-91f8-de8e8dc8b555",
   "metadata": {},
   "source": [
    "Quesion22.Find the minimum value in a tuple."
   ]
  },
  {
   "cell_type": "code",
   "execution_count": 51,
   "id": "b9d2d227-032f-4822-9fcb-3267f860b4aa",
   "metadata": {},
   "outputs": [],
   "source": [
    "def minimum_value(tup):\n",
    "    min_val = tup[0]\n",
    "    for i in  tup:\n",
    "        if i<min_val:\n",
    "            min_val = i\n",
    "    return min_val"
   ]
  },
  {
   "cell_type": "code",
   "execution_count": 52,
   "id": "852cfef6-2c7a-4d82-baf3-fe74c9cb4837",
   "metadata": {},
   "outputs": [
    {
     "name": "stdout",
     "output_type": "stream",
     "text": [
      "2\n"
     ]
    }
   ],
   "source": [
    "tup =(5,6,7,8,5,44,2,7,9,3,7,15)\n",
    "print(minimum_value(tup))"
   ]
  },
  {
   "cell_type": "markdown",
   "id": "757c4ba7-c681-4d81-905f-e2a0bd532c49",
   "metadata": {},
   "source": [
    "Quesion23.Convert a string to a tuple of characters.\n"
   ]
  },
  {
   "cell_type": "code",
   "execution_count": 118,
   "id": "e0905967-04fe-4d62-9a30-c136650b5f0d",
   "metadata": {},
   "outputs": [
    {
     "name": "stdout",
     "output_type": "stream",
     "text": [
      "('Shuffle', 'the', 'elements', 'of', 'a', 'list', 'randomly')\n"
     ]
    }
   ],
   "source": [
    "def  split(string):\n",
    "    list1 =[]\n",
    "    start = 0\n",
    "    for i in range(0,len(string)):\n",
    "        if string[i] ==\" \":\n",
    "            space_index = i\n",
    "            word = string[start:space_index]\n",
    "            start = space_index+1\n",
    "            list1.append(word)\n",
    "    list1.append(string[start:])\n",
    "    return tuple(list1)\n",
    "            \n",
    "string = \"Shuffle the elements of a list randomly\"        \n",
    "print(split(string)) "
   ]
  },
  {
   "cell_type": "markdown",
   "id": "75321736-5c74-471b-8e0e-cd742518cce2",
   "metadata": {},
   "source": [
    "Quesion24.Convert a tuple of characters to a string"
   ]
  },
  {
   "cell_type": "code",
   "execution_count": 81,
   "id": "f3976840-811d-4c0e-acaf-dc8274cc8bea",
   "metadata": {},
   "outputs": [],
   "source": [
    "def tuple_to_string(tup):\n",
    "    string = \"\"\n",
    "    for i in tup:\n",
    "      string =string+i+\" \"  \n",
    "    return string"
   ]
  },
  {
   "cell_type": "code",
   "execution_count": 86,
   "id": "a7f035df-2362-4edf-99f4-c4b4e579596e",
   "metadata": {},
   "outputs": [
    {
     "name": "stdout",
     "output_type": "stream",
     "text": [
      "Shuffle the elements of a list randomly \n"
     ]
    }
   ],
   "source": [
    "tup = ('Shuffle', 'the', 'elements', 'of', 'a', 'list', 'randomly')\n",
    "print(tuple_to_string(tup))"
   ]
  },
  {
   "cell_type": "code",
   "execution_count": 90,
   "id": "e3d3fe72-a29d-459f-bc13-58fe0d334d31",
   "metadata": {},
   "outputs": [
    {
     "ename": "SyntaxError",
     "evalue": "invalid syntax (2214402946.py, line 1)",
     "output_type": "error",
     "traceback": [
      "  \u001b[36mCell\u001b[39m\u001b[36m \u001b[39m\u001b[32mIn[90]\u001b[39m\u001b[32m, line 1\u001b[39m\n\u001b[31m    \u001b[39m\u001b[31mQuesion25.\u001b[39m\n              ^\n\u001b[31mSyntaxError\u001b[39m\u001b[31m:\u001b[39m invalid syntax\n"
     ]
    }
   ],
   "source": [
    "Quesion25."
   ]
  },
  {
   "cell_type": "markdown",
   "id": "3bc5b17c-41c6-4173-8d8c-a8897536a5d1",
   "metadata": {},
   "source": [
    "Quesion26.Check if two tuples are identical."
   ]
  },
  {
   "cell_type": "code",
   "execution_count": 92,
   "id": "8b146b3d-0b98-47ea-84fb-f2bb6a825b5e",
   "metadata": {},
   "outputs": [
    {
     "name": "stdout",
     "output_type": "stream",
     "text": [
      "tuple1 == tuple2: True\n",
      "tuple1 == tuple3: False\n",
      "tuple1 == tuple4: False\n"
     ]
    }
   ],
   "source": [
    "tuple1 = (1, \"apple\", 3.14)\n",
    "tuple2 = (1, \"apple\", 3.14)\n",
    "tuple3 = (1, \"banana\", 3.14)\n",
    "tuple4 = (1, \"apple\")\n",
    "\n",
    "print(f\"tuple1 == tuple2: {tuple1 == tuple2}\")  \n",
    "print(f\"tuple1 == tuple3: {tuple1 == tuple3}\")  \n",
    "print(f\"tuple1 == tuple4: {tuple1 == tuple4}\")  \n"
   ]
  },
  {
   "cell_type": "markdown",
   "id": "a96499ef-12d9-4d66-89ae-70a662d73338",
   "metadata": {},
   "source": [
    "Quesion27.Sort the elements of a tuple."
   ]
  },
  {
   "cell_type": "code",
   "execution_count": 112,
   "id": "988dfa66-bf0b-4388-bab8-1b2f700a2d96",
   "metadata": {},
   "outputs": [],
   "source": [
    "def sort(tup):\n",
    "    list1 = list(tup)\n",
    "    n = len(list1)\n",
    "    for i in range(n):\n",
    "        for j in range(n-i-1):\n",
    "            if list1[j]>list1[j+1]:\n",
    "                list1[j],list1[j+1] = list1[j+1],list1[j]\n",
    "    return tuple(list1)\n",
    "        \n",
    "    "
   ]
  },
  {
   "cell_type": "code",
   "execution_count": 113,
   "id": "da61616a-5f65-472a-9dbf-cffa29e6b0b7",
   "metadata": {},
   "outputs": [
    {
     "name": "stdout",
     "output_type": "stream",
     "text": [
      "(1, 2, 5, 8, 9)\n"
     ]
    }
   ],
   "source": [
    "tup = (5, 2, 8, 1, 9)\n",
    "print(sort(tup))"
   ]
  },
  {
   "cell_type": "markdown",
   "id": "7da7d739-86d9-4761-a6df-7c713bedaf00",
   "metadata": {},
   "source": [
    "Quesion28.Convert a tuple of integers to a tuple of strings.\n"
   ]
  },
  {
   "cell_type": "code",
   "execution_count": 131,
   "id": "35b856c3-649d-4d62-a1d0-9d8933275060",
   "metadata": {},
   "outputs": [],
   "source": [
    "def tuple_string(tup):\n",
    "    list1 = []\n",
    "    for i in  range(0,len(tup)):\n",
    "        l =str(i)\n",
    "        list1.append(l)\n",
    "    return tuple(list1)\n",
    "     "
   ]
  },
  {
   "cell_type": "code",
   "execution_count": 132,
   "id": "814c5e7f-d2b3-46b7-8244-bd925914efd7",
   "metadata": {},
   "outputs": [
    {
     "name": "stdout",
     "output_type": "stream",
     "text": [
      "('0', '1', '2', '3', '4')\n"
     ]
    }
   ],
   "source": [
    "tup = (5, 2, 8, 1, 9)\n",
    "print(tuple_string(tup))"
   ]
  },
  {
   "cell_type": "markdown",
   "id": "7a586e1a-7f45-4d6b-86b4-5676279b23fd",
   "metadata": {},
   "source": [
    "Quesion29.Convert a tuple of strings to a tuple of integers."
   ]
  },
  {
   "cell_type": "code",
   "execution_count": 141,
   "id": "c22915ea-0cf3-4fe3-8b15-1288d3501bf9",
   "metadata": {},
   "outputs": [],
   "source": [
    "def string_tuple(tup_string):\n",
    "    list1 =[]\n",
    "    for i in range(0,len(tup_string)):\n",
    "        x = int(i)\n",
    "        list1.append(x)\n",
    "    return tuple(list1)\n",
    "    "
   ]
  },
  {
   "cell_type": "code",
   "execution_count": 142,
   "id": "1d35a8b1-4bfb-4a7a-925c-669d43d717ab",
   "metadata": {},
   "outputs": [
    {
     "name": "stdout",
     "output_type": "stream",
     "text": [
      "(0, 1, 2, 3, 4)\n"
     ]
    }
   ],
   "source": [
    "tup_string =('0', '1', '2', '3', '4')\n",
    "print(string_tuple(tup_string))"
   ]
  },
  {
   "cell_type": "markdown",
   "id": "bc530e0f-6e15-43bb-bf6f-2bcb4ec9b906",
   "metadata": {},
   "source": [
    "Quesion30.Merge two tuples."
   ]
  },
  {
   "cell_type": "code",
   "execution_count": 143,
   "id": "9d384b2f-8b4d-43f6-9334-cecf616c9fb7",
   "metadata": {},
   "outputs": [
    {
     "name": "stdout",
     "output_type": "stream",
     "text": [
      "(1, 2, 3, 4, 5, 6, 7, 8, 9, 10, 11)\n"
     ]
    }
   ],
   "source": [
    "tup1 = (1,2,3,4,5,6)\n",
    "tup2 =(7,8,9,10,11)\n",
    "tup3 =(tup1+tup2)\n",
    "print(tup3)"
   ]
  },
  {
   "cell_type": "markdown",
   "id": "04a2067e-2b43-4692-9c8d-caa8552e59b7",
   "metadata": {},
   "source": [
    "Quesion32.Create a tuple of the first 5 prime numbers\n"
   ]
  },
  {
   "cell_type": "code",
   "execution_count": 147,
   "id": "464295ff-4bcc-435a-aa68-2f2a0c08063d",
   "metadata": {},
   "outputs": [],
   "source": [
    "def prime_num(n):\n",
    "    list1 =[]\n",
    "    for i in range(2,n):\n",
    "        if n%i !=0:\n",
    "            list1.append(i)\n",
    "    return tuple(list1)\n",
    "    \n",
    "    "
   ]
  },
  {
   "cell_type": "code",
   "execution_count": 148,
   "id": "80120326-9dfb-4d51-8ed5-bf2c691d8bf4",
   "metadata": {},
   "outputs": [
    {
     "name": "stdout",
     "output_type": "stream",
     "text": [
      "(3, 4, 6, 7, 8, 9)\n"
     ]
    }
   ],
   "source": [
    "n = 10\n",
    "print(prime_num(n))"
   ]
  },
  {
   "cell_type": "markdown",
   "id": "8445722a-137e-4707-a20b-271ddca66eae",
   "metadata": {},
   "source": [
    "Quesion33.Check if a tuple is a palindrome"
   ]
  },
  {
   "cell_type": "code",
   "execution_count": 169,
   "id": "32882020-9cf3-4db5-a2de-910b2dd4ca68",
   "metadata": {},
   "outputs": [],
   "source": [
    "def palindrome(tup):\n",
    "    if tup == tup[::-1]:\n",
    "            return True\n",
    "    else:\n",
    "        return False\n",
    "        \n"
   ]
  },
  {
   "cell_type": "code",
   "execution_count": 171,
   "id": "8fec68ad-509f-4ee9-b10b-d73fd261001e",
   "metadata": {},
   "outputs": [
    {
     "name": "stdout",
     "output_type": "stream",
     "text": [
      "True\n"
     ]
    }
   ],
   "source": [
    "tup = (1,2,3,4,5,4,3,2,1)\n",
    "print(palindrome(tup))"
   ]
  },
  {
   "cell_type": "markdown",
   "id": "37a58ffe-3050-4da5-bfee-989333d25275",
   "metadata": {},
   "source": [
    "Quesion34.Create a tuple of squares of numbers from 1 to 5."
   ]
  },
  {
   "cell_type": "code",
   "execution_count": 172,
   "id": "86669694-f288-4c06-91ed-d0e4579d1c15",
   "metadata": {},
   "outputs": [],
   "source": [
    "def sequires(n):\n",
    "    list1=[]\n",
    "    for i in range(1,n):\n",
    "        list1.append(i**2)\n",
    "    return tuple(list1)"
   ]
  },
  {
   "cell_type": "code",
   "execution_count": 173,
   "id": "64c98a7b-27f3-49a5-bcab-1f4f733a30df",
   "metadata": {},
   "outputs": [
    {
     "name": "stdout",
     "output_type": "stream",
     "text": [
      "(1, 4, 9, 16, 25, 36, 49, 64, 81)\n"
     ]
    }
   ],
   "source": [
    "n= 10\n",
    "print(sequires(n))"
   ]
  },
  {
   "cell_type": "markdown",
   "id": "6cfe7115-0817-4dfc-b3b0-75cbd5b7a791",
   "metadata": {},
   "source": [
    "Quesion35.Filter out all even numbers from a tuple."
   ]
  },
  {
   "cell_type": "code",
   "execution_count": 176,
   "id": "1e5ee3c7-0b34-464b-9c9f-623feaa7f0f4",
   "metadata": {},
   "outputs": [],
   "source": [
    "def filter1(tup):\n",
    "    list1 =[]\n",
    "    for i in tup:\n",
    "        if i%2 ==0:\n",
    "            list1.append(i)\n",
    "    return tuple(list1)"
   ]
  },
  {
   "cell_type": "code",
   "execution_count": 177,
   "id": "eff7decf-5bee-4c2d-8e5c-bf5c50f0e731",
   "metadata": {},
   "outputs": [
    {
     "name": "stdout",
     "output_type": "stream",
     "text": [
      "(2, 4, 6, 8, 10, 12, 74)\n"
     ]
    }
   ],
   "source": [
    "tup = (1,2,3,4,5,6,7,8,9,10,11,12,13,45,74)\n",
    "print(filter1(tup))"
   ]
  },
  {
   "cell_type": "markdown",
   "id": "d45e657b-f499-4365-b464-37feb8802197",
   "metadata": {},
   "source": [
    "Quesion36.Multiply all elements in a tuple by 2."
   ]
  },
  {
   "cell_type": "code",
   "execution_count": 178,
   "id": "f956677b-6628-4e0a-b8aa-26a988275fce",
   "metadata": {},
   "outputs": [],
   "source": [
    "def multiply(tup):\n",
    "    list1 =[]\n",
    "    for i in tup:\n",
    "            list1.append(i*2)\n",
    "    return tuple(list1)"
   ]
  },
  {
   "cell_type": "code",
   "execution_count": 179,
   "id": "4744ddd5-94bb-45b1-b4e4-f30267e862e3",
   "metadata": {},
   "outputs": [
    {
     "name": "stdout",
     "output_type": "stream",
     "text": [
      "(2, 4, 6, 8, 10, 12, 14, 16, 18, 20, 22, 24, 26, 90, 148)\n"
     ]
    }
   ],
   "source": [
    "tup = (1,2,3,4,5,6,7,8,9,10,11,12,13,45,74)\n",
    "print(multiply(tup))"
   ]
  },
  {
   "cell_type": "markdown",
   "id": "d353e5ee-576c-471f-989a-714b2b225532",
   "metadata": {},
   "source": [
    "Quesion38.Check if a tuple is sorted."
   ]
  },
  {
   "cell_type": "code",
   "execution_count": 187,
   "id": "ecfac247-10cc-40e7-b659-78d149a2d4c1",
   "metadata": {},
   "outputs": [
    {
     "ename": "IndentationError",
     "evalue": "unindent does not match any outer indentation level (<tokenize>, line 6)",
     "output_type": "error",
     "traceback": [
      "  \u001b[36mFile \u001b[39m\u001b[32m<tokenize>:6\u001b[39m\n\u001b[31m    \u001b[39m\u001b[31melse:\u001b[39m\n    ^\n\u001b[31mIndentationError\u001b[39m\u001b[31m:\u001b[39m unindent does not match any outer indentation level\n"
     ]
    }
   ],
   "source": [
    "def sorted(t):\n",
    "     if ascending:\n",
    "        for i in range(len(t) - 1):\n",
    "            if t[i] > t[i+1]:\n",
    "                return False\n",
    "    else:\n",
    "        for i in range(len(t) - 1):\n",
    "            if t[i] < t[i+1]:\n",
    "                return False\n",
    "    return True\n",
    "\n"
   ]
  },
  {
   "cell_type": "markdown",
   "id": "5643aede-1c6a-49ae-9210-159e011032da",
   "metadata": {},
   "source": [
    "Quesion39.. Rotate a tuple to the left by `n` positions."
   ]
  },
  {
   "cell_type": "code",
   "execution_count": 191,
   "id": "38f9290e-bfc1-44cc-b798-716ac8e5ce62",
   "metadata": {},
   "outputs": [],
   "source": [
    "def left_rotate(tup,n):\n",
    "    \n",
    "    tup1 = (tup[n:]+tup[:n])\n",
    "    return tup1"
   ]
  },
  {
   "cell_type": "code",
   "execution_count": 195,
   "id": "e6c62b5f-4b6a-489d-a595-90f0a8c00825",
   "metadata": {},
   "outputs": [
    {
     "name": "stdout",
     "output_type": "stream",
     "text": [
      "(3, 4, 5, 6, 1, 2)\n"
     ]
    }
   ],
   "source": [
    "n= 2\n",
    "tup = (1,2,3,4,5,6)\n",
    "print(left_rotate(tup,n))"
   ]
  },
  {
   "cell_type": "markdown",
   "id": "906cf2fc-9f19-439f-9caf-0ecf10afe729",
   "metadata": {},
   "source": [
    "Quesion40.Rotate a tuple to the right by `n` positions."
   ]
  },
  {
   "cell_type": "code",
   "execution_count": 193,
   "id": "68fe0199-3d4d-4c79-add2-0ccd32a79244",
   "metadata": {},
   "outputs": [],
   "source": [
    "def right_rotate(tup,n):\n",
    "    \n",
    "    tup1 = (tup[-n:]+tup[:-n])\n",
    "    return tup1"
   ]
  },
  {
   "cell_type": "code",
   "execution_count": 196,
   "id": "6a1f1cd3-17a2-4ea0-9c97-3339201d1eae",
   "metadata": {},
   "outputs": [
    {
     "name": "stdout",
     "output_type": "stream",
     "text": [
      "(5, 6, 1, 2, 3, 4)\n"
     ]
    }
   ],
   "source": [
    "n= 2\n",
    "tup = (1,2,3,4,5,6)\n",
    "print(right_rotate(tup,n))"
   ]
  },
  {
   "cell_type": "markdown",
   "id": "96affd8b-456a-486e-a9f3-732b4deb68bf",
   "metadata": {},
   "source": [
    "Quesion41.Create a tuple of the first 5 Fibonacci numbers."
   ]
  },
  {
   "cell_type": "code",
   "execution_count": 207,
   "id": "c944ccac-7901-4010-8954-9b0f0b69b9d0",
   "metadata": {},
   "outputs": [],
   "source": [
    "def  Fibonacci_numbers(n):\n",
    "    a,b = 0,1\n",
    "    for i in range(n):\n",
    "        print(a, end = \" \")\n",
    "        a,b = b,a+b"
   ]
  },
  {
   "cell_type": "code",
   "execution_count": 209,
   "id": "2a3929d6-821d-4f15-97fc-be203f356ba5",
   "metadata": {},
   "outputs": [
    {
     "name": "stdout",
     "output_type": "stream",
     "text": [
      "0 1 1 2 3 5 8 13 21 34 None\n"
     ]
    }
   ],
   "source": [
    "n = 10\n",
    "print (Fibonacci_numbers(n))"
   ]
  },
  {
   "cell_type": "markdown",
   "id": "1e8d8004-ebd8-45e0-ac94-856c20452373",
   "metadata": {},
   "source": [
    "Quesion42.Create a tuple from user input."
   ]
  },
  {
   "cell_type": "code",
   "execution_count": 213,
   "id": "3a40f9b2-e013-4988-bd15-6ce658c0d7d0",
   "metadata": {},
   "outputs": [
    {
     "name": "stdin",
     "output_type": "stream",
     "text": [
      "Enter the value 12345678mohit\n"
     ]
    },
    {
     "name": "stdout",
     "output_type": "stream",
     "text": [
      "('1', '2', '3', '4', '5', '6', '7', '8', 'm', 'o', 'h', 'i', 't')\n"
     ]
    }
   ],
   "source": [
    "x = tuple(input(\"Enter the value\"))\n",
    "\n",
    "print(x)\n",
    "    "
   ]
  },
  {
   "cell_type": "markdown",
   "id": "7d8628ff-0d5a-4755-83de-a2b576e1059c",
   "metadata": {},
   "source": [
    "Quesion43.Swap two elements in a tuple."
   ]
  },
  {
   "cell_type": "code",
   "execution_count": 214,
   "id": "68323bfb-af86-4525-98ae-17b24c1d29f7",
   "metadata": {},
   "outputs": [
    {
     "name": "stdout",
     "output_type": "stream",
     "text": [
      "(1, 4, 3, 2, 5)\n"
     ]
    }
   ],
   "source": [
    "my_tuple = (1, 2, 3, 4, 5)\n",
    "index1 = 1 \n",
    "index2 = 3  \n",
    "\n",
    "temp_list = list(my_tuple)\n",
    "\n",
    "temp_list[index1], temp_list[index2] = temp_list[index2], temp_list[index1]\n",
    "\n",
    "new_tuple = tuple(temp_list)\n",
    "\n",
    "print(new_tuple)"
   ]
  },
  {
   "cell_type": "markdown",
   "id": "444bee43-d095-4b52-b1bb-b6b606a82001",
   "metadata": {},
   "source": [
    "Quesion44.Reverse the elements of a tuple."
   ]
  },
  {
   "cell_type": "code",
   "execution_count": 216,
   "id": "5aa015d4-651e-4f01-b3d9-850e355a3852",
   "metadata": {},
   "outputs": [
    {
     "name": "stdout",
     "output_type": "stream",
     "text": [
      "(9, 8, 7, 6, 5, 4, 3, 2, 1)\n"
     ]
    }
   ],
   "source": [
    "tup = (1,2,3,4,5,6,7,8,9)\n",
    "tup1 = tup[::-1]\n",
    "print(tup1)"
   ]
  },
  {
   "cell_type": "markdown",
   "id": "7b6debb8-7d36-4393-a9c4-f6dc23fdcbfc",
   "metadata": {},
   "source": [
    "Quesion45.Create a tuple of the first `n` powers of 2."
   ]
  },
  {
   "cell_type": "code",
   "execution_count": 221,
   "id": "830e5026-f955-4b04-9c47-986d0ac01388",
   "metadata": {},
   "outputs": [],
   "source": [
    "def power(n1,n2):\n",
    "    list1 = []\n",
    "    for i in range(n1,n2):\n",
    "        list1.append(i**2)\n",
    "    return tuple(list1)\n",
    "        \n",
    "        \n",
    "    "
   ]
  },
  {
   "cell_type": "code",
   "execution_count": 223,
   "id": "22cd9752-366c-4848-96c0-7d1494adef01",
   "metadata": {},
   "outputs": [
    {
     "name": "stdout",
     "output_type": "stream",
     "text": [
      "(100, 121, 144, 169, 196, 225, 256, 289, 324, 361, 400)\n"
     ]
    }
   ],
   "source": [
    "n1 = 10\n",
    "n2 =21\n",
    "print(power(n1,n2))"
   ]
  },
  {
   "cell_type": "markdown",
   "id": "f45147d9-528a-44d5-a5cc-e7dcbe546862",
   "metadata": {},
   "source": [
    "Quesion46.Find the longest string in a tuple of strings."
   ]
  },
  {
   "cell_type": "code",
   "execution_count": 234,
   "id": "94d88214-c4fa-4e7d-bcac-d3f0f145577f",
   "metadata": {},
   "outputs": [],
   "source": [
    "def longest_string(tuple_string):\n",
    "    longest_string = \"\"\n",
    "    for i in tuple_string:\n",
    "        if len(i)>len(longest_string):\n",
    "            longest_string = i\n",
    "    return longest_string\n",
    "        "
   ]
  },
  {
   "cell_type": "code",
   "execution_count": 235,
   "id": "4275958d-93b0-4e29-91fd-123248394c9c",
   "metadata": {},
   "outputs": [
    {
     "name": "stdout",
     "output_type": "stream",
     "text": [
      "strawberry\n"
     ]
    }
   ],
   "source": [
    "tuple_string = (\"apple\", \"banana\", \"kiwi\", \"strawberry\", \"grape\")\n",
    "print(longest_string(tuple_string))"
   ]
  },
  {
   "cell_type": "markdown",
   "id": "2a6434b6-6220-4464-b82e-3e51800793ec",
   "metadata": {},
   "source": [
    "Quesion47.Find the shortest string in a tuple of strings"
   ]
  },
  {
   "cell_type": "code",
   "execution_count": 240,
   "id": "a81f0978-ad33-49b8-84f7-baf8634b863a",
   "metadata": {},
   "outputs": [
    {
     "name": "stdout",
     "output_type": "stream",
     "text": [
      "kiwi\n"
     ]
    }
   ],
   "source": [
    "def find_shortest_string(string_tup):\n",
    "    if not string_tup:\n",
    "        return None  \n",
    "\n",
    "    shortest_string = string_list[0]\n",
    "    for s in string_tup[1:]:\n",
    "        if len(s) < len(shortest_string):\n",
    "            shortest_string = s\n",
    "    return shortest_string\n",
    "\n",
    "string_tup = (\"apple\", \"banana\", \"kiwi\", \"grape\")\n",
    "result = find_shortest_string(string_list)\n",
    "print(result)"
   ]
  },
  {
   "cell_type": "markdown",
   "id": "ba574465-3237-4966-9e23-b1cd4d9b06d8",
   "metadata": {},
   "source": [
    "Quesion48.Create a tuple of the first `n` triangular numbers\n"
   ]
  },
  {
   "cell_type": "code",
   "execution_count": 5,
   "id": "cb6666bf-2b77-45d6-94a3-dd845ebdfcc4",
   "metadata": {},
   "outputs": [],
   "source": [
    "def  triangular_numbers(n):\n",
    "    list1 = []\n",
    "    for i in range(1,n):\n",
    "        list1.append(i*(i+1)/2)\n",
    "    return tuple(list1)\n",
    "        "
   ]
  },
  {
   "cell_type": "code",
   "execution_count": 6,
   "id": "fa12928e-666b-4d2d-90d0-56c0a1ab30a9",
   "metadata": {},
   "outputs": [
    {
     "name": "stdout",
     "output_type": "stream",
     "text": [
      "(1.0, 3.0, 6.0, 10.0, 15.0, 21.0, 28.0, 36.0, 45.0)\n"
     ]
    }
   ],
   "source": [
    "n = 10\n",
    "print( triangular_numbers(n))"
   ]
  },
  {
   "cell_type": "markdown",
   "id": "878cedf7-1203-4a60-9d63-9dfc10fed60a",
   "metadata": {},
   "source": [
    "# set"
   ]
  },
  {
   "cell_type": "markdown",
   "id": "87066d71-bfb5-4846-8872-522df893b841",
   "metadata": {},
   "source": [
    "Quesion1.. Create a set with integers from 1 to 5."
   ]
  },
  {
   "cell_type": "code",
   "execution_count": 11,
   "id": "13e4ef84-3aa8-45ec-a46d-de3a04c08a3b",
   "metadata": {},
   "outputs": [],
   "source": [
    "def set1(n):\n",
    "    list1 =[]\n",
    "    for i in range(1,n+1):\n",
    "        list1.append(i)\n",
    "    return set(list1)\n",
    "        "
   ]
  },
  {
   "cell_type": "code",
   "execution_count": 12,
   "id": "d6c3e9c5-a107-43a5-b0b8-2b1230e68c9a",
   "metadata": {},
   "outputs": [
    {
     "name": "stdout",
     "output_type": "stream",
     "text": [
      "{1, 2, 3, 4, 5, 6, 7, 8, 9, 10}\n"
     ]
    }
   ],
   "source": [
    "n = 10\n",
    "print(set1(n))"
   ]
  },
  {
   "cell_type": "markdown",
   "id": "5af657aa-8034-4585-badd-67282977c037",
   "metadata": {},
   "source": [
    "Quesion2.. Add an element to a set.\n"
   ]
  },
  {
   "cell_type": "code",
   "execution_count": 14,
   "id": "72771d1b-4e59-47d9-b353-a1ad42d5329a",
   "metadata": {},
   "outputs": [
    {
     "name": "stdout",
     "output_type": "stream",
     "text": [
      "{1, 2, 3, 4, 5, 6, 7, 8}\n"
     ]
    }
   ],
   "source": [
    "set1 = {1,2,3,4,5,6,7}\n",
    "list1 = list(set1)\n",
    "list1.append(8)\n",
    "print (set(list1))"
   ]
  },
  {
   "cell_type": "markdown",
   "id": "d70f206a-b0c1-4ba0-afc2-179403dd1fb4",
   "metadata": {},
   "source": [
    "Quesion4.Check if an element exists in a set."
   ]
  },
  {
   "cell_type": "code",
   "execution_count": 17,
   "id": "ce4e34c6-4eeb-4e9c-92c2-86b68703e3ed",
   "metadata": {},
   "outputs": [],
   "source": [
    "def chack(set1,element):\n",
    "    for i in set1:\n",
    "        if i == element:\n",
    "            return True\n",
    "    else:\n",
    "        return False"
   ]
  },
  {
   "cell_type": "code",
   "execution_count": 19,
   "id": "14bcaac2-3fe5-4fed-ad8b-c082eaf0064c",
   "metadata": {},
   "outputs": [
    {
     "name": "stdout",
     "output_type": "stream",
     "text": [
      "False\n"
     ]
    }
   ],
   "source": [
    "set1 ={1,2,3,4,5,6,7}\n",
    "element =8\n",
    "print(chack(set1,element))"
   ]
  },
  {
   "cell_type": "markdown",
   "id": "c81e5881-6afa-490e-ab47-efab2e4e4bc9",
   "metadata": {},
   "source": [
    "Quesion5.Find the length of a set without using the `len()` function."
   ]
  },
  {
   "cell_type": "code",
   "execution_count": 21,
   "id": "428b9a12-e674-4a22-9d74-fe1c24038ca7",
   "metadata": {},
   "outputs": [],
   "source": [
    "def length(set1):\n",
    "    length_of_set = 0\n",
    "    for i in set1:\n",
    "        length_of_set+=1\n",
    "    return length_of_set\n",
    "        "
   ]
  },
  {
   "cell_type": "code",
   "execution_count": 24,
   "id": "10994711-abec-4050-b018-1594994bbbaf",
   "metadata": {},
   "outputs": [
    {
     "name": "stdout",
     "output_type": "stream",
     "text": [
      "9\n"
     ]
    }
   ],
   "source": [
    "set1 ={1,2,3,4,5,6,7,9,\"mohit\"}\n",
    "print(length(set1))"
   ]
  },
  {
   "cell_type": "markdown",
   "id": "63f9b8b7-dcb7-42b6-b5e8-9c4fca46e366",
   "metadata": {},
   "source": [
    "Quesion6.Clear all elements from a set."
   ]
  },
  {
   "cell_type": "code",
   "execution_count": 25,
   "id": "60b27478-064a-4f38-8d8d-dda5c6ae9644",
   "metadata": {},
   "outputs": [
    {
     "name": "stdout",
     "output_type": "stream",
     "text": [
      "Original set: {1, 2, 3, 4, 5}\n",
      "Set after reassigning to an empty set: set()\n"
     ]
    }
   ],
   "source": [
    "my_set = {1, 2, 3, 4, 5}\n",
    "print(f\"Original set: {my_set}\")\n",
    "my_set = set() \n",
    "print(f\"Set after reassigning to an empty set: {my_set}\")"
   ]
  },
  {
   "cell_type": "markdown",
   "id": "db6c5cc3-ac56-4420-ae9d-066a31c82c6e",
   "metadata": {},
   "source": [
    "Quesion7.Create a set of even numbers from 1 to 10."
   ]
  },
  {
   "cell_type": "code",
   "execution_count": 28,
   "id": "cdb27127-da33-42d5-bff5-2796a5dd261c",
   "metadata": {},
   "outputs": [],
   "source": [
    "def even_set(n):\n",
    "    list1 =[]\n",
    "    for i in range(1,n+1):\n",
    "        if i%2==0:\n",
    "            list1.append(i)\n",
    "    return set(list1)"
   ]
  },
  {
   "cell_type": "code",
   "execution_count": 29,
   "id": "c682028f-6efa-46d5-b979-75c2e7053345",
   "metadata": {},
   "outputs": [
    {
     "name": "stdout",
     "output_type": "stream",
     "text": [
      "{2, 4, 6, 8, 10}\n"
     ]
    }
   ],
   "source": [
    "n = 10\n",
    "print(even_set(n))"
   ]
  },
  {
   "cell_type": "markdown",
   "id": "baed255e-0896-4e3f-8ade-d238edd7f26e",
   "metadata": {},
   "source": [
    "Quesion8.Create a set of odd numbers from 1 to 10"
   ]
  },
  {
   "cell_type": "code",
   "execution_count": 32,
   "id": "475b1c31-597a-4997-93c7-cd17e1d1967f",
   "metadata": {},
   "outputs": [],
   "source": [
    "def odd_set(n):\n",
    "    list1 =[]\n",
    "    for i in range(1,n+1):\n",
    "        if i%2!=0:\n",
    "            list1.append(i)\n",
    "    return set(list1)"
   ]
  },
  {
   "cell_type": "code",
   "execution_count": 33,
   "id": "78e91b5f-def1-4761-ba56-9fc74d151ca6",
   "metadata": {},
   "outputs": [
    {
     "name": "stdout",
     "output_type": "stream",
     "text": [
      "{1, 3, 5, 7, 9}\n"
     ]
    }
   ],
   "source": [
    "n =10\n",
    "print(odd_set(n))"
   ]
  },
  {
   "cell_type": "markdown",
   "id": "62c58c43-15c8-436f-9016-5cec9e16949b",
   "metadata": {},
   "source": [
    "Quesion9.Find the union of two sets."
   ]
  },
  {
   "cell_type": "code",
   "execution_count": 37,
   "id": "073990d5-737a-41ef-b9c9-d0f4ae52e70e",
   "metadata": {},
   "outputs": [],
   "source": [
    "def union(set1,set2):\n",
    "    union_set = set1 | set2\n",
    "    return (union_set)"
   ]
  },
  {
   "cell_type": "code",
   "execution_count": 38,
   "id": "267085f5-e544-4b7d-a29a-6878fe65d4f6",
   "metadata": {},
   "outputs": [
    {
     "name": "stdout",
     "output_type": "stream",
     "text": [
      "{1, 2, 3, 4, 5, 6}\n"
     ]
    }
   ],
   "source": [
    "set1 = {1, 2, 3, 4}\n",
    "set2 = {3, 4, 5, 6}\n",
    "print(union(set1,set2))"
   ]
  },
  {
   "cell_type": "markdown",
   "id": "235e0fad-2837-4035-916d-a0b71f1a710b",
   "metadata": {},
   "source": [
    "Quesion10.Find the intersection of two sets."
   ]
  },
  {
   "cell_type": "code",
   "execution_count": 39,
   "id": "e45e12fb-5002-422a-b48e-750cd9671f0e",
   "metadata": {},
   "outputs": [],
   "source": [
    "def intersection(set1,set2):\n",
    "\n",
    "    intersection_set = set1 & set2\n",
    "    return(intersection_set)"
   ]
  },
  {
   "cell_type": "code",
   "execution_count": 40,
   "id": "2713ff67-fe5b-4266-9edb-c74a55c2ff1d",
   "metadata": {},
   "outputs": [
    {
     "name": "stdout",
     "output_type": "stream",
     "text": [
      "{4, 5}\n"
     ]
    }
   ],
   "source": [
    "set1 = {1, 2, 3, 4, 5}\n",
    "set2 = {4, 5, 6, 7, 8}\n",
    "print( intersection(set1,set2))"
   ]
  },
  {
   "cell_type": "code",
   "execution_count": 47,
   "id": "e601a649-b74b-4b60-8854-319398758361",
   "metadata": {},
   "outputs": [],
   "source": [
    "def intersection(set1,set2):\n",
    "    for i in set1:\n",
    "        if i in set2:\n",
    "            print(i)"
   ]
  },
  {
   "cell_type": "code",
   "execution_count": 48,
   "id": "5d5d65a7-1e9d-4b71-85b8-fab5b76b7967",
   "metadata": {},
   "outputs": [
    {
     "name": "stdout",
     "output_type": "stream",
     "text": [
      "4\n",
      "5\n",
      "None\n"
     ]
    }
   ],
   "source": [
    "set1 = {1, 2, 3, 4, 5}\n",
    "set2 = {4, 5, 6, 7, 8}\n",
    "print( intersection(set1,set2))"
   ]
  },
  {
   "cell_type": "markdown",
   "id": "5b4b5120-69ff-4dcb-a4e4-482cddb78993",
   "metadata": {},
   "source": [
    "Quesion11.Find the difference between two sets"
   ]
  },
  {
   "cell_type": "code",
   "execution_count": 52,
   "id": "b415a0dc-8031-4231-b370-d7d2d63931ea",
   "metadata": {},
   "outputs": [],
   "source": [
    "def difference1(set1,set2):\n",
    "\n",
    "    difference_set = set1 - set2\n",
    "    return (difference_set)"
   ]
  },
  {
   "cell_type": "code",
   "execution_count": 53,
   "id": "7390dbb6-7fcb-4d6b-8a07-6b0eec8c9e9c",
   "metadata": {},
   "outputs": [
    {
     "name": "stdout",
     "output_type": "stream",
     "text": [
      "{1, 2, 3}\n"
     ]
    }
   ],
   "source": [
    "set1 = {1, 2, 3, 4, 5}\n",
    "set2 = {4, 5, 6, 7, 8}\n",
    "print(difference1(set1,set2))"
   ]
  },
  {
   "cell_type": "code",
   "execution_count": 54,
   "id": "8f7eb758-f33d-42b7-9764-04447557df0b",
   "metadata": {},
   "outputs": [
    {
     "name": "stdout",
     "output_type": "stream",
     "text": [
      "{1, 2, 3}\n"
     ]
    }
   ],
   "source": [
    "set1 = {1, 2, 3, 4, 5}\n",
    "set2 = {4, 5, 6, 7, 8}\n",
    "\n",
    "difference_set = set1 - set2\n",
    "print(difference_set)"
   ]
  },
  {
   "cell_type": "markdown",
   "id": "2bcec21b-38ec-45ee-8d72-5428d8fb8b3c",
   "metadata": {},
   "source": [
    "Quesion12.Check if a set is a subset of another set."
   ]
  },
  {
   "cell_type": "code",
   "execution_count": 56,
   "id": "3ddb6695-f959-4245-9954-a03f7ea078fe",
   "metadata": {},
   "outputs": [
    {
     "name": "stdout",
     "output_type": "stream",
     "text": [
      "Is {1, 2} a subset of {1, 2, 3, 4}? True\n"
     ]
    }
   ],
   "source": [
    "def check_subset_difference(set_a, set_b):\n",
    "    return len(set_a - set_b) == 0\n",
    "\n",
    "set1 = {1, 2}\n",
    "set2 = {1, 2, 3, 4}\n",
    "\n",
    "print(f\"Is {set1} a subset of {set2}? {check_subset_difference(set1, set2)}\")"
   ]
  },
  {
   "cell_type": "markdown",
   "id": "ef9ae85a-2400-4c91-9cba-b018980b477f",
   "metadata": {},
   "source": [
    "Quesion13.Check if a set is a superset of another set"
   ]
  },
  {
   "cell_type": "code",
   "execution_count": 80,
   "id": "4cf152d0-0bcf-4378-b68a-e7bda20e1934",
   "metadata": {},
   "outputs": [
    {
     "data": {
      "text/plain": [
       "True"
      ]
     },
     "execution_count": 80,
     "metadata": {},
     "output_type": "execute_result"
    }
   ],
   "source": [
    "set1 = {1, 2, 3, 4}\n",
    "set2 = {1, 2, 3}\n",
    "set1 >= set2"
   ]
  },
  {
   "cell_type": "markdown",
   "id": "21273c67-ba13-4fd2-ae3f-4eee600e604a",
   "metadata": {},
   "source": [
    "Quesion14.Create a set from a list"
   ]
  },
  {
   "cell_type": "code",
   "execution_count": 83,
   "id": "a28471c4-d55b-4f68-9fda-0bb32b5c8143",
   "metadata": {},
   "outputs": [
    {
     "name": "stdout",
     "output_type": "stream",
     "text": [
      "{1, 2, 3, 4, 5}\n"
     ]
    }
   ],
   "source": [
    "my_list = [1, 2, 3, 2, 4, 3, 5]\n",
    "list1 =[]\n",
    "for i in my_list:\n",
    "    list1.append(i)\n",
    "print(set(list1))"
   ]
  },
  {
   "cell_type": "markdown",
   "id": "ae70ecbf-1ce0-4274-b7ee-29e778682911",
   "metadata": {},
   "source": [
    "Quesion15.Convert a set to a list."
   ]
  },
  {
   "cell_type": "code",
   "execution_count": 84,
   "id": "56000d75-f6e3-4712-9424-e1ec0c079a25",
   "metadata": {},
   "outputs": [
    {
     "name": "stdout",
     "output_type": "stream",
     "text": [
      "[1, 2, 3, 4, 5]\n"
     ]
    }
   ],
   "source": [
    "my_set = {1, 2, 3, 4, 5}\n",
    "my_list = list(my_set)\n",
    "print(my_list)"
   ]
  },
  {
   "cell_type": "markdown",
   "id": "3731ce51-d0b3-4528-862d-271c2aa84b61",
   "metadata": {},
   "source": [
    "Quesion16.Remove a random element from a set"
   ]
  },
  {
   "cell_type": "code",
   "execution_count": 85,
   "id": "457066de-7fbd-49d7-97de-a2965e326012",
   "metadata": {},
   "outputs": [
    {
     "name": "stdout",
     "output_type": "stream",
     "text": [
      "Removed element: apple\n",
      "Remaining set: {'banana', 'cherry', 'date'}\n"
     ]
    }
   ],
   "source": []
  },
  {
   "cell_type": "markdown",
   "id": "1e067be3-aef3-45a3-8bff-79746d11163f",
   "metadata": {},
   "source": [
    "Quesion17.17. Pop an element from a set."
   ]
  },
  {
   "cell_type": "code",
   "execution_count": 86,
   "id": "a2d2b55a-f4e0-468a-b57d-83f7d1f393b5",
   "metadata": {},
   "outputs": [
    {
     "name": "stdout",
     "output_type": "stream",
     "text": [
      "Removed element: apple\n",
      "Remaining set: {'banana', 'cherry', 'date'}\n"
     ]
    }
   ],
   "source": [
    "my_set = {\"apple\", \"banana\", \"cherry\", \"date\"}\n",
    "removed_element = my_set.pop()\n",
    "print(f\"Removed element: {removed_element}\")\n",
    "print(f\"Remaining set: {my_set}\")"
   ]
  },
  {
   "cell_type": "markdown",
   "id": "2da4785f-949c-43b0-b67e-080266913e6f",
   "metadata": {},
   "source": [
    "Quesion18.Check if two sets have no elements in common"
   ]
  },
  {
   "cell_type": "code",
   "execution_count": 97,
   "id": "ce0fdd7c-1cfa-4ec2-aa5c-3dc7f8631cc1",
   "metadata": {},
   "outputs": [],
   "source": [
    "def no_common(set1,set2):\n",
    "    for i in set1:\n",
    "        if i in set2:\n",
    "            return True\n",
    "    else:\n",
    "        return False"
   ]
  },
  {
   "cell_type": "code",
   "execution_count": 100,
   "id": "c45bcfb2-0702-414b-9b98-8b880b021c8c",
   "metadata": {},
   "outputs": [
    {
     "name": "stdout",
     "output_type": "stream",
     "text": [
      "True\n"
     ]
    }
   ],
   "source": [
    "set1 = {1, 2, 3, 4, 5}\n",
    "set2 = { 5,6, 7, 8}\n",
    "print(no_common(set1,set2))"
   ]
  },
  {
   "cell_type": "markdown",
   "id": "e9f3b3a6-a45f-4289-b00f-6672566e1e98",
   "metadata": {},
   "source": [
    "Quesion19.Find the symmetric difference between two sets."
   ]
  },
  {
   "cell_type": "code",
   "execution_count": 116,
   "id": "2eed1064-d834-45d1-b921-5af89da0a965",
   "metadata": {},
   "outputs": [
    {
     "name": "stdout",
     "output_type": "stream",
     "text": [
      "{1, 2, 5, 6}\n"
     ]
    }
   ],
   "source": [
    "set1 = {1, 2, 3, 4}\n",
    "set2 = {3, 4, 5, 6}\n",
    "\n",
    "symmetric_diff = set1 ^ set2\n",
    "print(symmetric_diff)"
   ]
  },
  {
   "cell_type": "code",
   "execution_count": 118,
   "id": "59b063b5-4984-4e52-81ea-6d9ca39a7144",
   "metadata": {},
   "outputs": [],
   "source": [
    "def symmetric_diff(set1,set2):\n",
    "    a = set1-set2\n",
    "    b= set2-set1\n",
    "    c = a|b\n",
    "    return c"
   ]
  },
  {
   "cell_type": "code",
   "execution_count": 119,
   "id": "be8bb81d-0e5a-444c-8280-48a1539d65c3",
   "metadata": {},
   "outputs": [
    {
     "name": "stdout",
     "output_type": "stream",
     "text": [
      "{1, 2, 5, 6}\n"
     ]
    }
   ],
   "source": [
    "set1 = {1, 2, 3, 4}\n",
    "set2 = {3, 4, 5, 6}\n",
    "print(symmetric_diff(set1,set2))"
   ]
  },
  {
   "cell_type": "markdown",
   "id": "f06f586e-ed66-41bd-a374-0df1773dbb61",
   "metadata": {},
   "source": [
    "Quesion20.Update a set with elements from another set."
   ]
  },
  {
   "cell_type": "code",
   "execution_count": 120,
   "id": "e941f9ed-ab97-4acb-a521-4b6f844bee97",
   "metadata": {},
   "outputs": [
    {
     "name": "stdout",
     "output_type": "stream",
     "text": [
      "{50, 20, 40, 10, 30}\n"
     ]
    }
   ],
   "source": [
    "set_a = {10, 20, 30}\n",
    "set_b = {30, 40, 50}\n",
    "\n",
    "set_a |= set_b\n",
    "\n",
    "print(set_a)"
   ]
  },
  {
   "cell_type": "markdown",
   "id": "2cb8d8db-53e2-4b9a-a59b-9a6ef1bfdfc9",
   "metadata": {},
   "source": [
    "Quesion21.Create a set of the first 5 prime numbers"
   ]
  },
  {
   "cell_type": "code",
   "execution_count": null,
   "id": "512d5a59-7fed-497a-b90c-ec57a87999ae",
   "metadata": {},
   "outputs": [],
   "source": []
  },
  {
   "cell_type": "markdown",
   "id": "bf846d81-5a72-4453-9125-cb06c92b9c26",
   "metadata": {},
   "source": [
    "Quesion22.Check if two sets are identical."
   ]
  },
  {
   "cell_type": "code",
   "execution_count": 126,
   "id": "c3a12340-f776-44a0-b5c2-cba1244d4fbe",
   "metadata": {},
   "outputs": [
    {
     "name": "stdout",
     "output_type": "stream",
     "text": [
      "Are set1 and set2 identical? True\n",
      "Are set1 and set3 identical? False\n"
     ]
    }
   ],
   "source": [
    "set1 = {1, 2, 3}\n",
    "set2 = {3, 1, 2}\n",
    "set3 = {1, 2, 4}\n",
    "\n",
    "set1 == set2 \n",
    "set1 == set3\n",
    "\n",
    "\n",
    "print(f\"Are set1 and set2 identical? {are_identical_1_2}\")\n",
    "print(f\"Are set1 and set3 identical? {are_identical_1_3}\")"
   ]
  },
  {
   "cell_type": "markdown",
   "id": "73388630-9dee-4af5-a8ed-c6448119c49e",
   "metadata": {},
   "source": [
    "Quesion23.Create a frozen set."
   ]
  },
  {
   "cell_type": "code",
   "execution_count": null,
   "id": "4f7d58f6-cb26-495f-b671-87d2cef784ca",
   "metadata": {},
   "outputs": [],
   "source": []
  },
  {
   "cell_type": "markdown",
   "id": "f591fb3b-c43c-41bb-a190-d524ec620443",
   "metadata": {},
   "source": [
    "Quesion24.Check if a set is disjoint with another set."
   ]
  },
  {
   "cell_type": "code",
   "execution_count": 133,
   "id": "2ada9767-0529-42a6-8a51-acbc161f7602",
   "metadata": {},
   "outputs": [],
   "source": [
    "def  disjoint(set1,set2):\n",
    "    set3 = set1&set2\n",
    "    if set3 != 0:\n",
    "        return True\n",
    "    else:\n",
    "        return False\n",
    "    "
   ]
  },
  {
   "cell_type": "code",
   "execution_count": 135,
   "id": "2e8b4ee3-b629-4ffb-880f-74637aab0dca",
   "metadata": {},
   "outputs": [
    {
     "name": "stdout",
     "output_type": "stream",
     "text": [
      "True\n"
     ]
    }
   ],
   "source": [
    "set1 = {1, 2, 3}\n",
    "set2 = {4, 5, 6}\n",
    "print(disjoint(set1,set2))"
   ]
  },
  {
   "cell_type": "markdown",
   "id": "78c19f64-8d2f-4398-b780-c8630a98c397",
   "metadata": {},
   "source": [
    "Quesion25. Create a set of squares of numbers from 1 to 5\n"
   ]
  },
  {
   "cell_type": "code",
   "execution_count": 151,
   "id": "3f67424b-1e4b-40c1-9eb9-34be7481123a",
   "metadata": {},
   "outputs": [],
   "source": [
    "def set_of_squares(n):\n",
    "    list1 = []\n",
    "    for i in range(1,n+1):\n",
    "        list1.append(i**2)\n",
    "    return set(list1)"
   ]
  },
  {
   "cell_type": "code",
   "execution_count": 154,
   "id": "37ab11db-0882-44be-b36c-f9ab97dd83e5",
   "metadata": {},
   "outputs": [
    {
     "name": "stdout",
     "output_type": "stream",
     "text": [
      "{1, 4, 36, 9, 16, 25}\n"
     ]
    }
   ],
   "source": [
    "n = 6\n",
    "print(set_of_squares(n))"
   ]
  },
  {
   "cell_type": "markdown",
   "id": "d7358858-9067-4e05-8dbc-8749e647fd2a",
   "metadata": {},
   "source": [
    "Quesion26.Filter out all even numbers from a set."
   ]
  },
  {
   "cell_type": "code",
   "execution_count": 167,
   "id": "10316741-4679-492e-830e-fe66020aaf36",
   "metadata": {},
   "outputs": [],
   "source": [
    "def set_of_even(set1):\n",
    "    list1 = []\n",
    "    for i in set1:\n",
    "        if i%2 ==0:\n",
    "            \n",
    "            list1.append(i)\n",
    "    return set(list1)"
   ]
  },
  {
   "cell_type": "code",
   "execution_count": 168,
   "id": "e7ab8b9a-5969-4d63-90da-d08c2af141cc",
   "metadata": {},
   "outputs": [
    {
     "name": "stdout",
     "output_type": "stream",
     "text": [
      "{2, 4, 6, 8, 10, 12, 44}\n"
     ]
    }
   ],
   "source": [
    "set1 = {1,2,3,4,5,6,7,8,9,10,11,12,13,43,44,45,67}\n",
    "print( set_of_even(set1))"
   ]
  },
  {
   "cell_type": "markdown",
   "id": "a602d137-9721-4222-8079-9ab40909c35d",
   "metadata": {},
   "source": [
    "Quesion27. Multiply all elements in a set by 2."
   ]
  },
  {
   "cell_type": "code",
   "execution_count": 174,
   "id": "dfd5c387-02ab-414c-a07a-3958ef7756ba",
   "metadata": {},
   "outputs": [],
   "source": [
    "def set_of_multiply(n):\n",
    "    list1 = []\n",
    "    for i in range(1,n+1):\n",
    "        list1.append(i*2)\n",
    "    return set(list1)"
   ]
  },
  {
   "cell_type": "code",
   "execution_count": 175,
   "id": "2e3fc26a-dd60-4133-bd8f-487ca639dc17",
   "metadata": {},
   "outputs": [
    {
     "name": "stdout",
     "output_type": "stream",
     "text": [
      "{2, 4, 6, 8, 10, 12}\n"
     ]
    }
   ],
   "source": [
    "n = 6\n",
    "print(set_of_multiply(n))"
   ]
  },
  {
   "cell_type": "markdown",
   "id": "b2cd3446-fefa-4737-bbcf-65bee0f2b020",
   "metadata": {},
   "source": [
    "Quesion28.. Create a set of random numbers."
   ]
  },
  {
   "cell_type": "code",
   "execution_count": 1,
   "id": "0a32816f-28b2-4795-ac64-bbc9b7151014",
   "metadata": {},
   "outputs": [
    {
     "name": "stdout",
     "output_type": "stream",
     "text": [
      "{1, 2, 3, 4, 5, 6, 7, 8, 9, 10, 14, 15, 18, 19}\n"
     ]
    }
   ],
   "source": [
    "set1={1,2,3,4,5,6,7,8,9,10,14,15,18,19}\n",
    "print(set1)"
   ]
  },
  {
   "cell_type": "markdown",
   "id": "4e01b44f-b823-40ea-a464-3d16f2cdf004",
   "metadata": {},
   "source": [
    "Quesion29.Check if a set is empty"
   ]
  },
  {
   "cell_type": "code",
   "execution_count": 20,
   "id": "9bedf509-dcfa-4935-9ece-67b3d00fbd6d",
   "metadata": {},
   "outputs": [],
   "source": [
    "def empty(set1):\n",
    "    if len(set1)<=0:\n",
    "        return \"set is empty\"\n",
    "    else:\n",
    "        return \"set is not empty\""
   ]
  },
  {
   "cell_type": "code",
   "execution_count": 21,
   "id": "3e2ed076-e9cd-409b-889e-688cf8ac1174",
   "metadata": {},
   "outputs": [
    {
     "name": "stdout",
     "output_type": "stream",
     "text": [
      "set is empty\n"
     ]
    }
   ],
   "source": [
    "set1 =()\n",
    "print(empty(set1))"
   ]
  },
  {
   "cell_type": "markdown",
   "id": "9f8f0d1a-7e0a-47ce-9aae-051f6ad337fd",
   "metadata": {},
   "source": [
    "Quesoin31.Remove an element from a set using the discard method"
   ]
  },
  {
   "cell_type": "code",
   "execution_count": 29,
   "id": "beed558b-020f-46df-b722-cab8657ebc6c",
   "metadata": {},
   "outputs": [
    {
     "name": "stdout",
     "output_type": "stream",
     "text": [
      "Original set: {1, 2, 3, 4, 5}\n",
      "{1, 2, 4, 5}\n",
      "{1, 2, 4, 5}\n"
     ]
    }
   ],
   "source": [
    "my_set = {1, 2, 3, 4, 5}\n",
    "print(f\"Original set: {my_set}\")\n",
    "\n",
    "my_set.discard(3)\n",
    "print(my_set)\n",
    "\n",
    "my_set.discard(6)\n",
    "print( my_set)"
   ]
  },
  {
   "cell_type": "markdown",
   "id": "dd909403-e601-4813-a968-aa334282db5c",
   "metadata": {},
   "source": [
    "Quesion32.Compare two sets"
   ]
  },
  {
   "cell_type": "code",
   "execution_count": 25,
   "id": "433aaa38-582c-41f5-9cad-e63ee8954d37",
   "metadata": {},
   "outputs": [
    {
     "name": "stdout",
     "output_type": "stream",
     "text": [
      "True\n",
      "False\n"
     ]
    }
   ],
   "source": [
    "set1 = {1, 2, 3}\n",
    "set2 = {3, 2, 1}\n",
    "set3 = {1, 2, 4}\n",
    "\n",
    "print(set1 == set2) \n",
    "print(set1 == set3) "
   ]
  },
  {
   "cell_type": "markdown",
   "id": "12bafdd6-baef-43d7-8a1a-4a93c4131e97",
   "metadata": {},
   "source": [
    "Quesion33.Create a set from a string."
   ]
  },
  {
   "cell_type": "code",
   "execution_count": 30,
   "id": "7714755b-3e96-4991-b747-17d07927ddef",
   "metadata": {},
   "outputs": [
    {
     "name": "stdout",
     "output_type": "stream",
     "text": [
      "{'elements', 'Shuffle', 'of', 'the', 'randomly', 'list', 'a'}\n"
     ]
    }
   ],
   "source": [
    "def  split(string):\n",
    "    list1 =[]\n",
    "    start = 0\n",
    "    for i in range(0,len(string)):\n",
    "        if string[i] ==\" \":\n",
    "            space_index = i\n",
    "            word = string[start:space_index]\n",
    "            start = space_index+1\n",
    "            list1.append(word)\n",
    "    list1.append(string[start:])\n",
    "    return set(list1)\n",
    "            \n",
    "string = \"Shuffle the elements of a list randomly\"        \n",
    "print(split(string)) "
   ]
  },
  {
   "cell_type": "markdown",
   "id": "2ab38b3a-5f2a-45fc-8fbc-2260f62585c2",
   "metadata": {},
   "source": [
    "Quesion34.Convert a set of strings to a set of integers."
   ]
  },
  {
   "cell_type": "markdown",
   "id": "bfe44e0b-b7bc-4897-9441-61d3de2f7984",
   "metadata": {},
   "source": [
    "Quesion34.Convert a set of strings to a set of integers"
   ]
  },
  {
   "cell_type": "code",
   "execution_count": 33,
   "id": "23473df6-80e0-46d4-98c8-951fe7692282",
   "metadata": {},
   "outputs": [
    {
     "name": "stdout",
     "output_type": "stream",
     "text": [
      "{'1,2,3,4,5,6,7,8,9'}\n"
     ]
    }
   ],
   "source": [
    "def  split(string):\n",
    "    list1 =[]\n",
    "    start = 0\n",
    "    for i in range(0,len(string)):\n",
    "        if string[i] ==\" \":\n",
    "            space_index = i\n",
    "            word = string[start:space_index]\n",
    "            start = space_index+1\n",
    "            list1.append(word)\n",
    "    list1.append(string[start:])\n",
    "    return set(list1)\n",
    "            \n",
    "string = \"1,2,3,4,5,6,7,8,9\"        \n",
    "print(split(string)) "
   ]
  },
  {
   "cell_type": "code",
   "execution_count": 36,
   "id": "0232c16a-226c-491b-9307-95c8c44f6c6b",
   "metadata": {},
   "outputs": [],
   "source": [
    "def  split(string):\n",
    "    list1 =[]\n",
    "    start = 0\n",
    "    for i in range(1,len(string)):\n",
    "        list1.append(int(i))\n",
    "    return set(list1)"
   ]
  },
  {
   "cell_type": "code",
   "execution_count": 38,
   "id": "6d1ba2fa-9949-47ac-a6b5-6b1b10079eca",
   "metadata": {},
   "outputs": [
    {
     "name": "stdout",
     "output_type": "stream",
     "text": [
      "{1, 2, 3, 4, 5, 6, 7, 8, 9, 10}\n"
     ]
    }
   ],
   "source": [
    "            \n",
    "string = \"12345678910\"        \n",
    "print(split(string))"
   ]
  },
  {
   "cell_type": "markdown",
   "id": "fdd63c66-2225-4b0d-8c6d-24cab10ffc58",
   "metadata": {},
   "source": [
    "Quesion35.Convert a set of integers to a set of strings."
   ]
  },
  {
   "cell_type": "code",
   "execution_count": 40,
   "id": "7f1c3433-d92c-491e-bd7c-c7f1fb35d7d1",
   "metadata": {},
   "outputs": [],
   "source": [
    "def  split(integers):\n",
    "    list1 =[]\n",
    "    start = 0\n",
    "    for i in integers:\n",
    "        list1.append(str(i))\n",
    "    return set(list1)"
   ]
  },
  {
   "cell_type": "code",
   "execution_count": 41,
   "id": "3af670a7-3aef-4942-8cbb-6526f4f9fded",
   "metadata": {},
   "outputs": [
    {
     "name": "stdout",
     "output_type": "stream",
     "text": [
      "{'8', '9', '5', '2', '1', '3', '6', '4', '7'}\n"
     ]
    }
   ],
   "source": [
    "integers = 1,2,3,4,5,6,7,8,9\n",
    "print(split(integers))"
   ]
  },
  {
   "cell_type": "markdown",
   "id": "cfd3837f-a9a4-4266-8192-28c035192f63",
   "metadata": {},
   "source": [
    "Quesion36. Create a set from a tuple."
   ]
  },
  {
   "cell_type": "code",
   "execution_count": 52,
   "id": "de63aa94-d4c4-40ec-93c9-393296494bd1",
   "metadata": {},
   "outputs": [],
   "source": [
    "def  split(tup):\n",
    "    list1 =[]\n",
    "    start = 0\n",
    "    for i in range(0,len(tup)):\n",
    "        list1.append(tup[i])\n",
    "    return set(list1)"
   ]
  },
  {
   "cell_type": "code",
   "execution_count": 54,
   "id": "e75159ac-6a9f-43f0-a12e-a4dc0140b851",
   "metadata": {},
   "outputs": [
    {
     "name": "stdout",
     "output_type": "stream",
     "text": [
      "{1, 2, 3, 4, 5, 6, 7, 8, 9, 'mohit'}\n"
     ]
    }
   ],
   "source": [
    "tup = (1,2,3,4,5,\"mohit\",6,7,8,9)\n",
    "print(split(tup))"
   ]
  },
  {
   "cell_type": "markdown",
   "id": "d693ef0f-bd56-4a3c-8308-7b32fe60aeb4",
   "metadata": {},
   "source": [
    "Quesion37.Convert a set to a tuple."
   ]
  },
  {
   "cell_type": "code",
   "execution_count": 59,
   "id": "2afb09ec-ee97-4cc2-8117-a817555705b6",
   "metadata": {},
   "outputs": [
    {
     "name": "stdout",
     "output_type": "stream",
     "text": [
      "('banana', 'apple', 'cherry')\n",
      "<class 'tuple'>\n"
     ]
    }
   ],
   "source": [
    "\n",
    "my_set = {'apple', 'banana', 'cherry'}\n",
    "my_tuple = tuple(my_set)\n",
    "print(my_tuple)\n",
    "print(type(my_tuple))"
   ]
  },
  {
   "cell_type": "markdown",
   "id": "579f4402-cd77-408f-a463-bd83d2a6544d",
   "metadata": {},
   "source": [
    "Quesoin38.Find the maximum value in a set."
   ]
  },
  {
   "cell_type": "code",
   "execution_count": 60,
   "id": "2d47a836-8607-466c-9c86-0ccbeb6e95e6",
   "metadata": {},
   "outputs": [],
   "source": [
    "def maximum_value(set1):\n",
    "    max_val = 0\n",
    "    for i in set1:\n",
    "        if i>max_val:\n",
    "            max_val=i\n",
    "    return max_val"
   ]
  },
  {
   "cell_type": "code",
   "execution_count": 63,
   "id": "f00e59fe-7934-4fc2-b0e3-513b8f48ad3c",
   "metadata": {},
   "outputs": [
    {
     "name": "stdout",
     "output_type": "stream",
     "text": [
      "15\n"
     ]
    }
   ],
   "source": [
    "set1={1,2,3,4,15,5,8,7,6}\n",
    "print(maximum_value(set1))"
   ]
  },
  {
   "cell_type": "markdown",
   "id": "15863839-fe54-4b83-9606-b4f0d922475d",
   "metadata": {},
   "source": [
    "Quesion39.Find the minimum value in a set."
   ]
  },
  {
   "cell_type": "code",
   "execution_count": 81,
   "id": "1f160294-4f01-409a-b227-6a304c29764e",
   "metadata": {},
   "outputs": [],
   "source": [
    "def maximum_value(set1):\n",
    "    max_val = 0\n",
    "    for i in set1:\n",
    "        if i>max_val:\n",
    "            max_val=i\n",
    "    return max_val\n",
    "\n",
    "\n",
    "def minimum_value(set1):\n",
    "    min_val = maximum_value(set1)\n",
    "    for i in  set1:\n",
    "        if i<min_val:\n",
    "            min_val = i\n",
    "    return min_val\n",
    "\n"
   ]
  },
  {
   "cell_type": "code",
   "execution_count": 95,
   "id": "bba5c079-1cac-4ebd-9bc2-4ecd3994bd47",
   "metadata": {},
   "outputs": [
    {
     "name": "stdout",
     "output_type": "stream",
     "text": [
      "None\n"
     ]
    },
    {
     "ename": "TypeError",
     "evalue": "'NoneType' object is not subscriptable",
     "output_type": "error",
     "traceback": [
      "\u001b[31m---------------------------------------------------------------------------\u001b[39m",
      "\u001b[31mTypeError\u001b[39m                                 Traceback (most recent call last)",
      "\u001b[36mCell\u001b[39m\u001b[36m \u001b[39m\u001b[32mIn[95]\u001b[39m\u001b[32m, line 2\u001b[39m\n\u001b[32m      1\u001b[39m set1 ={\u001b[32m8\u001b[39m,\u001b[32m5\u001b[39m,\u001b[32m4\u001b[39m,\u001b[32m9\u001b[39m,\u001b[32m7\u001b[39m,\u001b[32m6\u001b[39m,\u001b[32m2\u001b[39m,\u001b[32m3\u001b[39m,\u001b[32m15\u001b[39m,\u001b[32m16\u001b[39m}\n\u001b[32m----> \u001b[39m\u001b[32m2\u001b[39m \u001b[38;5;28mprint\u001b[39m(\u001b[43mminimum_value\u001b[49m\u001b[43m(\u001b[49m\u001b[43mset1\u001b[49m\u001b[43m)\u001b[49m)\n",
      "\u001b[36mCell\u001b[39m\u001b[36m \u001b[39m\u001b[32mIn[92]\u001b[39m\u001b[32m, line 4\u001b[39m, in \u001b[36mminimum_value\u001b[39m\u001b[34m(set1)\u001b[39m\n\u001b[32m      2\u001b[39m list1 = \u001b[38;5;28mlist\u001b[39m(set1).sort()\n\u001b[32m      3\u001b[39m \u001b[38;5;28mprint\u001b[39m(list1)\n\u001b[32m----> \u001b[39m\u001b[32m4\u001b[39m \u001b[38;5;28;01mreturn\u001b[39;00m \u001b[43mlist1\u001b[49m\u001b[43m[\u001b[49m\u001b[32;43m0\u001b[39;49m\u001b[43m]\u001b[49m\n",
      "\u001b[31mTypeError\u001b[39m: 'NoneType' object is not subscriptable"
     ]
    }
   ],
   "source": [
    "set1 ={8,5,4,9,7,6,2,3,15,16}\n",
    "print(minimum_value(set1))"
   ]
  },
  {
   "cell_type": "code",
   "execution_count": null,
   "id": "709c9d45-b56f-4bc0-9c74-067db1ebf905",
   "metadata": {},
   "outputs": [],
   "source": [
    "def minimum_value(set1):\n",
    "    list1 = list(set1)\n",
    "    n = len(list1)\n",
    "    "
   ]
  },
  {
   "cell_type": "code",
   "execution_count": 102,
   "id": "1d195062-ab49-4b57-9369-d12164b4e78a",
   "metadata": {},
   "outputs": [],
   "source": [
    "def minimum_value(set1):\n",
    "    print(set1)\n",
    "    list1 = list(set1)\n",
    "    list1.\n",
    "    return list1[0]\n",
    "    \n",
    "    "
   ]
  },
  {
   "cell_type": "code",
   "execution_count": 103,
   "id": "4427ca13-ad85-4fc5-81af-5910e5fc9933",
   "metadata": {},
   "outputs": [
    {
     "name": "stdout",
     "output_type": "stream",
     "text": [
      "{2, 3, 4, 5, 6, 7, 8, 9, 15, 16}\n"
     ]
    },
    {
     "data": {
      "text/plain": [
       "2"
      ]
     },
     "execution_count": 103,
     "metadata": {},
     "output_type": "execute_result"
    }
   ],
   "source": [
    "minimum_value(set1)"
   ]
  },
  {
   "cell_type": "code",
   "execution_count": 104,
   "id": "98dade91-79c0-4965-9187-233ffec22027",
   "metadata": {},
   "outputs": [],
   "source": [
    "list1 =[1,2,3,4,5]\n",
    "list1.sort()"
   ]
  },
  {
   "cell_type": "markdown",
   "id": "e622c648-7af6-433b-b8c6-2ac1f30a78c7",
   "metadata": {},
   "source": [
    "Quesion40.Create a set from user input"
   ]
  },
  {
   "cell_type": "code",
   "execution_count": 105,
   "id": "6bcbadef-fceb-4dd9-b60a-d3a99e644b7f",
   "metadata": {},
   "outputs": [],
   "source": [
    "def creat(set1):\n",
    "    return set1"
   ]
  },
  {
   "cell_type": "code",
   "execution_count": 106,
   "id": "6ce46a38-bc00-4bd8-9e13-c71f7d8d874e",
   "metadata": {},
   "outputs": [
    {
     "data": {
      "text/plain": [
       "{2, 3, 4, 5, 6, 7, 8, 9, 15, 16}"
      ]
     },
     "execution_count": 106,
     "metadata": {},
     "output_type": "execute_result"
    }
   ],
   "source": [
    "creat(set1)"
   ]
  },
  {
   "cell_type": "markdown",
   "id": "ddc1c36c-b587-4441-997c-0552f0033b33",
   "metadata": {},
   "source": [
    "Quesion41.Check if the intersection of two sets is empty."
   ]
  },
  {
   "cell_type": "code",
   "execution_count": 108,
   "id": "611983c5-cc96-461d-9e7c-e61af933babe",
   "metadata": {},
   "outputs": [
    {
     "name": "stdout",
     "output_type": "stream",
     "text": [
      "Intersection is not empty.\n"
     ]
    }
   ],
   "source": [
    "set1 = {1, 2, 3}\n",
    "set2 = {3, 5, 6}\n",
    "\n",
    "if len(set1.intersection(set2)) == 0:\n",
    "    print(\"Intersection is empty.\")\n",
    "else:\n",
    "    print(\"Intersection is not empty.\")"
   ]
  },
  {
   "cell_type": "markdown",
   "id": "ef2a960b-c12c-4b79-aa71-bee335c15da4",
   "metadata": {},
   "source": [
    "Quesion42. Create a set of the first 5 Fibonacci numbers"
   ]
  },
  {
   "cell_type": "code",
   "execution_count": 113,
   "id": "c850892a-afc4-49b2-974f-cf97a1c21fb3",
   "metadata": {},
   "outputs": [
    {
     "name": "stdout",
     "output_type": "stream",
     "text": [
      "{1, 2, 3, 4, 5, 6, 7, 8}\n"
     ]
    }
   ],
   "source": [
    "list1 = [1,2,3,4,5,6,7,7,8,8]\n",
    "list2 = set(list1)\n",
    "print(list2)"
   ]
  },
  {
   "cell_type": "markdown",
   "id": "20dd94cf-9537-4b60-b74d-690d6ab4ed85",
   "metadata": {},
   "source": [
    "Quesion43.Check if two sets have the same elements, regardless of their count."
   ]
  },
  {
   "cell_type": "code",
   "execution_count": 117,
   "id": "27bcef6e-5054-4480-a678-555cc700c334",
   "metadata": {},
   "outputs": [
    {
     "name": "stdout",
     "output_type": "stream",
     "text": [
      "The two collections have the same elements (ignoring count and order).\n"
     ]
    }
   ],
   "source": [
    "list1 = [1, 2, 2, 3, 4]\n",
    "list2 = [4, 3, 1, 2]\n",
    "\n",
    "set1 = set(list1)\n",
    "set2 = set(list2)\n",
    "\n",
    "if set1 == set2:\n",
    "    print(\"The two collections have the same elements (ignoring count and order).\")\n",
    "else:\n",
    "    print(\"The two collections do not have the same elements.\")"
   ]
  },
  {
   "cell_type": "markdown",
   "id": "5441ac11-db03-4cc0-8433-9f73ac67c40a",
   "metadata": {},
   "source": [
    "Quesion44.Create a set of the first `n` powers of 2."
   ]
  },
  {
   "cell_type": "code",
   "execution_count": 118,
   "id": "f2625b64-5182-455f-821a-cc732f9d68db",
   "metadata": {},
   "outputs": [],
   "source": [
    "def power(set1):\n",
    "    list1 =[]\n",
    "    for i in set1:\n",
    "        list1.append(i**2)\n",
    "    return set(list1)"
   ]
  },
  {
   "cell_type": "code",
   "execution_count": 119,
   "id": "6691851b-45b0-4df7-9b80-e51dc217e460",
   "metadata": {},
   "outputs": [
    {
     "data": {
      "text/plain": [
       "{1, 4, 9, 16, 25, 36, 49}"
      ]
     },
     "execution_count": 119,
     "metadata": {},
     "output_type": "execute_result"
    }
   ],
   "source": [
    "set1 = {1,2,3,4,5,6,7}\n",
    "power(set1)"
   ]
  },
  {
   "cell_type": "markdown",
   "id": "9117b035-f209-4f8c-8f66-ae4e96583962",
   "metadata": {},
   "source": [
    "Quesion45.Find the common elements between a set and a list."
   ]
  },
  {
   "cell_type": "code",
   "execution_count": 120,
   "id": "26f46b53-416f-4265-a3de-163947651120",
   "metadata": {},
   "outputs": [
    {
     "name": "stdout",
     "output_type": "stream",
     "text": [
      "The common elements are: {3, 4}\n"
     ]
    }
   ],
   "source": [
    "my_set = {1, 2, 3, 4, 5}\n",
    "my_list = [3, 4, 6, 7, 8]\n",
    "list_as_set = set(my_list)\n",
    "\n",
    "common_elements = my_set.intersection(list_as_set)\n",
    "\n",
    "\n",
    "print(f\"The common elements are: {common_elements}\")"
   ]
  },
  {
   "cell_type": "markdown",
   "id": "b01064ea-645c-40a6-add4-9f488c200363",
   "metadata": {},
   "source": [
    "Quesion46.Create a set of the first `n` triangular numbers."
   ]
  },
  {
   "cell_type": "code",
   "execution_count": 121,
   "id": "1745d6ab-fa88-4eb7-a348-28a2e7f30259",
   "metadata": {},
   "outputs": [],
   "source": [
    "def triangular_numbers(n):\n",
    "    list1 = []\n",
    "    for i in range(1,n):\n",
    "        list1.append(i*(i+1)/2)\n",
    "    return set(list1)\n",
    "        "
   ]
  },
  {
   "cell_type": "code",
   "execution_count": 122,
   "id": "43b986a8-890a-47a4-9d14-ace79e002e32",
   "metadata": {},
   "outputs": [
    {
     "data": {
      "text/plain": [
       "{1.0, 3.0, 6.0, 10.0, 15.0, 21.0, 28.0, 36.0, 45.0}"
      ]
     },
     "execution_count": 122,
     "metadata": {},
     "output_type": "execute_result"
    }
   ],
   "source": [
    "n= 10\n",
    "triangular_numbers(n)"
   ]
  },
  {
   "cell_type": "markdown",
   "id": "33b828e9-b901-4b86-8107-bd23265def09",
   "metadata": {},
   "source": [
    "Quesion47.Check if a set contains another set as a subset."
   ]
  },
  {
   "cell_type": "code",
   "execution_count": 123,
   "id": "8a51f64d-cbad-4eec-af1c-77b0c9c0696c",
   "metadata": {},
   "outputs": [
    {
     "name": "stdout",
     "output_type": "stream",
     "text": [
      "Is set_a a subset of set_b? True\n",
      "Is set_c a subset of set_b? False\n"
     ]
    }
   ],
   "source": [
    "set_a = {1, 2, 3}\n",
    "set_b = {1, 2, 3, 4, 5}\n",
    "set_c = {1, 2, 6}\n",
    "\n",
    "is_a_subset_of_b = set_a.issubset(set_b)\n",
    "print(f\"Is set_a a subset of set_b? {is_a_subset_of_b}\")\n",
    "\n",
    "is_c_subset_of_b = set_c.issubset(set_b)\n",
    "print(f\"Is set_c a subset of set_b? {is_c_subset_of_b}\")"
   ]
  },
  {
   "cell_type": "markdown",
   "id": "2fb8eded-0cc6-4793-8124-ce2907e38271",
   "metadata": {},
   "source": [
    "Quesion48.Create a set of alternating 1s and 0s of length `n`."
   ]
  },
  {
   "cell_type": "code",
   "execution_count": 125,
   "id": "2a85889a-f254-4b68-9b43-c9e789e42972",
   "metadata": {},
   "outputs": [
    {
     "name": "stdout",
     "output_type": "stream",
     "text": [
      "[1, 0, 1, 0, 1, 0, 1]\n"
     ]
    }
   ],
   "source": [
    "def create_alternating_sequence(n):\n",
    "    \n",
    "    if not isinstance(n, int) or n < 0:\n",
    "        raise ValueError(\"n must be a non-negative integer.\")\n",
    "\n",
    "    sequence = []\n",
    "    for i in range(n):\n",
    "        if i % 2 == 0:  \n",
    "            sequence.append(1)\n",
    "        else:  \n",
    "            sequence.append(0)\n",
    "    return sequence\n",
    "\n",
    "\n",
    "length = 7\n",
    "result = create_alternating_sequence(length)\n",
    "print(result)"
   ]
  },
  {
   "cell_type": "markdown",
   "id": "9cc8a53c-fde8-402d-a518-efdb558c406d",
   "metadata": {},
   "source": [
    "Quesion49. Merge multiple sets into one."
   ]
  },
  {
   "cell_type": "code",
   "execution_count": 126,
   "id": "4ea45b53-241a-41aa-bb89-0c324d4c15d3",
   "metadata": {},
   "outputs": [
    {
     "name": "stdout",
     "output_type": "stream",
     "text": [
      "{1, 2, 3, 4, 5, 6, 7}\n"
     ]
    }
   ],
   "source": [
    "set1 = {1, 2, 3}\n",
    "set2 = {3, 4, 5}\n",
    "set3 = {5, 6, 7}\n",
    "\n",
    "combined_set = set1.union(set2, set3)\n",
    "print(combined_set)"
   ]
  },
  {
   "cell_type": "code",
   "execution_count": 127,
   "id": "1e18a9cc-7e83-4607-b3f3-26e22814790f",
   "metadata": {},
   "outputs": [
    {
     "name": "stdout",
     "output_type": "stream",
     "text": [
      "{1, 2, 3, 4, 5, 6, 7}\n"
     ]
    }
   ],
   "source": [
    "set1 = {1, 2, 3}\n",
    "set2 = {3, 4, 5}\n",
    "set3 = {5, 6, 7}\n",
    "\n",
    "combined_set = set1|set2|set3\n",
    "print(combined_set)"
   ]
  },
  {
   "cell_type": "code",
   "execution_count": null,
   "id": "7de5b079-c423-4105-a779-6fee9e1ac0f7",
   "metadata": {},
   "outputs": [],
   "source": []
  }
 ],
 "metadata": {
  "kernelspec": {
   "display_name": "Python 3 (ipykernel)",
   "language": "python",
   "name": "python3"
  },
  "language_info": {
   "codemirror_mode": {
    "name": "ipython",
    "version": 3
   },
   "file_extension": ".py",
   "mimetype": "text/x-python",
   "name": "python",
   "nbconvert_exporter": "python",
   "pygments_lexer": "ipython3",
   "version": "3.11.10"
  }
 },
 "nbformat": 4,
 "nbformat_minor": 5
}
