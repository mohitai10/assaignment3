{
 "cells": [
  {
   "cell_type": "code",
   "execution_count": 1,
   "id": "10c924a3-5519-4ae9-8d40-8e9168821000",
   "metadata": {},
   "outputs": [],
   "source": [
    "## 1 . w   "
   ]
  },
  {
   "cell_type": "code",
   "execution_count": 1,
   "id": "a820a817-968e-4eed-905c-6b5d8facf728",
   "metadata": {},
   "outputs": [
    {
     "data": {
      "text/plain": [
       "'variable_name'"
      ]
     },
     "execution_count": 1,
     "metadata": {},
     "output_type": "execute_result"
    }
   ],
   "source": [
    "def var_name():\n",
    "    return \"variable_name\"\n",
    "\n",
    "var_name()"
   ]
  },
  {
   "cell_type": "code",
   "execution_count": 2,
   "id": "445c65be-9eaf-4056-807b-3d95b0d1d6ef",
   "metadata": {},
   "outputs": [
    {
     "name": "stdout",
     "output_type": "stream",
     "text": [
      "10 20\n"
     ]
    }
   ],
   "source": [
    "x=10\n",
    "y=20\n",
    "print(x,y)"
   ]
  },
  {
   "cell_type": "code",
   "execution_count": 3,
   "id": "571e5f1f-715d-4e90-aa6c-b86a15a8ef0e",
   "metadata": {},
   "outputs": [
    {
     "name": "stdin",
     "output_type": "stream",
     "text": [
      " 1\n",
      " 2\n"
     ]
    },
    {
     "name": "stdout",
     "output_type": "stream",
     "text": [
      "1 2\n"
     ]
    }
   ],
   "source": [
    "x = int(input())\n",
    "y = int(input())\n",
    "\n",
    "### logic\n",
    "print(x,y)"
   ]
  },
  {
   "cell_type": "code",
   "execution_count": 4,
   "id": "f225d6c3-3b16-43ee-adba-583dd66f571e",
   "metadata": {},
   "outputs": [],
   "source": [
    "## step 1 : two varibale banana \n",
    "## step 2 : inke andar value dalna using input \n",
    "## step 3 : x = y and y= x \n",
    "## step 4 : print(x,y)"
   ]
  },
  {
   "cell_type": "code",
   "execution_count": 5,
   "id": "0d1da560-0a18-4c3d-b81a-568f5d91c979",
   "metadata": {},
   "outputs": [
    {
     "name": "stdin",
     "output_type": "stream",
     "text": [
      " 2\n",
      " 4\n"
     ]
    },
    {
     "name": "stdout",
     "output_type": "stream",
     "text": [
      "4 2\n"
     ]
    }
   ],
   "source": [
    "x  = int(input())\n",
    "y = int(input())\n",
    " ## step 3 \n",
    "x,y = y,x\n",
    "\n",
    "print(x,y)"
   ]
  },
  {
   "cell_type": "code",
   "execution_count": 6,
   "id": "c953b37a-cd1c-4652-b111-ae0a6822cb2a",
   "metadata": {},
   "outputs": [],
   "source": [
    "## stap1 :takiing the lenth and width as input\n",
    "## stap calculate and display value of aria"
   ]
  },
  {
   "cell_type": "code",
   "execution_count": 7,
   "id": "336f785f-99bd-4ae5-bd5f-c2e0c83c59b5",
   "metadata": {},
   "outputs": [
    {
     "name": "stdin",
     "output_type": "stream",
     "text": [
      "lenth of rectangle 4\n",
      "width of rectangle 7\n"
     ]
    }
   ],
   "source": [
    "x = int(input(\"lenth of rectangle\"))\n",
    "y = int(input(\"width of rectangle\"))\n",
    "z = (x*y)\n",
    "# print(z(\"area of rectangle\"))"
   ]
  },
  {
   "cell_type": "code",
   "execution_count": 8,
   "id": "8c787ebd-183b-49f5-9d32-e8f758627a4e",
   "metadata": {},
   "outputs": [
    {
     "name": "stdout",
     "output_type": "stream",
     "text": [
      "Area of Rectangle is :  28\n"
     ]
    }
   ],
   "source": [
    "print(\"Area of Rectangle is : \",z)"
   ]
  },
  {
   "cell_type": "code",
   "execution_count": 9,
   "id": "bfb5b7dd-9062-4044-a5e3-5fe8421790ec",
   "metadata": {},
   "outputs": [
    {
     "name": "stdout",
     "output_type": "stream",
     "text": [
      "Area of rectangle 28\n"
     ]
    }
   ],
   "source": [
    "print(f\"Area of rectangle {z}\")"
   ]
  },
  {
   "cell_type": "code",
   "execution_count": 10,
   "id": "568b1fea-6ea2-496b-99cc-379088804daf",
   "metadata": {},
   "outputs": [
    {
     "name": "stdout",
     "output_type": "stream",
     "text": [
      "Area of rectangle 28\n"
     ]
    }
   ],
   "source": [
    "print(\"Area of rectangle {}\".format(z))"
   ]
  },
  {
   "cell_type": "code",
   "execution_count": 11,
   "id": "597c4a92-d7ea-496e-88b7-f6841008cd09",
   "metadata": {},
   "outputs": [
    {
     "name": "stdout",
     "output_type": "stream",
     "text": [
      "length is 4, breadth is 7, and Area is 28\n"
     ]
    }
   ],
   "source": [
    "print(\"length is {}, breadth is {}, and Area is {}\".format(x,y,z))"
   ]
  },
  {
   "cell_type": "code",
   "execution_count": 8,
   "id": "8d625502-ae3f-4c48-9c6d-a16a587702ce",
   "metadata": {},
   "outputs": [],
   "source": [
    "#print(\"length is {length}, breadth is {braeadth}, and Area is {area}\".format(length = x,area= z , braeadth = y))\n"
   ]
  },
  {
   "cell_type": "code",
   "execution_count": 10,
   "id": "4adbffc2-c8d2-4304-97fb-84386ab25340",
   "metadata": {},
   "outputs": [
    {
     "name": "stdout",
     "output_type": "stream",
     "text": [
      "Enter the value of temperatures in celsius :37\n",
      "value of temperatures in fahrenheit: 98.6\n"
     ]
    }
   ],
   "source": [
    "c = int(input(\"Enter the value of temperatures in celsius :\"))\n",
    "F =(c*9/5)+32\n",
    "print(\"value of temperatures in fahrenheit:\",F)"
   ]
  },
  {
   "cell_type": "code",
   "execution_count": 11,
   "id": "61d171ce",
   "metadata": {},
   "outputs": [],
   "source": [
    "#string Q."
   ]
  },
  {
   "cell_type": "code",
   "execution_count": 13,
   "id": "af39880a",
   "metadata": {},
   "outputs": [],
   "source": [
    "# Queson .1 write a python program that a string as input and print  the lenth of the string"
   ]
  },
  {
   "cell_type": "code",
   "execution_count": 14,
   "id": "1ae16fbf",
   "metadata": {},
   "outputs": [],
   "source": [
    "x = (\"mohitkumar\")"
   ]
  },
  {
   "cell_type": "code",
   "execution_count": 15,
   "id": "8a518a33",
   "metadata": {},
   "outputs": [
    {
     "name": "stdout",
     "output_type": "stream",
     "text": [
      "mohitkumar\n"
     ]
    }
   ],
   "source": [
    "print(x)"
   ]
  },
  {
   "cell_type": "code",
   "execution_count": 16,
   "id": "9b68c8b8",
   "metadata": {},
   "outputs": [
    {
     "name": "stdout",
     "output_type": "stream",
     "text": [
      "<class 'str'>\n"
     ]
    }
   ],
   "source": [
    "print (type(x))"
   ]
  },
  {
   "cell_type": "code",
   "execution_count": 18,
   "id": "2b491b14",
   "metadata": {},
   "outputs": [
    {
     "name": "stdout",
     "output_type": "stream",
     "text": [
      "10\n"
     ]
    }
   ],
   "source": [
    "print(len(x))"
   ]
  },
  {
   "cell_type": "code",
   "execution_count": 19,
   "id": "ff09da58",
   "metadata": {},
   "outputs": [],
   "source": [
    "# Queson . 2 counts the number of vowels: "
   ]
  },
  {
   "cell_type": "code",
   "execution_count": 13,
   "id": "ad05a3ea",
   "metadata": {},
   "outputs": [
    {
     "name": "stdout",
     "output_type": "stream",
     "text": [
      "enter the sentence :Rinki is a good girl and she very intelligent \n",
      "2 4 6 0 2\n"
     ]
    }
   ],
   "source": [
    "x = input(\"enter the sentence :\")\n",
    "y = x.count(\"a\")\n",
    "s = x.count(\"e\")\n",
    "d = x.count(\"i\")\n",
    "j = x.count(\"o\")\n",
    "k = x.count(\"u\")\n",
    "print(y,s,d,k, j)"
   ]
  },
  {
   "cell_type": "code",
   "execution_count": 14,
   "id": "637da81e",
   "metadata": {},
   "outputs": [],
   "source": [
    "# Queson 3 print the reversed strint"
   ]
  },
  {
   "cell_type": "code",
   "execution_count": 15,
   "id": "edffaf15",
   "metadata": {},
   "outputs": [
    {
     "name": "stdout",
     "output_type": "stream",
     "text": [
      "38\n"
     ]
    }
   ],
   "source": [
    "str = \"Rinki is a good girl and she very good\"\n",
    "print(len(str))"
   ]
  },
  {
   "cell_type": "code",
   "execution_count": 7,
   "id": "d3b5034b",
   "metadata": {},
   "outputs": [
    {
     "data": {
      "text/plain": [
       "'doog yrev ehs dna lrig doog a si ikniR'"
      ]
     },
     "execution_count": 7,
     "metadata": {},
     "output_type": "execute_result"
    }
   ],
   "source": [
    "str =\"Rinki is a good girl and she very good\"\n",
    "str[::-1]"
   ]
  },
  {
   "cell_type": "code",
   "execution_count": 31,
   "id": "602aa89d",
   "metadata": {},
   "outputs": [],
   "source": [
    "# Qusion .5 "
   ]
  },
  {
   "cell_type": "code",
   "execution_count": 34,
   "id": "99449377",
   "metadata": {},
   "outputs": [
    {
     "name": "stdout",
     "output_type": "stream",
     "text": [
      "Enter the stringRinki is a good girl and she very good\n",
      "Rinkiisagoodgirlandsheverygood\n"
     ]
    }
   ],
   "source": [
    "str1 = input(\"Enter the string\")\n",
    "str2 = str.replace(\" \",\"\")\n",
    "print (str2)"
   ]
  },
  {
   "cell_type": "code",
   "execution_count": null,
   "id": "f353c0e3",
   "metadata": {},
   "outputs": [],
   "source": [
    "# while loop"
   ]
  },
  {
   "cell_type": "code",
   "execution_count": null,
   "id": "fbc3166b",
   "metadata": {},
   "outputs": [],
   "source": [
    "# Queson1. print the number the 1 to 100 using while loop"
   ]
  },
  {
   "cell_type": "code",
   "execution_count": 1,
   "id": "d1b31a02",
   "metadata": {},
   "outputs": [
    {
     "name": "stdout",
     "output_type": "stream",
     "text": [
      "1\n",
      "2\n",
      "3\n",
      "4\n",
      "5\n"
     ]
    }
   ],
   "source": [
    "i = 1\n",
    "while i<=5:\n",
    "    print(i)\n",
    "    i+=1"
   ]
  },
  {
   "cell_type": "code",
   "execution_count": null,
   "id": "8cd2949b",
   "metadata": {},
   "outputs": [],
   "source": [
    "# print the number 10 to 1"
   ]
  },
  {
   "cell_type": "code",
   "execution_count": 2,
   "id": "da7b40d6",
   "metadata": {},
   "outputs": [
    {
     "name": "stdout",
     "output_type": "stream",
     "text": [
      "10\n",
      "9\n",
      "8\n",
      "7\n",
      "6\n",
      "5\n",
      "4\n",
      "3\n",
      "2\n",
      "1\n"
     ]
    }
   ],
   "source": [
    "i= 10\n",
    "while i>=1:\n",
    "    print(i)\n",
    "    i-=1"
   ]
  },
  {
   "cell_type": "code",
   "execution_count": 6,
   "id": "2764b101",
   "metadata": {},
   "outputs": [
    {
     "name": "stdout",
     "output_type": "stream",
     "text": [
      "4\n",
      "8\n",
      "12\n",
      "16\n",
      "20\n",
      "24\n",
      "28\n",
      "32\n",
      "36\n",
      "40\n"
     ]
    }
   ],
   "source": [
    "i = 1\n",
    "n = 4\n",
    "while i<=10:\n",
    "    j=i*n\n",
    "    print(j)\n",
    "    i+=1"
   ]
  },
  {
   "cell_type": "code",
   "execution_count": 11,
   "id": "5cfd9e4f",
   "metadata": {},
   "outputs": [
    {
     "name": "stdout",
     "output_type": "stream",
     "text": [
      "1\n",
      "2\n",
      "3\n",
      "4\n",
      "5\n",
      "6\n",
      "7\n",
      "8\n",
      "9\n"
     ]
    }
   ],
   "source": [
    "num =[1,2,3,4,5,6,7,8,9]\n",
    "i = num[0]\n",
    "while i<=len(num):\n",
    "    print(i)\n",
    "    i+=1\n"
   ]
  },
  {
   "cell_type": "code",
   "execution_count": 22,
   "id": "7001dd58",
   "metadata": {
    "scrolled": false
   },
   "outputs": [
    {
     "name": "stdout",
     "output_type": "stream",
     "text": [
      "number is found 8\n"
     ]
    }
   ],
   "source": [
    "num =[1,2,3,4,5,6,7,8,9]\n",
    "x=8\n",
    "i = num[0]\n",
    "while i<=len(num):\n",
    "    \n",
    "    if (i == x):\n",
    "        \n",
    "        print(\"number is found\",i)\n",
    "      \n",
    "    i+=1"
   ]
  },
  {
   "cell_type": "code",
   "execution_count": 1,
   "id": "97b7f5f7",
   "metadata": {},
   "outputs": [],
   "source": [
    "#for loop"
   ]
  },
  {
   "cell_type": "code",
   "execution_count": 1,
   "id": "6472b841",
   "metadata": {},
   "outputs": [],
   "source": [
    "# Quesion print the elements of the following list  using a loop"
   ]
  },
  {
   "cell_type": "code",
   "execution_count": 2,
   "id": "ef217ed9",
   "metadata": {},
   "outputs": [
    {
     "name": "stdout",
     "output_type": "stream",
     "text": [
      "1\n",
      "4\n",
      "9\n",
      "19\n",
      "25\n",
      "49\n",
      "64\n",
      "81\n",
      "100\n"
     ]
    }
   ],
   "source": [
    "list=[1,4,9,19,25,49,64,81,100]\n",
    "for el in list:\n",
    "    print(el)"
   ]
  },
  {
   "cell_type": "code",
   "execution_count": 3,
   "id": "07e0a1ce",
   "metadata": {},
   "outputs": [],
   "source": [
    "# Quedion.2 search for a number x in this list using loop"
   ]
  },
  {
   "cell_type": "code",
   "execution_count": 6,
   "id": "1e64087e",
   "metadata": {},
   "outputs": [
    {
     "name": "stdout",
     "output_type": "stream",
     "text": [
      " 25 found the number\n"
     ]
    }
   ],
   "source": [
    "list=[1,4,9,19,25,49,64,81,100] \n",
    "x = 25\n",
    "for num in list:\n",
    "    if (num==25):\n",
    "        print(\" 25 found the number\")\n",
    "    "
   ]
  },
  {
   "cell_type": "code",
   "execution_count": 1,
   "id": "1d9f713c",
   "metadata": {},
   "outputs": [],
   "source": [
    "# Quesion .3 print the from 1 to 10 using  for loop"
   ]
  },
  {
   "cell_type": "code",
   "execution_count": 3,
   "id": "ffa165c4",
   "metadata": {},
   "outputs": [
    {
     "name": "stdout",
     "output_type": "stream",
     "text": [
      "1\n",
      "2\n",
      "3\n",
      "4\n",
      "5\n",
      "6\n",
      "7\n",
      "8\n",
      "9\n",
      "10\n"
     ]
    }
   ],
   "source": [
    "for el in range(1,11):\n",
    "    print(el)\n"
   ]
  },
  {
   "cell_type": "code",
   "execution_count": 28,
   "id": "bd89dc52",
   "metadata": {},
   "outputs": [
    {
     "name": "stdout",
     "output_type": "stream",
     "text": [
      "5050\n"
     ]
    }
   ],
   "source": [
    "n = 100\n",
    "sum = 0\n",
    "for i in range (1,n+1):\n",
    "    \n",
    "    sum = sum+i\n",
    "    \n",
    "print( sum)\n",
    "    "
   ]
  },
  {
   "cell_type": "code",
   "execution_count": 20,
   "id": "06f06777",
   "metadata": {},
   "outputs": [
    {
     "name": "stdout",
     "output_type": "stream",
     "text": [
      "1\n",
      "4\n",
      "9\n",
      "19\n",
      "25\n",
      "49\n",
      "64\n",
      "81\n",
      "100\n"
     ]
    }
   ],
   "source": [
    "# Quesion.4\n",
    "list=[1,4,9,19,25,49,64,81,100] \n",
    "for num in list:\n",
    "    print(num)"
   ]
  },
  {
   "cell_type": "code",
   "execution_count": 21,
   "id": "48c453e3",
   "metadata": {},
   "outputs": [],
   "source": [
    "# Quesion 6. print even number from 1 to 20 "
   ]
  },
  {
   "cell_type": "code",
   "execution_count": 26,
   "id": "e30d5bba",
   "metadata": {},
   "outputs": [
    {
     "name": "stdout",
     "output_type": "stream",
     "text": [
      "2\n",
      "4\n",
      "6\n",
      "8\n",
      "10\n",
      "12\n",
      "14\n",
      "16\n",
      "18\n",
      "20\n"
     ]
    }
   ],
   "source": [
    "for num in range(2,21,2):\n",
    "    print(num)\n",
    "    "
   ]
  },
  {
   "cell_type": "code",
   "execution_count": 30,
   "id": "b7463afd",
   "metadata": {
    "scrolled": true
   },
   "outputs": [
    {
     "name": "stdout",
     "output_type": "stream",
     "text": [
      "3628800\n"
     ]
    }
   ],
   "source": [
    "# quesion.7  calculates the factorial of a number using a for loop\n",
    "fact = 1\n",
    "for num in range(1,11):\n",
    "    fact*=num\n",
    "    num+=1\n",
    "print(fact)\n",
    "    "
   ]
  },
  {
   "cell_type": "code",
   "execution_count": 6,
   "id": "355bc189",
   "metadata": {},
   "outputs": [
    {
     "name": "stdout",
     "output_type": "stream",
     "text": [
      "R\n",
      "o\n",
      "h\n",
      "i\n",
      "t\n",
      " \n",
      "k\n",
      "u\n",
      "m\n",
      "a\n",
      "r\n"
     ]
    }
   ],
   "source": [
    "# quesion 8.\n",
    "str3 = \"Rohit kumar\"\n",
    "\n",
    "for i in range(len(str3)):\n",
    "    print(str3[i])\n"
   ]
  },
  {
   "cell_type": "code",
   "execution_count": 17,
   "id": "6db1367b",
   "metadata": {},
   "outputs": [],
   "source": [
    "# quesion 9. find the largest number of an list using for loop"
   ]
  },
  {
   "cell_type": "code",
   "execution_count": 10,
   "id": "2cf53a19",
   "metadata": {},
   "outputs": [
    {
     "name": "stdout",
     "output_type": "stream",
     "text": [
      "11\n"
     ]
    }
   ],
   "source": [
    "list = [5,11,7,10,9,1,2,3]\n",
    "largest_num = 0\n",
    "for i in list:\n",
    "    if i>largest_num:\n",
    "        largest_num = i\n",
    "print(largest_num)\n",
    "    \n",
    "        "
   ]
  },
  {
   "cell_type": "code",
   "execution_count": 3,
   "id": "5f8741d3",
   "metadata": {},
   "outputs": [],
   "source": [
    "# Quesion 11. count the number of vowels in a givan string using a for loop"
   ]
  },
  {
   "cell_type": "code",
   "execution_count": 80,
   "id": "9895e097",
   "metadata": {},
   "outputs": [
    {
     "name": "stdout",
     "output_type": "stream",
     "text": [
      "15\n"
     ]
    }
   ],
   "source": [
    "str1 = \"Rohit is a good teacher and he is a bad boy\"\n",
    "\n",
    "count = 0\n",
    "for j in str1:\n",
    "    if j == \"a\" or j==\"e\" or j==\"i\" or j==\"o\"or j==\"u\":\n",
    "        count+=1\n",
    "print(count)\n",
    "\n",
    "\n",
    " \n",
    " "
   ]
  },
  {
   "cell_type": "code",
   "execution_count": 81,
   "id": "80f1d0ab",
   "metadata": {},
   "outputs": [
    {
     "name": "stdout",
     "output_type": "stream",
     "text": [
      "15\n"
     ]
    }
   ],
   "source": [
    "# Quesion . 11 count the number of vowele in a given string using a for loop \n",
    "##\n",
    "str1 = \"Rohit is a good teacher and he is a bad boy\"\n",
    "\n",
    "count = 0\n",
    "vowele = \"aeiou\"\n",
    "for j in str1:\n",
    "    if j in vowele:\n",
    "        count+=1\n",
    "print(count)"
   ]
  },
  {
   "cell_type": "code",
   "execution_count": 12,
   "id": "88f81967",
   "metadata": {},
   "outputs": [
    {
     "name": "stdout",
     "output_type": "stream",
     "text": [
      "Enter the number :7\n",
      "7\n",
      "14\n",
      "21\n",
      "28\n",
      "35\n",
      "42\n",
      "49\n",
      "56\n",
      "63\n",
      "70\n"
     ]
    }
   ],
   "source": [
    "# Quesion . 12 generates a multiplication table for a given number using a for loop\n",
    "x = int(input(\"Enter the number :\"))\n",
    "for i in range(1,11):\n",
    "        j = i*x\n",
    "        print (j)\n",
    "   "
   ]
  },
  {
   "cell_type": "code",
   "execution_count": 58,
   "id": "32f38955",
   "metadata": {},
   "outputs": [
    {
     "name": "stdout",
     "output_type": "stream",
     "text": [
      "9\n",
      "8\n",
      "7\n",
      "6\n",
      "5\n",
      "4\n",
      "3\n",
      "2\n",
      "1\n"
     ]
    }
   ],
   "source": [
    "# Quesion .13 reverse a list using a for loop\n",
    "list = [1,2,3,4,5,6,7,8,9]\n",
    "for i in list[::-1]:\n",
    "    print(i)"
   ]
  },
  {
   "cell_type": "code",
   "execution_count": 59,
   "id": "d4bcb1c7",
   "metadata": {},
   "outputs": [],
   "source": [
    "#Quesion.14 find the common elements between two lists using a for loop"
   ]
  },
  {
   "cell_type": "code",
   "execution_count": 81,
   "id": "c3258196",
   "metadata": {},
   "outputs": [
    {
     "name": "stdout",
     "output_type": "stream",
     "text": [
      "common elements between  list1 and list2 :\n",
      "1\n",
      "common elements between  list1 and list2 :\n",
      "2\n",
      "common elements between  list1 and list2 :\n",
      "3\n",
      "common elements between  list1 and list2 :\n",
      "4\n",
      "common elements between  list1 and list2 :\n",
      "5\n",
      "common elements between  list1 and list2 :\n",
      "6\n",
      "common elements between  list1 and list2 :\n",
      "7\n"
     ]
    }
   ],
   "source": [
    "list1 = [1,2,3,4,5,6,7,8]\n",
    "list2 = [9,5,2,1,4,6,7,3]\n",
    "for i in list1:\n",
    "    for j in list2:\n",
    "        \n",
    "        if i == j:\n",
    "            print(\"common elements between  list1 and list2 :\")\n",
    "            print(i)"
   ]
  },
  {
   "cell_type": "code",
   "execution_count": 82,
   "id": "0384ca42",
   "metadata": {},
   "outputs": [],
   "source": [
    "# Quesion 15. use a for loop to iterate through the keys and values of a dictionary"
   ]
  },
  {
   "cell_type": "code",
   "execution_count": 105,
   "id": "391bec65",
   "metadata": {},
   "outputs": [
    {
     "name": "stdout",
     "output_type": "stream",
     "text": [
      " key : name , value : mohit kumar\n",
      " key : age , value : 21\n",
      " key : gender , value : male\n"
     ]
    }
   ],
   "source": [
    "dict={\"name\":\"mohit kumar\", \"age\":21,\"gender\":\"male\"}\n",
    "for key, value in  dict.items():\n",
    "    print(f\" key : {key} , value : {value}\" )"
   ]
  },
  {
   "cell_type": "code",
   "execution_count": 106,
   "id": "345b5158",
   "metadata": {},
   "outputs": [],
   "source": [
    "# Quesion 16. find the greatest common divisor of two number using for loop"
   ]
  },
  {
   "cell_type": "code",
   "execution_count": 119,
   "id": "50fe3aef",
   "metadata": {},
   "outputs": [
    {
     "name": "stdout",
     "output_type": "stream",
     "text": [
      "enter the first number: 15\n",
      "enter the second number: 30\n",
      "The computed GCD of 15 and 30 is 15.\n"
     ]
    }
   ],
   "source": [
    "a = int(input(\"enter the first number: \"))\n",
    "b = int(input(\"enter the second number: \"))\n",
    "gcd = 0\n",
    "for i in range(1,min(a,b)+1):\n",
    "    if a%i ==0 and b%i ==0 :\n",
    "        gcd = i\n",
    "print(f\"The computed GCD of {a} and {b} is {gcd}.\")\n",
    "        \n",
    "    \n",
    "    "
   ]
  },
  {
   "cell_type": "code",
   "execution_count": 120,
   "id": "2e80a418",
   "metadata": {},
   "outputs": [
    {
     "name": "stdout",
     "output_type": "stream",
     "text": [
      "The computed GCD of 86 and 44 is 2.\n"
     ]
    }
   ],
   "source": [
    "x = 86 \n",
    "y = 44 \n",
    "n = min(x,y) \n",
    "gcd = 0\n",
    "for i in range(1,n+1):\n",
    "    \n",
    "    if x%i == 0 and y%i == 0:\n",
    "        gcd = i\n",
    "print(f\"The computed GCD of {x} and {y} is {gcd}.\")\n",
    "        \n"
   ]
  },
  {
   "cell_type": "code",
   "execution_count": 121,
   "id": "cb953884",
   "metadata": {},
   "outputs": [],
   "source": [
    "# Quesion 17. checks if string is a palindrome using for loop"
   ]
  },
  {
   "cell_type": "code",
   "execution_count": 157,
   "id": "1f25a1a7",
   "metadata": {},
   "outputs": [
    {
     "name": "stdout",
     "output_type": "stream",
     "text": [
      "\n",
      "\n",
      "\n",
      "\n",
      "\n",
      "\n",
      "\n",
      "\n",
      "\n",
      "\n",
      "\n",
      "\n",
      "\n",
      "\n",
      "\n",
      "\n",
      "\n",
      "\n",
      "\n",
      "\n",
      "\n",
      "\n",
      "\n",
      "\n",
      "\n",
      "\n",
      "\n",
      "\n",
      "\n",
      "\n",
      "\n",
      "\n",
      "\n",
      "\n",
      "\n",
      "\n",
      "\n",
      "\n",
      "\n",
      "\n",
      "\n",
      "\n",
      "\n",
      "\n",
      "\n",
      "\n",
      "\n",
      "\n",
      "\n",
      "\n",
      "\n",
      "\n",
      "\n",
      "\n",
      "\n",
      "\n",
      "\n",
      "\n",
      "\n",
      "\n",
      "\n",
      "\n",
      "\n",
      "\n",
      "\n",
      "\n",
      "\n",
      "\n",
      "\n",
      "\n",
      "\n",
      "\n",
      "\n",
      "\n",
      "\n",
      "\n",
      "\n",
      "\n",
      "\n",
      "\n",
      "\n",
      "\n",
      "\n",
      "\n",
      "\n",
      "\n",
      "\n",
      "\n",
      "\n",
      "\n",
      "\n",
      "\n",
      "\n",
      "\n",
      "\n",
      "\n",
      "\n",
      "\n",
      "\n",
      "\n",
      "\n",
      "\n",
      "\n",
      "\n",
      "\n",
      "\n",
      "\n",
      "\n",
      "\n",
      "\n"
     ]
    }
   ],
   "source": [
    "str1 = \"mohit kumar\"\n",
    "\n",
    "for i in range(len(str1)):\n",
    "    for j in range((len(str1[::-1]))):\n",
    "        if i!=j:\n",
    "            print()"
   ]
  },
  {
   "cell_type": "code",
   "execution_count": 158,
   "id": "a5e7db27",
   "metadata": {},
   "outputs": [],
   "source": [
    "# Quesion 18. remove duplicates from a list using a for loop."
   ]
  },
  {
   "cell_type": "code",
   "execution_count": 174,
   "id": "5035bc88",
   "metadata": {},
   "outputs": [
    {
     "name": "stdout",
     "output_type": "stream",
     "text": [
      "[1, 2, 3, 4, 5, 6, 7, 8, 9]\n"
     ]
    }
   ],
   "source": [
    "list1 = [8,9,4,5,6,8,2,1]\n",
    "unique_list= []\n",
    "for x in list:\n",
    "    if x not in unique_list:\n",
    "         unique_list.append(x)\n",
    "print(unique_list)\n"
   ]
  },
  {
   "cell_type": "code",
   "execution_count": 191,
   "id": "a81dd35b",
   "metadata": {},
   "outputs": [
    {
     "name": "stdout",
     "output_type": "stream",
     "text": [
      "14\n"
     ]
    }
   ],
   "source": [
    "# Quesion 19. counts the number of words in a sentence using a for loop\n",
    "str1 = \"Write a Python program to print numbers from  to  using a for loop\"\n",
    "count = 0\n",
    "for i in str1:\n",
    "    if i ==  \" \" :\n",
    "        count+=1\n",
    "print (count)"
   ]
  },
  {
   "cell_type": "code",
   "execution_count": 201,
   "id": "395cc006",
   "metadata": {},
   "outputs": [
    {
     "name": "stdout",
     "output_type": "stream",
     "text": [
      "625\n"
     ]
    }
   ],
   "source": [
    "# Quesion 20. find the sum of all odd numbers from 1 to 50 using a for loop.\n",
    "sum = 0\n",
    "for i in range(1,50,2):\n",
    "    sum = sum+i    \n",
    "print(sum)"
   ]
  },
  {
   "cell_type": "code",
   "execution_count": 3,
   "id": "0f3a8d70",
   "metadata": {},
   "outputs": [
    {
     "name": "stdout",
     "output_type": "stream",
     "text": [
      "Enter the year :2000\n",
      "2000 is a leap year.\n"
     ]
    }
   ],
   "source": [
    "# quesion 21. checks if a given year is a leap year using a for loop\n",
    "year = int(input(\"Enter the year :\"))\n",
    "\n",
    "for i in range(1):\n",
    "    \n",
    "    if year % 4==0 or year % 400 ==0 :\n",
    "        print(f\"{year} is a leap year.\")\n",
    "    else:\n",
    "        print(f\"{year} is not a leap year.\")\n"
   ]
  },
  {
   "cell_type": "code",
   "execution_count": 7,
   "id": "35ccbfc1",
   "metadata": {},
   "outputs": [
    {
     "name": "stdout",
     "output_type": "stream",
     "text": [
      "Enter a number: 20\n",
      "The square root of 20.0 is approximately 4.47213595499958\n"
     ]
    }
   ],
   "source": [
    "# Quesion 22.calculates the square root of a number using a for loop\n",
    "num = float(input(\"Enter a number: \"))\n",
    "guess = num / 2\n",
    "\n",
    "for i in range(10):\n",
    "    guess = (guess + num / guess) / 2\n",
    "\n",
    "print(f\"The square root of {num} is approximately {guess}\")\n",
    "        "
   ]
  },
  {
   "cell_type": "code",
   "execution_count": 12,
   "id": "3b6432b1",
   "metadata": {},
   "outputs": [
    {
     "name": "stdout",
     "output_type": "stream",
     "text": [
      "enter the first number: 10\n",
      "enter the second number: 100\n",
      "The computed lcm of 10 and 100 is 100.\n"
     ]
    }
   ],
   "source": [
    "# Quesion 23.  find the LCM (Least Common Multiple) of two numbers using a for loop.\n",
    "a = int(input(\"enter the first number: \"))\n",
    "b = int(input(\"enter the second number: \"))\n",
    "lcm = 0\n",
    "for i in range(1,max(a,b)+1):\n",
    "    if a%i ==0 or b%i ==0 :\n",
    "        lcm = i\n",
    "print(f\"The computed lcm of {a} and {b} is {lcm}.\")\n"
   ]
  },
  {
   "cell_type": "code",
   "execution_count": 13,
   "id": "21d8975b",
   "metadata": {},
   "outputs": [],
   "source": [
    "### if else : "
   ]
  },
  {
   "cell_type": "code",
   "execution_count": 1,
   "id": "f4dee25a",
   "metadata": {},
   "outputs": [
    {
     "name": "stdout",
     "output_type": "stream",
     "text": [
      "Enter the value-10\n",
      "-10 :number is negative\n"
     ]
    }
   ],
   "source": [
    "    # Quesion 1.check if a number is positive, negative, or zero using an if-else statement.\n",
    "    x = int(input(\"Enter the value\"))\n",
    "    if x>0:\n",
    "        print (x,\":number is positive\")\n",
    "    elif x==0:\n",
    "            print(x,\":number is zero\")                  \n",
    "    else:\n",
    "               print(x,\":number is negative\")\n"
   ]
  },
  {
   "cell_type": "code",
   "execution_count": 9,
   "id": "de873e34",
   "metadata": {},
   "outputs": [
    {
     "name": "stdout",
     "output_type": "stream",
     "text": [
      "Enter the number : 5\n",
      "5 Number is odd\n"
     ]
    }
   ],
   "source": [
    "# Quesion 2. that checks if a given number is even or odd using an if-else statement.\n",
    "x = int(input(\"Enter the number : \"))\n",
    "if x%2 == 0:\n",
    "    print(x,\":Number is even\")\n",
    "else: \n",
    "    print(x,\"Number is odd\")"
   ]
  },
  {
   "cell_type": "code",
   "execution_count": 11,
   "id": "02c4d709",
   "metadata": {},
   "outputs": [
    {
     "name": "stdout",
     "output_type": "stream",
     "text": [
      "Enter the first number :15\n",
      "Enter the second number :17\n",
      "Enter the third number :18\n",
      "18 num 3 is largest number\n"
     ]
    }
   ],
   "source": [
    "# Quesion 4.to determine the largest of three numbers using if-else.\n",
    "num1 = int(input(\"Enter the first number :\"))\n",
    "num2 = int(input(\"Enter the second number :\"))\n",
    "num3 = int(input(\"Enter the third number :\"))\n",
    "if num1>num2 and num1 >num3 :\n",
    "    print(num1,\"num1 is largest number\")\n",
    "elif num2>num1 and num2>num3:\n",
    "    print(num2,\"num2 is largest number\")\n",
    "else:\n",
    "    print(num3,\"num 3 is largest number\")"
   ]
  },
  {
   "cell_type": "code",
   "execution_count": 1,
   "id": "ba8cd352",
   "metadata": {},
   "outputs": [],
   "source": [
    "# Quesion 5. calculates the absolute value of a number using if-else"
   ]
  },
  {
   "cell_type": "code",
   "execution_count": 5,
   "id": "975798bd",
   "metadata": {},
   "outputs": [
    {
     "name": "stdout",
     "output_type": "stream",
     "text": [
      "Enter the characterA\n",
      "A : character is consonant\n"
     ]
    }
   ],
   "source": [
    "# Quesion 6.checks if a given character is a vowel or consonant using if-else.\n",
    "char = input(\"Enter the character\")\n",
    "\n",
    "if (char == 'a' or char == 'e' or char == 'i' or char == 'o' or char == 'u'):\n",
    "         print(char,\": character is vowele\")\n",
    "else:\n",
    "         print(char,\": character is consonant\")\n",
    "        "
   ]
  },
  {
   "cell_type": "code",
   "execution_count": 8,
   "id": "fdc82e79",
   "metadata": {},
   "outputs": [
    {
     "name": "stdout",
     "output_type": "stream",
     "text": [
      "Enten the age : 12\n",
      "12 : user is not eligible to vote based on their age \n"
     ]
    }
   ],
   "source": [
    "# Quesion7.if a user is eligible to vote based on their age using if-else.\n",
    "age = int(input(\"Enten the age : \"))\n",
    "if age >=18:\n",
    "    print(age,\"user is eligible to vote based on their age \")\n",
    "else:\n",
    "    print (age, \": user is not eligible to vote based on their age \")"
   ]
  },
  {
   "cell_type": "code",
   "execution_count": 1,
   "id": "c62c4fb1",
   "metadata": {},
   "outputs": [
    {
     "name": "stdout",
     "output_type": "stream",
     "text": [
      "Requirement already satisfied: numpy in c:\\users\\mohit\\appdata\\local\\programs\\python\\python311\\lib\\site-packages (1.25.1)Note: you may need to restart the kernel to use updated packages.\n",
      "\n"
     ]
    }
   ],
   "source": [
    "pip install numpy "
   ]
  },
  {
   "cell_type": "code",
   "execution_count": 2,
   "id": "9df8818c",
   "metadata": {},
   "outputs": [],
   "source": [
    "import numpy as np\n"
   ]
  },
  {
   "cell_type": "code",
   "execution_count": 4,
   "id": "bfd4e559",
   "metadata": {},
   "outputs": [
    {
     "data": {
      "text/plain": [
       "'1.25.1'"
      ]
     },
     "execution_count": 4,
     "metadata": {},
     "output_type": "execute_result"
    }
   ],
   "source": [
    "np.__version__\n"
   ]
  },
  {
   "cell_type": "code",
   "execution_count": 6,
   "id": "bfdb1781",
   "metadata": {},
   "outputs": [
    {
     "name": "stdout",
     "output_type": "stream",
     "text": [
      "\n",
      "NumPy\n",
      "=====\n",
      "\n",
      "Provides\n",
      "  1. An array object of arbitrary homogeneous items\n",
      "  2. Fast mathematical operations over arrays\n",
      "  3. Linear Algebra, Fourier Transforms, Random Number Generation\n",
      "\n",
      "How to use the documentation\n",
      "----------------------------\n",
      "Documentation is available in two forms: docstrings provided\n",
      "with the code, and a loose standing reference guide, available from\n",
      "`the NumPy homepage <https://numpy.org>`_.\n",
      "\n",
      "We recommend exploring the docstrings using\n",
      "`IPython <https://ipython.org>`_, an advanced Python shell with\n",
      "TAB-completion and introspection capabilities.  See below for further\n",
      "instructions.\n",
      "\n",
      "The docstring examples assume that `numpy` has been imported as ``np``::\n",
      "\n",
      "  >>> import numpy as np\n",
      "\n",
      "Code snippets are indicated by three greater-than signs::\n",
      "\n",
      "  >>> x = 42\n",
      "  >>> x = x + 1\n",
      "\n",
      "Use the built-in ``help`` function to view a function's docstring::\n",
      "\n",
      "  >>> help(np.sort)\n",
      "  ... # doctest: +SKIP\n",
      "\n",
      "For some objects, ``np.info(obj)`` may provide additional help.  This is\n",
      "particularly true if you see the line \"Help on ufunc object:\" at the top\n",
      "of the help() page.  Ufuncs are implemented in C, not Python, for speed.\n",
      "The native Python help() does not know how to view their help, but our\n",
      "np.info() function does.\n",
      "\n",
      "To search for documents containing a keyword, do::\n",
      "\n",
      "  >>> np.lookfor('keyword')\n",
      "  ... # doctest: +SKIP\n",
      "\n",
      "General-purpose documents like a glossary and help on the basic concepts\n",
      "of numpy are available under the ``doc`` sub-module::\n",
      "\n",
      "  >>> from numpy import doc\n",
      "  >>> help(doc)\n",
      "  ... # doctest: +SKIP\n",
      "\n",
      "Available subpackages\n",
      "---------------------\n",
      "lib\n",
      "    Basic functions used by several sub-packages.\n",
      "random\n",
      "    Core Random Tools\n",
      "linalg\n",
      "    Core Linear Algebra Tools\n",
      "fft\n",
      "    Core FFT routines\n",
      "polynomial\n",
      "    Polynomial tools\n",
      "testing\n",
      "    NumPy testing tools\n",
      "distutils\n",
      "    Enhancements to distutils with support for\n",
      "    Fortran compilers support and more.\n",
      "\n",
      "Utilities\n",
      "---------\n",
      "test\n",
      "    Run numpy unittests\n",
      "show_config\n",
      "    Show numpy build configuration\n",
      "matlib\n",
      "    Make everything matrices.\n",
      "__version__\n",
      "    NumPy version string\n",
      "\n",
      "Viewing documentation using IPython\n",
      "-----------------------------------\n",
      "\n",
      "Start IPython and import `numpy` usually under the alias ``np``: `import\n",
      "numpy as np`.  Then, directly past or use the ``%cpaste`` magic to paste\n",
      "examples into the shell.  To see which functions are available in `numpy`,\n",
      "type ``np.<TAB>`` (where ``<TAB>`` refers to the TAB key), or use\n",
      "``np.*cos*?<ENTER>`` (where ``<ENTER>`` refers to the ENTER key) to narrow\n",
      "down the list.  To view the docstring for a function, use\n",
      "``np.cos?<ENTER>`` (to view the docstring) and ``np.cos??<ENTER>`` (to view\n",
      "the source code).\n",
      "\n",
      "Copies vs. in-place operation\n",
      "-----------------------------\n",
      "Most of the functions in `numpy` return a copy of the array argument\n",
      "(e.g., `np.sort`).  In-place versions of these functions are often\n",
      "available as array methods, i.e. ``x = np.array([1,2,3]); x.sort()``.\n",
      "Exceptions to this rule are documented.\n",
      "\n",
      "\n"
     ]
    }
   ],
   "source": [
    "print(np.__doc__)"
   ]
  },
  {
   "cell_type": "code",
   "execution_count": 10,
   "id": "8f0266c1",
   "metadata": {},
   "outputs": [],
   "source": [
    "l = [1,2,3,4,5,6]\n",
    "arr =np.array(l)"
   ]
  },
  {
   "cell_type": "code",
   "execution_count": 11,
   "id": "1d7cf99b",
   "metadata": {},
   "outputs": [
    {
     "data": {
      "text/plain": [
       "array([1, 2, 3, 4, 5, 6])"
      ]
     },
     "execution_count": 11,
     "metadata": {},
     "output_type": "execute_result"
    }
   ],
   "source": [
    "arr"
   ]
  },
  {
   "cell_type": "code",
   "execution_count": 12,
   "id": "c6d3e64c",
   "metadata": {},
   "outputs": [
    {
     "data": {
      "text/plain": [
       "numpy.ndarray"
      ]
     },
     "execution_count": 12,
     "metadata": {},
     "output_type": "execute_result"
    }
   ],
   "source": [
    "type(np.array(l))"
   ]
  },
  {
   "cell_type": "code",
   "execution_count": 13,
   "id": "578dc7d4",
   "metadata": {},
   "outputs": [],
   "source": [
    "l = [1,2,3,\"mohit kumar\",5,6]\n",
    "arr =np.array(l)"
   ]
  },
  {
   "cell_type": "code",
   "execution_count": 14,
   "id": "23a7b76a",
   "metadata": {},
   "outputs": [
    {
     "data": {
      "text/plain": [
       "array(['1', '2', '3', 'mohit kumar', '5', '6'], dtype='<U11')"
      ]
     },
     "execution_count": 14,
     "metadata": {},
     "output_type": "execute_result"
    }
   ],
   "source": [
    "arr"
   ]
  },
  {
   "cell_type": "code",
   "execution_count": 15,
   "id": "8ba345cc",
   "metadata": {},
   "outputs": [],
   "source": [
    "l = [[1,2,3],[4,5,6]]\n",
    "arr = np. array(l)"
   ]
  },
  {
   "cell_type": "code",
   "execution_count": 18,
   "id": "a5c648de",
   "metadata": {},
   "outputs": [
    {
     "data": {
      "text/plain": [
       "array([[1, 2, 3],\n",
       "       [4, 5, 6]])"
      ]
     },
     "execution_count": 18,
     "metadata": {},
     "output_type": "execute_result"
    }
   ],
   "source": [
    "(arr)"
   ]
  },
  {
   "cell_type": "code",
   "execution_count": null,
   "id": "29706e27",
   "metadata": {},
   "outputs": [],
   "source": []
  }
 ],
 "metadata": {
  "kernelspec": {
   "display_name": "Python 3 (ipykernel)",
   "language": "python",
   "name": "python3"
  },
  "language_info": {
   "codemirror_mode": {
    "name": "ipython",
    "version": 3
   },
   "file_extension": ".py",
   "mimetype": "text/x-python",
   "name": "python",
   "nbconvert_exporter": "python",
   "pygments_lexer": "ipython3",
   "version": "3.11.4"
  }
 },
 "nbformat": 4,
 "nbformat_minor": 5
}
