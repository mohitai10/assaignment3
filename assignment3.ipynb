{
 "cells": [
  {
   "cell_type": "markdown",
   "id": "3a617a36-c934-4f8e-8659-1482d698b020",
   "metadata": {},
   "source": [
    "\n",
    "1. Write a Python program to print the numbers from 1 to 10 using a `for` loop.\n"
   ]
  },
  {
   "cell_type": "code",
   "execution_count": 17,
   "id": "d9f0aa2c-3fbe-401f-b31c-4db9db56cb03",
   "metadata": {},
   "outputs": [],
   "source": [
    "def number(n):\n",
    "    for i in range(1,n+1):\n",
    "        print(i)\n",
    "\n",
    "        "
   ]
  },
  {
   "cell_type": "code",
   "execution_count": 18,
   "id": "9e55be5c-3aa4-4103-84cb-c9fdffb7c206",
   "metadata": {},
   "outputs": [
    {
     "name": "stdout",
     "output_type": "stream",
     "text": [
      "1\n",
      "2\n",
      "3\n",
      "4\n",
      "5\n",
      "6\n",
      "7\n",
      "8\n",
      "9\n",
      "10\n"
     ]
    }
   ],
   "source": [
    "n = 10\n",
    "number(n)"
   ]
  },
  {
   "cell_type": "markdown",
   "id": "6402d40e-c978-4ade-b975-bc55e6d1f3c0",
   "metadata": {},
   "source": [
    "2. Create a program that calculates the sum of all numbers in a list using a `for` loop."
   ]
  },
  {
   "cell_type": "code",
   "execution_count": 5,
   "id": "83a444bd-e1a6-4f10-a59d-367a597892b3",
   "metadata": {},
   "outputs": [],
   "source": [
    "def sum(list1):\n",
    "    sum1 = 0\n",
    "    for i in list1:\n",
    "        sum1= sum1+i\n",
    "    return sum1"
   ]
  },
  {
   "cell_type": "code",
   "execution_count": 6,
   "id": "357496a9-e921-4be5-bdf6-51f238c22796",
   "metadata": {},
   "outputs": [
    {
     "data": {
      "text/plain": [
       "55"
      ]
     },
     "execution_count": 6,
     "metadata": {},
     "output_type": "execute_result"
    }
   ],
   "source": [
    "list1 = [1,2,3,4,5,6,7,8,9,10]\n",
    "sum(list1)"
   ]
  },
  {
   "cell_type": "markdown",
   "id": "a6f40ef4-9ad4-460a-8ea1-b1ef6eae655e",
   "metadata": {},
   "source": [
    "3. Write a program to print the characters of a string in reverse order using a `for` loop."
   ]
  },
  {
   "cell_type": "code",
   "execution_count": 33,
   "id": "afd13fe1-ae6b-4b99-bba5-00c7231e3e31",
   "metadata": {},
   "outputs": [],
   "source": [
    "def reverse(string):\n",
    "    reverse_string =\"\"\n",
    "    for i in string[-1::-1]:\n",
    "        reverse_string +=i\n",
    "    return reverse_string \n",
    "        \n",
    "        "
   ]
  },
  {
   "cell_type": "code",
   "execution_count": 34,
   "id": "8b4c68ed-d363-43fa-b0ea-bec9874a2761",
   "metadata": {},
   "outputs": [
    {
     "data": {
      "text/plain": [
       "'ramuk tihom'"
      ]
     },
     "execution_count": 34,
     "metadata": {},
     "output_type": "execute_result"
    }
   ],
   "source": [
    "string = \"mohit kumar\"\n",
    "reverse(string)"
   ]
  },
  {
   "cell_type": "markdown",
   "id": "761ca9c7-c4f9-423a-8782-be5e4d21b177",
   "metadata": {},
   "source": [
    "4. Develop a program that finds the factorial of a given number using a `for` loop"
   ]
  },
  {
   "cell_type": "code",
   "execution_count": 35,
   "id": "98648fab-3200-491a-bca1-2a8e2b55d501",
   "metadata": {},
   "outputs": [],
   "source": [
    "def factorial(n):\n",
    "    result = 1\n",
    "    for i in range(1,n):\n",
    "        j =i*result\n",
    "        i-=1\n",
    "        result = j\n",
    "    return result\n",
    "        \n",
    "        "
   ]
  },
  {
   "cell_type": "code",
   "execution_count": 36,
   "id": "bf645253-5312-44b8-86a3-a8cef71249ad",
   "metadata": {},
   "outputs": [
    {
     "data": {
      "text/plain": [
       "362880"
      ]
     },
     "execution_count": 36,
     "metadata": {},
     "output_type": "execute_result"
    }
   ],
   "source": [
    "n = 10\n",
    "factorial(n)"
   ]
  },
  {
   "cell_type": "markdown",
   "id": "a099eb2e-215f-450c-9ec5-2f863b7b3835",
   "metadata": {},
   "source": [
    "5. Create a program to print the multiplication table of a given number using a `for` loop."
   ]
  },
  {
   "cell_type": "code",
   "execution_count": 52,
   "id": "841d701b-c0c6-4fa1-9c2d-6f8734bee6df",
   "metadata": {},
   "outputs": [],
   "source": [
    "def multiplication(n2):\n",
    "    for i in range(1,10):\n",
    "        print(i*n2)\n",
    "        \n",
    "        \n",
    "        "
   ]
  },
  {
   "cell_type": "code",
   "execution_count": 55,
   "id": "740cceb4-7f2b-4394-92a7-be72b3e4ac82",
   "metadata": {},
   "outputs": [
    {
     "name": "stdout",
     "output_type": "stream",
     "text": [
      "5\n",
      "10\n",
      "15\n",
      "20\n",
      "25\n",
      "30\n",
      "35\n",
      "40\n",
      "45\n"
     ]
    }
   ],
   "source": [
    "n2 = 5\n",
    "multiplication(n2)"
   ]
  },
  {
   "cell_type": "markdown",
   "id": "82e62065-e386-46bf-ad20-b088a496b2da",
   "metadata": {},
   "source": [
    "6. Write a program that counts the number of even and odd numbers in a list using a `for` loop."
   ]
  },
  {
   "cell_type": "code",
   "execution_count": 67,
   "id": "0d549e7e-8386-4a54-8e2c-09d35f56db61",
   "metadata": {},
   "outputs": [],
   "source": [
    "def count(list1):\n",
    "    count_even = 0\n",
    "    count_odd = 0\n",
    "    for i in list1:\n",
    "        if i%2==0:\n",
    "            count_even+=1\n",
    "        else:\n",
    "            count_odd+=1\n",
    "    print(\"count_even :\",count_even ,\",\",\"count_odd:\",count_odd )"
   ]
  },
  {
   "cell_type": "code",
   "execution_count": 69,
   "id": "aa181b93-b6e3-48ce-b6a8-975789700a81",
   "metadata": {},
   "outputs": [
    {
     "name": "stdout",
     "output_type": "stream",
     "text": [
      "count_even : 8 , count_odd: 6\n"
     ]
    }
   ],
   "source": [
    "list1 = [1,2,3,4,5,6,7,8,9,10,15,14,18,20]\n",
    "count(list1)"
   ]
  },
  {
   "cell_type": "markdown",
   "id": "011dc7a4-8f1c-45a3-8418-e1accb81a1ed",
   "metadata": {},
   "source": [
    "7.Develop a program that prints the squares of numbers from 1 to 5 using a `for` loop."
   ]
  },
  {
   "cell_type": "code",
   "execution_count": 70,
   "id": "d297fd02-cc63-4572-9d17-433f89063504",
   "metadata": {},
   "outputs": [],
   "source": [
    "def squares(n):\n",
    "    for i in range(1,n):\n",
    "        print(i**2)"
   ]
  },
  {
   "cell_type": "code",
   "execution_count": 71,
   "id": "b85f4dd8-7a28-4a33-966d-e06fb7de71b0",
   "metadata": {},
   "outputs": [
    {
     "name": "stdout",
     "output_type": "stream",
     "text": [
      "1\n",
      "4\n",
      "9\n",
      "16\n",
      "25\n",
      "36\n",
      "49\n",
      "64\n",
      "81\n"
     ]
    }
   ],
   "source": [
    "n = 10\n",
    "squares(n)"
   ]
  },
  {
   "cell_type": "markdown",
   "id": "f88beda3-0615-4dac-aab7-7c08efa18bb2",
   "metadata": {},
   "source": [
    "8. Create a program to find the length of a string without using the `len()` function"
   ]
  },
  {
   "cell_type": "code",
   "execution_count": 80,
   "id": "3d6b4008-1d41-42e6-a0de-0d65113ff785",
   "metadata": {},
   "outputs": [],
   "source": [
    "def length(string):\n",
    "    length1 = 0\n",
    "    for i in string:\n",
    "        length1+=1\n",
    "    print(length1)\n",
    "    \n",
    "        \n",
    "        "
   ]
  },
  {
   "cell_type": "code",
   "execution_count": 81,
   "id": "18813be2-5376-4190-90fa-023c8f53303a",
   "metadata": {},
   "outputs": [
    {
     "name": "stdout",
     "output_type": "stream",
     "text": [
      "11\n"
     ]
    }
   ],
   "source": [
    "string = \"mohit kumar\"\n",
    "length(string)"
   ]
  },
  {
   "cell_type": "markdown",
   "id": "ee33fb25-81d2-4c55-9357-fefb91c9eefa",
   "metadata": {},
   "source": [
    "9. Write a program that calculates the average of a list of numbers using a `for` loop."
   ]
  },
  {
   "cell_type": "code",
   "execution_count": 84,
   "id": "6ec4e1a2-fcfe-4fdc-8a48-16ee21fcde74",
   "metadata": {},
   "outputs": [],
   "source": [
    "def average(list1):\n",
    "    total = 0\n",
    "    for number in list1:\n",
    "        total += number\n",
    "        average = total / len(list1)\n",
    "    return average\n",
    "    \n"
   ]
  },
  {
   "cell_type": "code",
   "execution_count": 85,
   "id": "554f9fb0-94e1-4d62-8998-60dbc4a230e7",
   "metadata": {},
   "outputs": [
    {
     "data": {
      "text/plain": [
       "8.6"
      ]
     },
     "execution_count": 85,
     "metadata": {},
     "output_type": "execute_result"
    }
   ],
   "source": [
    "list1 = [1,2,3,45,6,7,8,5,8,1]\n",
    "average(list1)"
   ]
  },
  {
   "cell_type": "markdown",
   "id": "d3df4802-48c9-48af-b100-ab355e822e0d",
   "metadata": {},
   "source": [
    "10. Develop a program that prints the first `n` Fibonacci numbers using a `for` loop"
   ]
  },
  {
   "cell_type": "code",
   "execution_count": 86,
   "id": "3470d516-ed39-4476-8232-06b3ea7be060",
   "metadata": {},
   "outputs": [],
   "source": [
    "def Fibonacci_numbers(n):\n",
    "    a,b =0,1\n",
    "    for i in range(1,n):\n",
    "        print(a,end = \" \")\n",
    "        a,b = b,a+b\n",
    "    "
   ]
  },
  {
   "cell_type": "code",
   "execution_count": 89,
   "id": "5727867b-6f12-4970-9ea7-f98c8752464a",
   "metadata": {},
   "outputs": [
    {
     "name": "stdout",
     "output_type": "stream",
     "text": [
      "0 1 1 2 3 5 8 13 21 34 55 89 144 233 "
     ]
    }
   ],
   "source": [
    "n = 15\n",
    "Fibonacci_numbers(n)"
   ]
  },
  {
   "cell_type": "markdown",
   "id": "8da59d2b-890a-40e4-9884-77b382f7db63",
   "metadata": {},
   "source": [
    "11. Write a program to check if a given list contains any duplicates using a `for` loop"
   ]
  },
  {
   "cell_type": "code",
   "execution_count": 93,
   "id": "4878f564-ee24-4bb5-a8ed-0fd033cdb3bd",
   "metadata": {},
   "outputs": [],
   "source": [
    "def duplicate(list1):\n",
    "    n =len(list1)\n",
    "    for i in range(n):\n",
    "        for j in range(i+1,n):\n",
    "            if list1[i]==list1[j]:\n",
    "                return True\n",
    "    return False"
   ]
  },
  {
   "cell_type": "code",
   "execution_count": 94,
   "id": "acae2d8e-740a-464b-9194-513662549316",
   "metadata": {},
   "outputs": [
    {
     "data": {
      "text/plain": [
       "True"
      ]
     },
     "execution_count": 94,
     "metadata": {},
     "output_type": "execute_result"
    }
   ],
   "source": [
    "list1 = [1,2,3,4,5,6,7,8,9,6]\n",
    "duplicate(list1)"
   ]
  },
  {
   "cell_type": "markdown",
   "id": "2b1094ab-4472-41ba-8afa-e3d9972bbe9f",
   "metadata": {},
   "source": [
    "12. Create a program that prints the prime numbers in a given range using a `for` loop."
   ]
  },
  {
   "cell_type": "code",
   "execution_count": null,
   "id": "e4bb6613-3af6-4a04-8901-6e2b6eebbe7b",
   "metadata": {},
   "outputs": [],
   "source": [
    "def prine_number(n):\n",
    "    "
   ]
  },
  {
   "cell_type": "markdown",
   "id": "c5012561-886f-400c-99c2-d6306a3f2aed",
   "metadata": {},
   "source": [
    "13.Develop a program that counts the number of vowels in a string using a `for` loop"
   ]
  },
  {
   "cell_type": "code",
   "execution_count": 102,
   "id": "251fba4f-160f-40cf-8e6a-ccb749202046",
   "metadata": {},
   "outputs": [],
   "source": [
    "def count_vowels(string):\n",
    "    count = 0\n",
    "    voweles = \"aeiou\"\n",
    "    for i in string:\n",
    "        if i==\"a\" or i==\"e\" or i==\"i\" or i==\"o\" or i== \"u\":\n",
    "            count+=1\n",
    "    return count\n",
    "            "
   ]
  },
  {
   "cell_type": "code",
   "execution_count": 103,
   "id": "08b65498-df3a-4eac-9adb-d9d655903bd0",
   "metadata": {},
   "outputs": [
    {
     "data": {
      "text/plain": [
       "24"
      ]
     },
     "execution_count": 103,
     "metadata": {},
     "output_type": "execute_result"
    }
   ],
   "source": [
    "string = \"Develop a program that counts the number of vowels in a string using a `for` loop\"\n",
    "count_vowels(string)"
   ]
  },
  {
   "cell_type": "markdown",
   "id": "681f9bb1-828d-4b7b-84bb-250796521214",
   "metadata": {},
   "source": [
    "14. Write a program to find the maximum element in a 2D list using a nested `for` loop."
   ]
  },
  {
   "cell_type": "code",
   "execution_count": 110,
   "id": "4afaea93-8b73-451b-bdee-1492d67516f0",
   "metadata": {},
   "outputs": [],
   "source": [
    "def maximum_element(list1):\n",
    "    max_element = list1[0][0]\n",
    "    for row in list1:\n",
    "        for element in row:\n",
    "            if element > max_element:\n",
    "                max_element = element\n",
    "    return max_element"
   ]
  },
  {
   "cell_type": "code",
   "execution_count": 111,
   "id": "ecde3b38-bd08-4684-bf1e-94df33d9cb8d",
   "metadata": {},
   "outputs": [
    {
     "data": {
      "text/plain": [
       "9"
      ]
     },
     "execution_count": 111,
     "metadata": {},
     "output_type": "execute_result"
    }
   ],
   "source": [
    "list1 = [[1, 5, 3], [9, 2, 7], [4, 8, 6]]\n",
    "maximum_element(list1)"
   ]
  },
  {
   "cell_type": "markdown",
   "id": "9f193d09-7180-41a9-b6b4-c55c22545d49",
   "metadata": {},
   "source": [
    "15. Create a program that removes all occurrences of a specific element from a list using a `for` loop"
   ]
  },
  {
   "cell_type": "code",
   "execution_count": 118,
   "id": "aa20db6a-0179-4f23-8cbc-168c44a67015",
   "metadata": {},
   "outputs": [
    {
     "data": {
      "text/plain": [
       "[1, 3, 4, 5]"
      ]
     },
     "execution_count": 118,
     "metadata": {},
     "output_type": "execute_result"
    }
   ],
   "source": [
    "\n",
    "\n",
    "def remove_all_occurrences(input_list, element):\n",
    "   \n",
    "    for item in input_list[:]:\n",
    "        if item == element:\n",
    "            input_list.remove(item)\n",
    "    return input_list\n",
    "\n",
    "input_list = [1, 2, 3, 2, 4, 2, 5]\n",
    "element = 2\n",
    "remove_all_occurrences(input_list, element)"
   ]
  },
  {
   "cell_type": "markdown",
   "id": "4fafb447-07d6-43f4-a307-dd28ed9ffc27",
   "metadata": {},
   "source": [
    "16. Develop a program that generates a multiplication table for numbers from 1 to 5 using a nested `for` loop."
   ]
  },
  {
   "cell_type": "code",
   "execution_count": 119,
   "id": "8cda169b-722d-4f37-a13b-192b72dd39bb",
   "metadata": {},
   "outputs": [
    {
     "name": "stdout",
     "output_type": "stream",
     "text": [
      "Multiplication Table for 1:\n",
      "1 * 1 = 1\n",
      "1 * 2 = 2\n",
      "1 * 3 = 3\n",
      "1 * 4 = 4\n",
      "1 * 5 = 5\n",
      "1 * 6 = 6\n",
      "1 * 7 = 7\n",
      "1 * 8 = 8\n",
      "1 * 9 = 9\n",
      "1 * 10 = 10\n",
      "Multiplication Table for 2:\n",
      "2 * 1 = 2\n",
      "2 * 2 = 4\n",
      "2 * 3 = 6\n",
      "2 * 4 = 8\n",
      "2 * 5 = 10\n",
      "2 * 6 = 12\n",
      "2 * 7 = 14\n",
      "2 * 8 = 16\n",
      "2 * 9 = 18\n",
      "2 * 10 = 20\n",
      "Multiplication Table for 3:\n",
      "3 * 1 = 3\n",
      "3 * 2 = 6\n",
      "3 * 3 = 9\n",
      "3 * 4 = 12\n",
      "3 * 5 = 15\n",
      "3 * 6 = 18\n",
      "3 * 7 = 21\n",
      "3 * 8 = 24\n",
      "3 * 9 = 27\n",
      "3 * 10 = 30\n",
      "Multiplication Table for 4:\n",
      "4 * 1 = 4\n",
      "4 * 2 = 8\n",
      "4 * 3 = 12\n",
      "4 * 4 = 16\n",
      "4 * 5 = 20\n",
      "4 * 6 = 24\n",
      "4 * 7 = 28\n",
      "4 * 8 = 32\n",
      "4 * 9 = 36\n",
      "4 * 10 = 40\n",
      "Multiplication Table for 5:\n",
      "5 * 1 = 5\n",
      "5 * 2 = 10\n",
      "5 * 3 = 15\n",
      "5 * 4 = 20\n",
      "5 * 5 = 25\n",
      "5 * 6 = 30\n",
      "5 * 7 = 35\n",
      "5 * 8 = 40\n",
      "5 * 9 = 45\n",
      "5 * 10 = 50\n"
     ]
    }
   ],
   "source": [
    "for i in range(1, 6):  \n",
    "    print(f\"Multiplication Table for {i}:\")\n",
    "    for j in range(1, 11):  \n",
    "        product = i * j\n",
    "        print(f\"{i} * {j} = {product}\")\n",
    "    "
   ]
  },
  {
   "cell_type": "markdown",
   "id": "d9a5edb2-380a-47ae-b022-69026195c7b1",
   "metadata": {},
   "source": [
    "17. Write a program that converts a list of Fahrenheit temperatures to Celsius using a `for` loop."
   ]
  },
  {
   "cell_type": "code",
   "execution_count": 124,
   "id": "b806e3f6-5240-4eda-9418-4b17778f8126",
   "metadata": {},
   "outputs": [
    {
     "name": "stdout",
     "output_type": "stream",
     "text": [
      "celius -11.11111111111111\n",
      "celius 7.222222222222222\n",
      "celius 25.555555555555557\n",
      "celius 36.666666666666664\n",
      "celius 18.333333333333332\n",
      "celius 0.0\n",
      "celius -3.888888888888889\n",
      "celius 29.444444444444443\n"
     ]
    }
   ],
   "source": [
    "list1 = [12,45,78,98,65,32,25,85]\n",
    "for i in list1:\n",
    "    x= (i - 32) * 5/9 \n",
    "    print(\"celius\",x)\n"
   ]
  },
  {
   "cell_type": "markdown",
   "id": "1839fbec-31eb-4306-ad3b-1d85bc7821bb",
   "metadata": {},
   "source": [
    "18. Create a program to print the common elements from two lists using a `for` loop."
   ]
  },
  {
   "cell_type": "code",
   "execution_count": 125,
   "id": "b4d3a4ec-1049-4255-b3c7-839a49d55290",
   "metadata": {},
   "outputs": [],
   "source": [
    "def common(list1,list2):\n",
    "    for i in list1[:]:\n",
    "        for j in list2[:]:\n",
    "            if i==j:\n",
    "                print(i)"
   ]
  },
  {
   "cell_type": "code",
   "execution_count": 128,
   "id": "dd238c36-b770-44f2-9172-c047081ba42b",
   "metadata": {},
   "outputs": [
    {
     "name": "stdout",
     "output_type": "stream",
     "text": [
      "5\n",
      "6\n",
      "7\n"
     ]
    }
   ],
   "source": [
    "list1 =[1,2,3,4,5,6,7]\n",
    "list2 = [5,6,7,8,9]\n",
    "common(list1,list2)"
   ]
  },
  {
   "cell_type": "markdown",
   "id": "f6403c8c-56e6-44f3-a371-39baff37b05c",
   "metadata": {},
   "source": [
    "19. Develop a program that prints the pattern of right-angled triangles using a `for` loop. Use ‘*’ to draw the\n",
    "pattern\n"
   ]
  },
  {
   "cell_type": "code",
   "execution_count": 136,
   "id": "005afdbc-13a2-4d37-b0e8-95f8b6d3a0ad",
   "metadata": {},
   "outputs": [
    {
     "name": "stdin",
     "output_type": "stream",
     "text": [
      "enter the value 10\n"
     ]
    },
    {
     "name": "stdout",
     "output_type": "stream",
     "text": [
      "*\n",
      "**\n",
      "***\n",
      "****\n",
      "*****\n",
      "******\n",
      "*******\n",
      "********\n",
      "*********\n",
      "**********\n"
     ]
    }
   ],
   "source": [
    "row_num = int(input(\"enter the value\"))\n",
    "for i in range(1,row_num+1):\n",
    "    for j in range(1,i+1):\n",
    "        print(\"*\",end =\"\")\n",
    "    print()"
   ]
  },
  {
   "cell_type": "markdown",
   "id": "75ad804a-1a5c-46bd-a20b-7c65b251ecd3",
   "metadata": {},
   "source": [
    "20. Write a program to find the greatest common divisor (GCD) of two numbers using a `for` loop."
   ]
  },
  {
   "cell_type": "code",
   "execution_count": 140,
   "id": "ba39dd6c-ae68-40f8-836e-3d9f296ec471",
   "metadata": {},
   "outputs": [],
   "source": [
    "def greatest_common_divisor(a,b):\n",
    "    gcd = 1\n",
    "    for i in range(1, min(a, b) + 1):\n",
    "        if a % i == 0 and b % i == 0:\n",
    "            gcd = i  \n",
    "    return gcd\n",
    "    "
   ]
  },
  {
   "cell_type": "code",
   "execution_count": 141,
   "id": "2699f4a3-f3e7-490d-92b5-9cdbbb2781a0",
   "metadata": {},
   "outputs": [
    {
     "data": {
      "text/plain": [
       "20"
      ]
     },
     "execution_count": 141,
     "metadata": {},
     "output_type": "execute_result"
    }
   ],
   "source": [
    "a =60\n",
    "b= 80\n",
    "greatest_common_divisor(a,b)"
   ]
  },
  {
   "cell_type": "markdown",
   "id": "57b3249e-2c1e-41f3-9642-ee699bc86fc9",
   "metadata": {},
   "source": [
    "21. Create a program that calculates the sum of the digits of numbers in a list using a list comprehension."
   ]
  },
  {
   "cell_type": "markdown",
   "id": "fa99fa3a-0280-41c8-8d57-893975febdc2",
   "metadata": {},
   "source": [
    "22.Develop a program that extracts unique elements from a list and stores them in a new list using a list"
   ]
  },
  {
   "cell_type": "code",
   "execution_count": 8,
   "id": "3f1e988c-8b08-4686-b253-829576255b57",
   "metadata": {},
   "outputs": [],
   "source": [
    "def extract_unique_elements(input_list):\n",
    "    unique_list =[]\n",
    "    for i in input_list:\n",
    "        if i not in unique_list:\n",
    "            unique_list.append(i)\n",
    "    return unique_list"
   ]
  },
  {
   "cell_type": "code",
   "execution_count": 9,
   "id": "02a9339f-545b-4c02-8d57-253bbda68328",
   "metadata": {},
   "outputs": [
    {
     "data": {
      "text/plain": [
       "[1, 2, 3, 4, 5, 6]"
      ]
     },
     "execution_count": 9,
     "metadata": {},
     "output_type": "execute_result"
    }
   ],
   "source": [
    "input_list = [1, 2, 2, 3, 4, 4, 5, 1, 6]\n",
    "extract_unique_elements(input_list)"
   ]
  },
  {
   "cell_type": "markdown",
   "id": "b655c0f0-66de-4f0a-bb64-34ea0d81a966",
   "metadata": {},
   "source": [
    "24. Create a program that generates a list of all palindromic numbers up to a specified limit using a list"
   ]
  },
  {
   "cell_type": "code",
   "execution_count": 11,
   "id": "e134b591-8515-47a1-8cc7-71b6091158fe",
   "metadata": {},
   "outputs": [
    {
     "name": "stdout",
     "output_type": "stream",
     "text": [
      "[101, 111, 121, 131, 141, 151, 161, 171, 181, 191]\n"
     ]
    }
   ],
   "source": [
    "def is_palindrome(num):\n",
    "    return str(num) == str(num)[::-1]\n",
    "\n",
    "def palindrome_range(start, end):\n",
    "    nums = list(range(start, end+1))\n",
    "    palindromes = list(filter(lambda x: is_palindrome(x), nums))\n",
    "    return palindromes\n",
    "\n",
    "start=100\n",
    "end=200\n",
    "print(palindrome_range(start, end))"
   ]
  },
  {
   "cell_type": "markdown",
   "id": "418250cf-5a0a-4780-be1b-8d66cb4ac8c9",
   "metadata": {},
   "source": [
    "25. Write a program to flatten a nested list using list comprehension"
   ]
  },
  {
   "cell_type": "code",
   "execution_count": 20,
   "id": "ed0497a4-388e-4262-9730-02aedd081b4d",
   "metadata": {},
   "outputs": [
    {
     "name": "stdout",
     "output_type": "stream",
     "text": [
      "[1, 2, 3, 4, 5, 6, 7, 8, 9]\n"
     ]
    }
   ],
   "source": [
    "nested_list = [[1, 2, 3], [4, 5], [6, 7, 8, 9]]\n",
    "list1 = []\n",
    "for sublist in nested_list:\n",
    "    for item  in sublist:\n",
    "        list1.append(item)\n",
    "print(list1)\n",
    "        "
   ]
  },
  {
   "cell_type": "markdown",
   "id": "feebbbf1-9c3f-443a-aa5c-56143b2e1f3b",
   "metadata": {},
   "source": [
    "26. Develop a program that computes the sum of even and odd numbers in a list separately using list"
   ]
  },
  {
   "cell_type": "code",
   "execution_count": 35,
   "id": "4103a790-fdf5-4d5e-94c7-070258ef90df",
   "metadata": {},
   "outputs": [],
   "source": [
    "def count(list1):\n",
    "    sum_even = 0\n",
    "    sum_odd = 0\n",
    "    for i in list1:\n",
    "        if i%2==0:\n",
    "            sum_even+=i\n",
    "        else:\n",
    "            sum_odd+=i\n",
    "    print(f\"sum_of_even : {sum_even} , sum_of_odd : {sum_odd}\" )"
   ]
  },
  {
   "cell_type": "code",
   "execution_count": 36,
   "id": "e966e8b2-75d7-469c-8aa2-f532db7d752c",
   "metadata": {},
   "outputs": [
    {
     "name": "stdout",
     "output_type": "stream",
     "text": [
      "sum_of_even : 170 , sum_of_odd : 87\n"
     ]
    }
   ],
   "source": [
    "list1 = [1,2,3,4,5,6,7,8,9,10,18,15,47,58,52,12]\n",
    "count(list1)"
   ]
  },
  {
   "cell_type": "markdown",
   "id": "46da23ad-51d8-4165-9ef7-375989a88f72",
   "metadata": {},
   "source": [
    "27.Create a program that generates a list of squares of odd numbers between 1 and 10 using list\n",
    "comprehension.\n"
   ]
  },
  {
   "cell_type": "code",
   "execution_count": 38,
   "id": "d49079ba-d46e-47fc-8bad-d979e5191f43",
   "metadata": {},
   "outputs": [
    {
     "name": "stdout",
     "output_type": "stream",
     "text": [
      "[1, 9, 25, 49, 81]\n"
     ]
    }
   ],
   "source": [
    "odd_squares = [x**2 for x in range(1, 11) if x % 2 != 0]\n",
    "print(odd_squares)"
   ]
  },
  {
   "cell_type": "markdown",
   "id": "e239fdc4-02aa-4d0b-b4d8-aee6ac38c472",
   "metadata": {},
   "source": [
    "28. Write a program that combines two lists into a dictionary using list comprehension"
   ]
  },
  {
   "cell_type": "code",
   "execution_count": 39,
   "id": "7d19dfe1-cdc7-4265-bdae-741e401bb388",
   "metadata": {},
   "outputs": [
    {
     "name": "stdout",
     "output_type": "stream",
     "text": [
      "{'name': 'Alice', 'age': 30, 'city': 'New York'}\n"
     ]
    }
   ],
   "source": [
    "def combine_lists_to_dict(keys_list, values_list):\n",
    "\n",
    "  combined_dict = {key: value for key, value in zip(keys_list, values_list)}\n",
    "  return combined_dict\n",
    "\n",
    "keys = [\"name\", \"age\", \"city\"]\n",
    "values = [\"Alice\", 30, \"New York\"]\n",
    "\n",
    "my_dict = combine_lists_to_dict(keys, values)\n",
    "print(my_dict)\n",
    "\n",
    "items = [\"apple\", \"banana\", \"cherry\"]\n",
    "prices = [1.0, 0.5, 1.2]"
   ]
  },
  {
   "cell_type": "markdown",
   "id": "5b28e4e5-12a9-46df-abed-806562228934",
   "metadata": {},
   "source": [
    "29. Develop a program that extracts the vowels from a string and stores them in a list using list comprehension.\n"
   ]
  },
  {
   "cell_type": "code",
   "execution_count": 43,
   "id": "bb0d86a8-82b9-42e2-b336-6ecffab95550",
   "metadata": {},
   "outputs": [],
   "source": [
    "def list_vowels(string):\n",
    "    list1 = []\n",
    "    voweles = \"aeiou\"\n",
    "    for i in string:\n",
    "        if i==\"a\" or i==\"e\" or i==\"i\" or i==\"o\" or i== \"u\":\n",
    "            list1.append(i)\n",
    "        \n",
    "    return list(list1)\n",
    "            "
   ]
  },
  {
   "cell_type": "code",
   "execution_count": 44,
   "id": "9dec2c06-5e84-4449-b54f-93547b007d2d",
   "metadata": {},
   "outputs": [
    {
     "data": {
      "text/plain": [
       "['i',\n",
       " 'e',\n",
       " 'a',\n",
       " 'o',\n",
       " 'a',\n",
       " 'a',\n",
       " 'o',\n",
       " 'i',\n",
       " 'e',\n",
       " 'o',\n",
       " 'i',\n",
       " 'i',\n",
       " 'o',\n",
       " 'a',\n",
       " 'i',\n",
       " 'i',\n",
       " 'o',\n",
       " 'a',\n",
       " 'u',\n",
       " 'i',\n",
       " 'i']"
      ]
     },
     "execution_count": 44,
     "metadata": {},
     "output_type": "execute_result"
    }
   ],
   "source": [
    "string = \"Write a program that combines two lists into a dictionary using li\"\n",
    "list_vowels(string)"
   ]
  },
  {
   "cell_type": "markdown",
   "id": "dcee556c-4dba-470e-b5f2-17c999001d54",
   "metadata": {},
   "source": [
    "# Basic If-Else Statements:\n"
   ]
  },
  {
   "cell_type": "code",
   "execution_count": 51,
   "id": "ab87e891-9607-4799-ab74-b96693e81ecf",
   "metadata": {},
   "outputs": [],
   "source": [
    " def chack(n):\n",
    "     if n>0:\n",
    "         return \"Number is Positive\"\n",
    "     else:\n",
    "        return \"Number is Negative\"\n"
   ]
  },
  {
   "cell_type": "code",
   "execution_count": 52,
   "id": "af281f85-9008-400a-a0a9-47d59c7e7a0d",
   "metadata": {},
   "outputs": [
    {
     "data": {
      "text/plain": [
       "'Number is Negative'"
      ]
     },
     "execution_count": 52,
     "metadata": {},
     "output_type": "execute_result"
    }
   ],
   "source": [
    "n =-1\n",
    "chack(n)"
   ]
  },
  {
   "cell_type": "markdown",
   "id": "88ce2619-6ad7-4e66-a111-6b6a02c000a2",
   "metadata": {},
   "source": [
    "2. Create a program that determines if a person is eligible to vote based on their age"
   ]
  },
  {
   "cell_type": "code",
   "execution_count": 53,
   "id": "6b875319-0a0d-4db6-9bd6-724a6b1f0472",
   "metadata": {},
   "outputs": [],
   "source": [
    "def chack(age):\n",
    "    if age>=18:\n",
    "        return \"eligible to vote\"\n",
    "    else:\n",
    "        return \"Not eligible to vote\""
   ]
  },
  {
   "cell_type": "code",
   "execution_count": 54,
   "id": "1ac2a506-152f-4b00-ab8b-eeb74f251d60",
   "metadata": {},
   "outputs": [
    {
     "data": {
      "text/plain": [
       "'eligible to vote'"
      ]
     },
     "execution_count": 54,
     "metadata": {},
     "output_type": "execute_result"
    }
   ],
   "source": [
    "age =20\n",
    "chack(age)"
   ]
  },
  {
   "cell_type": "markdown",
   "id": "c508f7b5-c5e2-48f2-9c65-1532c8a06c7c",
   "metadata": {},
   "source": [
    "3. Develop a program to find the maximum of two numbers using if-else statements."
   ]
  },
  {
   "cell_type": "code",
   "execution_count": 56,
   "id": "dab99050-8b8d-427e-88d8-40e0ccd6a9ba",
   "metadata": {},
   "outputs": [
    {
     "name": "stdout",
     "output_type": "stream",
     "text": [
      "n2 is maximum\n"
     ]
    }
   ],
   "source": [
    "n1 = 15\n",
    "n2 = 18\n",
    "if n1>n2:\n",
    "    print(\"n1 is maximum\")\n",
    "else:\n",
    "    print(\"n2 is maximum\")"
   ]
  },
  {
   "cell_type": "markdown",
   "id": "f6f43158-032a-456a-a0b3-6af562db90ff",
   "metadata": {},
   "source": [
    "4. Write a Python script to classify a given year as a leap year or not."
   ]
  },
  {
   "cell_type": "code",
   "execution_count": 57,
   "id": "0c5a15ce-edc4-454e-91b5-174fe4a93930",
   "metadata": {},
   "outputs": [
    {
     "name": "stdin",
     "output_type": "stream",
     "text": [
      "Enter the year 2000\n"
     ]
    },
    {
     "name": "stdout",
     "output_type": "stream",
     "text": [
      "year is a leap year \n"
     ]
    }
   ],
   "source": [
    "year = int(input(\"Enter the year\"))\n",
    "if(year % 4 == 0 and year % 100 != 0) or (year % 400 == 0):\n",
    "    print(\"year is a leap year \")\n",
    "else:\n",
    "    print(\"year is not a leap year \")"
   ]
  },
  {
   "cell_type": "markdown",
   "id": "5d1f13a6-104e-449d-a027-0666f43f273d",
   "metadata": {},
   "source": [
    "5. Create a program that checks whether a character is a vowel or a consonant"
   ]
  },
  {
   "cell_type": "code",
   "execution_count": null,
   "id": "763a701d-c828-48bb-8e98-8b446c6dbcd4",
   "metadata": {},
   "outputs": [],
   "source": [
    "char = input(\"value\")\n",
    "char_lower = char.lower()  \n",
    "\n",
    "vowels = ['a', 'e', 'i', 'o', 'u']\n",
    "\n",
    "if len(char) != 1:\n",
    "    \n",
    "    return \"Please enter a single character.\"\n",
    "elif not char.isalpha():\n",
    "    \n",
    "    return f\"'{char}' is not an alphabet.\"\n",
    "elif char_lower in vowels:\n",
    "    return f\"'{char}' is a vowel.\"\n",
    "else:\n",
    "    return f\"'{char}' is a consonant.\""
   ]
  },
  {
   "cell_type": "markdown",
   "id": "e2f805eb-44b6-47eb-8184-8f014fd3e76c",
   "metadata": {},
   "source": [
    "6. Implement a program to determine whether a given number is even or odd"
   ]
  },
  {
   "cell_type": "code",
   "execution_count": 2,
   "id": "db53dead-9219-4fe7-b790-f8a5650902fb",
   "metadata": {},
   "outputs": [
    {
     "name": "stdin",
     "output_type": "stream",
     "text": [
      "number 20\n"
     ]
    },
    {
     "name": "stdout",
     "output_type": "stream",
     "text": [
      "number is even\n"
     ]
    }
   ],
   "source": [
    "number = int(input(\"number\"))\n",
    "if number%2==0:\n",
    "    print(\"number is even\")\n",
    "else:\n",
    "    print(\"number is odd\")"
   ]
  },
  {
   "cell_type": "markdown",
   "id": "c67a3093-9382-4b8b-926b-b51d5d12e807",
   "metadata": {},
   "source": [
    ". Write a Python function to calculate the absolute value of a number without using the `abs()` function"
   ]
  },
  {
   "cell_type": "code",
   "execution_count": 7,
   "id": "8b8fcca1-a3dc-4ce2-afaf-0fd32b130b55",
   "metadata": {},
   "outputs": [],
   "source": [
    "def calculate_absolute_value(number):\n",
    "    \n",
    "    if number < 0:\n",
    "        return -number\n",
    "    else:\n",
    "        return number"
   ]
  },
  {
   "cell_type": "code",
   "execution_count": 8,
   "id": "d57467af-3e8c-4495-a430-8a3e798949bf",
   "metadata": {},
   "outputs": [
    {
     "data": {
      "text/plain": [
       "20"
      ]
     },
     "execution_count": 8,
     "metadata": {},
     "output_type": "execute_result"
    }
   ],
   "source": [
    "number = 20\n",
    "calculate_absolute_value(number)"
   ]
  },
  {
   "cell_type": "markdown",
   "id": "15eaa275-7559-47d2-85a9-91f7150e42fc",
   "metadata": {},
   "source": [
    "8. Develop a program that determines the largest of three given numbers using if-else statements"
   ]
  },
  {
   "cell_type": "code",
   "execution_count": 9,
   "id": "7becf746-011e-4b44-b8c0-73568c3b859a",
   "metadata": {},
   "outputs": [
    {
     "name": "stdin",
     "output_type": "stream",
     "text": [
      "Enter the first number:  15\n",
      "Enter the second number:  11\n",
      "Enter the third number:  16\n"
     ]
    },
    {
     "name": "stdout",
     "output_type": "stream",
     "text": [
      "The largest number is: 16.0\n"
     ]
    }
   ],
   "source": [
    "num1 = float(input(\"Enter the first number: \"))\n",
    "num2 = float(input(\"Enter the second number: \"))\n",
    "num3 = float(input(\"Enter the third number: \"))\n",
    "\n",
    "if num1 >= num2 and num1 >= num3:\n",
    "    largest = num1\n",
    "elif num2 >= num1 and num2 >= num3:\n",
    "    largest = num2\n",
    "else:\n",
    "    largest = num3\n",
    "\n",
    "print(\"The largest number is:\", largest)"
   ]
  },
  {
   "cell_type": "markdown",
   "id": "da3f6ec9-0bca-4267-b90b-b0c328955985",
   "metadata": {},
   "source": [
    "9. Create a program that checks if a given string is a palindrome."
   ]
  },
  {
   "cell_type": "code",
   "execution_count": 10,
   "id": "85ffcb0b-2819-4ba0-bb69-5989294f5ee9",
   "metadata": {},
   "outputs": [
    {
     "name": "stdout",
     "output_type": "stream",
     "text": [
      "Yes\n"
     ]
    }
   ],
   "source": [
    "s = \"malayalam\" \n",
    "\n",
    "if s == s[::-1]:\n",
    "    print(\"Yes\")\n",
    "else:\n",
    "    print(\"No\")"
   ]
  },
  {
   "cell_type": "markdown",
   "id": "cb530f84-e37b-46e8-9a69-c29733a26858",
   "metadata": {},
   "source": [
    "10. Write a Python program to calculate the grade based on a student's score.\n"
   ]
  },
  {
   "cell_type": "code",
   "execution_count": 19,
   "id": "b6e49e54-07e3-403e-84d0-b92c12e7f306",
   "metadata": {},
   "outputs": [],
   "source": [
    "def calculate_grade(score):\n",
    "\n",
    "    \n",
    "        if 90 <= score <= 100:\n",
    "            return \"A\"\n",
    "        elif 80 <= score < 90:\n",
    "            return \"B\"\n",
    "        elif 70 <= score < 80:\n",
    "            return \"C\"\n",
    "        elif 60 <= score < 70:\n",
    "            return \"D\"\n",
    "        elif 0 <= score < 60:\n",
    "            return \"F\"\n",
    "        else:\n",
    "            return \"Invalid Score: Score must be between 0 and 100.\""
   ]
  },
  {
   "cell_type": "code",
   "execution_count": 20,
   "id": "003906c5-e72d-4f05-be78-b2459e58c8e7",
   "metadata": {},
   "outputs": [
    {
     "data": {
      "text/plain": [
       "'B'"
      ]
     },
     "execution_count": 20,
     "metadata": {},
     "output_type": "execute_result"
    }
   ],
   "source": [
    "score = 80\n",
    "calculate_grade(score)\n"
   ]
  },
  {
   "cell_type": "markdown",
   "id": "16f50879-5fa4-49ec-b9c9-ddd0626512db",
   "metadata": {},
   "source": [
    "\n",
    "11. Write a program to find the largest among three numbers using nested if-else statements\n"
   ]
  },
  {
   "cell_type": "code",
   "execution_count": 25,
   "id": "cf2c671f-d61d-4139-8685-65cde88498a7",
   "metadata": {},
   "outputs": [
    {
     "name": "stdout",
     "output_type": "stream",
     "text": [
      "The largest number is: 25\n"
     ]
    }
   ],
   "source": [
    "def find_largest_nested_if_else(num1, num2, num3):\n",
    "   \n",
    "   \n",
    "    if num1 >= num2:\n",
    "        if num1 >= num3:\n",
    "            return num1\n",
    "        else:\n",
    "            return num3\n",
    "    else:\n",
    "        if num2 >= num3:\n",
    "            return num2\n",
    "        else:\n",
    "            return num3\n",
    "\n",
    "number1 = 10\n",
    "number2 = 25\n",
    "number3 = 15\n",
    "\n",
    "largest_number = find_largest_nested_if_else(number1, number2, number3)\n",
    "print(f\"The largest number is: {largest_number}\")\n"
   ]
  },
  {
   "cell_type": "code",
   "execution_count": 26,
   "id": "f2cf3aa8-b72f-4066-846f-2b673b8d773f",
   "metadata": {},
   "outputs": [
    {
     "ename": "SyntaxError",
     "evalue": "invalid syntax (2228972968.py, line 1)",
     "output_type": "error",
     "traceback": [
      "  \u001b[36mCell\u001b[39m\u001b[36m \u001b[39m\u001b[32mIn[26]\u001b[39m\u001b[32m, line 1\u001b[39m\n\u001b[31m    \u001b[39m\u001b[31m12. Implement a program to determine if a triangle is equilateral, isosceles, or scalene.\u001b[39m\n        ^\n\u001b[31mSyntaxError\u001b[39m\u001b[31m:\u001b[39m invalid syntax\n"
     ]
    }
   ],
   "source": [
    "12. Implement a program to determine if a triangle is equilateral, isosceles, or scalene."
   ]
  },
  {
   "cell_type": "code",
   "execution_count": 28,
   "id": "ac8886f8-d9d2-4268-9614-849d44a05224",
   "metadata": {},
   "outputs": [
    {
     "name": "stdin",
     "output_type": "stream",
     "text": [
      "Enter the length of side 1:  5\n",
      "Enter the length of side 2:  5\n",
      "Enter the length of side 3:  5\n"
     ]
    },
    {
     "name": "stdout",
     "output_type": "stream",
     "text": [
      "The triangle is Equilateral.\n"
     ]
    }
   ],
   "source": [
    "\n",
    "\n",
    "def classify_triangle():\n",
    "    try:\n",
    "        side1 = float(input(\"Enter the length of side 1: \"))\n",
    "        side2 = float(input(\"Enter the length of side 2: \"))\n",
    "        side3 = float(input(\"Enter the length of side 3: \"))\n",
    "\n",
    "        if side1 <= 0 or side2 <= 0 or side3 <= 0:\n",
    "            print(\"Side lengths must be positive.\")\n",
    "            return\n",
    "\n",
    "        # Check for triangle inequality theorem\n",
    "        if not (side1 + side2 > side3 and side1 + side3 > side2 and side2 + side3 > side1):\n",
    "            print(\"The given side lengths do not form a valid triangle.\")\n",
    "            return\n",
    "\n",
    "        if side1 == side2 and side2 == side3:\n",
    "            print(\"The triangle is Equilateral.\")\n",
    "        elif side1 == side2 or side2 == side3 or side1 == side3:\n",
    "            print(\"The triangle is Isosceles.\")\n",
    "        else:\n",
    "            print(\"The triangle is Scalene.\")\n",
    "\n",
    "    except ValueError:\n",
    "        print(\"Invalid input. Please enter numeric values for side lengths.\")\n",
    "\n",
    "classify_triangle()"
   ]
  },
  {
   "cell_type": "markdown",
   "id": "654175af-2cc6-4653-9392-29eac503a170",
   "metadata": {},
   "source": [
    "13. Develop a program that checks if a year is a leap year and also if it is a century year"
   ]
  },
  {
   "cell_type": "code",
   "execution_count": 29,
   "id": "f00ce37e-d37d-4696-8b82-c36f2a9f3db1",
   "metadata": {},
   "outputs": [],
   "source": [
    "def check_year_properties(year):\n",
    "    is_century = (year % 100 == 0)\n",
    "    is_leap = False\n",
    "\n",
    "    if is_century:\n",
    "        if year % 400 == 0:\n",
    "            is_leap = True\n",
    "    elif year % 4 == 0:\n",
    "        is_leap = True\n",
    "\n",
    "    print(f\"Year: {year}\")\n",
    "    if is_century:\n",
    "        print(f\"{year} is a century year.\")\n",
    "    else:\n",
    "        print(f\"{year} is not a century year.\")\n",
    "\n",
    "    if is_leap:\n",
    "        print(f\"{year} is a leap year.\")\n",
    "    else:\n",
    "        print(f\"{year} is not a leap year.\")"
   ]
  },
  {
   "cell_type": "code",
   "execution_count": 32,
   "id": "6aff1b2c-7185-41f0-887a-9ab2b17fef31",
   "metadata": {},
   "outputs": [
    {
     "name": "stdout",
     "output_type": "stream",
     "text": [
      "Year: 2025\n",
      "2025 is not a century year.\n",
      "2025 is not a leap year.\n"
     ]
    }
   ],
   "source": [
    "year = 2025\n",
    "check_year_properties(year)"
   ]
  },
  {
   "cell_type": "markdown",
   "id": "e307043d-1f8a-411a-b84a-44dc5c99a3dc",
   "metadata": {},
   "source": [
    "14.Write a Python script to determine if a number is positive, negative, or zero"
   ]
  },
  {
   "cell_type": "code",
   "execution_count": 33,
   "id": "4478a7b5-88a9-4999-a4da-096263f4f64b",
   "metadata": {},
   "outputs": [],
   "source": [
    "def check_number_type(number):\n",
    " \n",
    "  if number > 0:\n",
    "    return \"Positive\"\n",
    "  elif number < 0:\n",
    "    return \"Negative\"\n",
    "  else:\n",
    "    return \"Zero\""
   ]
  },
  {
   "cell_type": "code",
   "execution_count": 34,
   "id": "ac6d9af9-620b-438c-bef3-65118b7dded0",
   "metadata": {},
   "outputs": [
    {
     "data": {
      "text/plain": [
       "'Positive'"
      ]
     },
     "execution_count": 34,
     "metadata": {},
     "output_type": "execute_result"
    }
   ],
   "source": [
    "number = 15\n",
    "check_number_type(number)\n"
   ]
  },
  {
   "cell_type": "markdown",
   "id": "4c92b767-0cd0-43e8-8692-970484a3aa26",
   "metadata": {},
   "source": [
    "15. Create a program to check if a person is a teenager (between 13 and 19 years old"
   ]
  },
  {
   "cell_type": "code",
   "execution_count": 36,
   "id": "2a87d57c-52dd-4b53-8cd7-e52b620086a7",
   "metadata": {},
   "outputs": [
    {
     "name": "stdin",
     "output_type": "stream",
     "text": [
      "Enter the person's age:  21\n"
     ]
    },
    {
     "name": "stdout",
     "output_type": "stream",
     "text": [
      "The person is an adult.\n"
     ]
    }
   ],
   "source": [
    "age = int(input(\"Enter the person's age: \"))\n",
    "\n",
    "if age >= 13:\n",
    "    if age <= 19:\n",
    "        print(\"The person is a teenager.\")\n",
    "    else:\n",
    "        print(\"The person is an adult.\")\n",
    "else:\n",
    "    print(\"The person is a child.\")"
   ]
  },
  {
   "cell_type": "markdown",
   "id": "edb6af36-b02d-45f0-8301-56666522255c",
   "metadata": {},
   "source": [
    "16. Develop a program that determines the type of angle based on its measure (acute, obtuse, or right).\n"
   ]
  },
  {
   "cell_type": "code",
   "execution_count": 37,
   "id": "5d55d034-6a61-4ea3-a709-993e4e6d1aac",
   "metadata": {},
   "outputs": [
    {
     "name": "stdout",
     "output_type": "stream",
     "text": [
      "An angle of 45 degrees is: Acute\n",
      "An angle of 90 degrees is: Right\n",
      "An angle of 120 degrees is: Obtuse\n",
      "An angle of -10 degrees is: Invalid Angle\n",
      "An angle of 185 degrees is: Invalid Angle\n"
     ]
    }
   ],
   "source": [
    "def classify_angle(angle_measure):\n",
    "  \n",
    "    if 0 < angle_measure < 180: \n",
    "        if angle_measure == 90:\n",
    "            return \"Right\"\n",
    "        else:  \n",
    "            if angle_measure < 90:\n",
    "                return \"Acute\"\n",
    "            else:  \n",
    "                return \"Obtuse\"\n",
    "    else:\n",
    "        return \"Invalid Angle\"\n",
    "angle1 = 45\n",
    "print(f\"An angle of {angle1} degrees is: {classify_angle(angle1)}\")\n",
    "\n",
    "angle2 = 90\n",
    "print(f\"An angle of {angle2} degrees is: {classify_angle(angle2)}\")\n",
    "\n",
    "angle3 = 120\n",
    "print(f\"An angle of {angle3} degrees is: {classify_angle(angle3)}\")\n",
    "\n",
    "angle4 = -10\n",
    "print(f\"An angle of {angle4} degrees is: {classify_angle(angle4)}\")\n",
    "\n",
    "angle5 = 185\n",
    "print(f\"An angle of {angle5} degrees is: {classify_angle(angle5)}\")"
   ]
  },
  {
   "cell_type": "markdown",
   "id": "39899888-2915-49d2-88c6-e23b6b8ce61e",
   "metadata": {},
   "source": [
    "17. Write a Python program to calculate the roots of a quadratic equation."
   ]
  },
  {
   "cell_type": "code",
   "execution_count": null,
   "id": "b609c5fe-f99f-4b59-b909-2401b1ae647a",
   "metadata": {},
   "outputs": [],
   "source": [
    "import cmath\n",
    "\n",
    "def calculate_quadratic_roots():\n",
    "    \"\"\"Calculates and prints the roots of a quadratic equation.\"\"\"\n",
    "    try:\n",
    "        a = float(input(\"Enter coefficient a: \"))\n",
    "        b = float(input(\"Enter coefficient b: \"))\n",
    "        c = float(input(\"Enter coefficient c: \"))\n",
    "    except ValueError:\n",
    "        print(\"Invalid input. Please enter numerical values for coefficients.\")\n",
    "        return\n",
    "\n",
    "    if a == 0:\n",
    "        print(\"This is not a quadratic equation (coefficient 'a' cannot be zero).\")\n",
    "        return\n",
    "\n",
    "    discriminant = (b**2) - (4 * a * c)\n",
    "\n",
    "    if discriminant > 0:\n",
    "       \n",
    "        root1 = (-b - cmath.sqrt(discriminant)) / (2 * a)\n",
    "        root2 = (-b + cmath.sqrt(discriminant)) / (2 * a)\n",
    "        print(f\"The equation has two distinct real roots: {root1:.2f} and {root2:.2f}\")\n",
    "    else:  \n",
    "        if discriminant == 0:\n",
    "  \n",
    "            root = -b / (2 * a)\n",
    "            print(f\"The equation has one real and repeated root: {root:.2f}\")\n",
    "        else:\n",
    "            root1 = (-b - cmath.sqrt(discriminant)) / (2 * a)\n",
    "            root2 = (-b + cmath.sqrt(discriminant)) / (2 * a)\n",
    "            print(f\"The equation has two complex conjugate roots: {root1:.2f} and {root2:.2f}\")\n",
    "\n",
    "# Call the function to execute the program\n",
    "calculate_quadratic_roots()"
   ]
  },
  {
   "cell_type": "markdown",
   "id": "61f2fc27-1062-4af6-b7a1-abeadbf73966",
   "metadata": {},
   "source": [
    "18. Implement a program to determine the day of the week based on a user-provided number (1 for Monday, 2\n",
    "\n"
   ]
  },
  {
   "cell_type": "code",
   "execution_count": 2,
   "id": "641ecd8b-4402-491a-8d7a-587897ce6c08",
   "metadata": {},
   "outputs": [
    {
     "name": "stdin",
     "output_type": "stream",
     "text": [
      "Enter a number (1-7) to determine the day of the week:  5\n"
     ]
    },
    {
     "name": "stdout",
     "output_type": "stream",
     "text": [
      "Friday\n"
     ]
    }
   ],
   "source": [
    "day_number = int(input(\"Enter a number (1-7) to determine the day of the week: \"))\n",
    "\n",
    "if day_number == 1:\n",
    "    print(\"Monday\")\n",
    "elif day_number == 2:\n",
    "    print(\"Tuesday\")\n",
    "elif day_number == 3:\n",
    "    print(\"Wednesday\")\n",
    "elif day_number == 4:\n",
    "    print(\"Thursday\")\n",
    "elif day_number == 5:\n",
    "    print(\"Friday\")\n",
    "elif day_number == 6:\n",
    "    print(\"Saturday\")\n",
    "elif day_number == 7:\n",
    "    print(\"Sunday\")\n",
    "else:\n",
    "    print(\"Invalid input! Please enter a number between 1 and 7.\")"
   ]
  },
  {
   "cell_type": "markdown",
   "id": "fcd9f5ec-8e62-43b0-83fd-599367c2d3ef",
   "metadata": {},
   "source": [
    "\n",
    "19. Create a program that determines if a year is a leap year and also if it is evenly divisible by 400.\n"
   ]
  },
  {
   "cell_type": "code",
   "execution_count": null,
   "id": "93284046-2ffa-44af-b57a-c31f3bc26807",
   "metadata": {},
   "outputs": [],
   "source": [
    "year = int(input(\"Enter a year: \"))\n",
    "\n",
    "if year % 4 == 0:\n",
    "    if year % 100 == 0:\n",
    "        if year % 400 == 0:\n",
    "            print(f\"{year} is a leap year.\")\n",
    "            print(f\"{year} is evenly divisible by 400.\")\n",
    "        else:\n",
    "            print(f\"{year} is not a leap year.\")\n",
    "            print(f\"{year} is not evenly divisible by 400.\")\n",
    "    else:\n",
    "        print(f\"{year} is a leap year.\")\n",
    "        print(f\"{year} is not evenly divisible by 400.\") \n",
    "else:\n",
    "    print(f\"{year} is not a leap year.\")\n",
    "    print(f\"{year} is not evenly divisible by 400.\")"
   ]
  },
  {
   "cell_type": "markdown",
   "id": "c5d84ae8-74cc-438c-a382-23ec90edc349",
   "metadata": {},
   "source": [
    "20. Develop a program that checks if a given number is prime or not using nested if-else statements."
   ]
  },
  {
   "cell_type": "code",
   "execution_count": 1,
   "id": "e9fcee45-9c94-425a-8b5a-97d619493ede",
   "metadata": {},
   "outputs": [
    {
     "name": "stdout",
     "output_type": "stream",
     "text": [
      "29 is a prime number.\n",
      "10 is not a prime number.\n",
      "1 is not a prime number.\n"
     ]
    }
   ],
   "source": [
    "\n",
    "\n",
    "def is_prime(number):\n",
    "\n",
    "    if number <= 1:\n",
    "        return False\n",
    " \n",
    "    elif number == 2:\n",
    "        return True\n",
    "   \n",
    "    elif number % 2 == 0:\n",
    "        return False\n",
    "    else:\n",
    "     \n",
    "        i = 3\n",
    "        while i * i <= number:\n",
    "            if number % i == 0:\n",
    "                return False  \n",
    "            i += 2\n",
    "        return True \n",
    "\n",
    "\n",
    "num_to_check = 29\n",
    "if is_prime(num_to_check):\n",
    "    print(f\"{num_to_check} is a prime number.\")\n",
    "else:\n",
    "    print(f\"{num_to_check} is not a prime number.\")\n",
    "\n",
    "num_to_check = 10\n",
    "if is_prime(num_to_check):\n",
    "    print(f\"{num_to_check} is a prime number.\")\n",
    "else:\n",
    "    print(f\"{num_to_check} is not a prime number.\")\n",
    "\n",
    "num_to_check = 1\n",
    "if is_prime(num_to_check):\n",
    "    print(f\"{num_to_check} is a prime number.\")\n",
    "else:\n",
    "    print(f\"{num_to_check} is not a prime number.\")"
   ]
  },
  {
   "cell_type": "markdown",
   "id": "1f2c30c2-3d8e-41b2-8b1f-1b97ea15b7bd",
   "metadata": {},
   "source": [
    "21. Write a Python program to assign grades based on different ranges of scores using elif statements"
   ]
  },
  {
   "cell_type": "code",
   "execution_count": 3,
   "id": "ed22fedb-a5d8-490e-9871-0d400a22e037",
   "metadata": {},
   "outputs": [
    {
     "name": "stdin",
     "output_type": "stream",
     "text": [
      "Enter the student's score:  80\n"
     ]
    },
    {
     "name": "stdout",
     "output_type": "stream",
     "text": [
      "The student's grade is: B\n"
     ]
    }
   ],
   "source": [
    "def assign_grade(score):\n",
    "\n",
    "    if score >= 90:\n",
    "        return \"A\"\n",
    "    elif score >= 80:\n",
    "        return \"B\"\n",
    "    elif score >= 70:\n",
    "        return \"C\"\n",
    "    elif score >= 60:\n",
    "        return \"D\"\n",
    "    else:\n",
    "        return \"F\"\n",
    "\n",
    "student_score = float(input(\"Enter the student's score: \"))\n",
    "grade = assign_grade(student_score)\n",
    "print(f\"The student's grade is: {grade}\")"
   ]
  },
  {
   "cell_type": "markdown",
   "id": "8c6d1b23-1e47-4546-8acc-118a271702b7",
   "metadata": {},
   "source": [
    "22. Implement a program to determine the type of a triangle based on its angles."
   ]
  },
  {
   "cell_type": "code",
   "execution_count": 4,
   "id": "41af0493-bd36-4311-b88b-6da13df2db75",
   "metadata": {},
   "outputs": [
    {
     "name": "stdin",
     "output_type": "stream",
     "text": [
      "Enter the first angle:  45\n",
      "Enter the second angle:  45\n",
      "Enter the third angle:  90\n"
     ]
    },
    {
     "name": "stdout",
     "output_type": "stream",
     "text": [
      "This is a Right-angled Triangle.\n"
     ]
    }
   ],
   "source": [
    "angle1 = float(input(\"Enter the first angle: \"))\n",
    "angle2 = float(input(\"Enter the second angle: \"))\n",
    "angle3 = float(input(\"Enter the third angle: \"))\n",
    "\n",
    "if (angle1 + angle2 + angle3 == 180) and (angle1 > 0 and angle2 > 0 and angle3 > 0):\n",
    "    if angle1 == 90 or angle2 == 90 or angle3 == 90:\n",
    "        print(\"This is a Right-angled Triangle.\")\n",
    "    elif angle1 < 90 and angle2 < 90 and angle3 < 90:\n",
    "        print(\"This is an Acute-angled Triangle.\")\n",
    "    else:\n",
    "        print(\"This is an Obtuse-angled Triangle.\")\n",
    "else:\n",
    "    print(\"This is not a valid triangle.\")"
   ]
  },
  {
   "cell_type": "markdown",
   "id": "5f8f9e90-b140-4e51-8611-883d4fdcc047",
   "metadata": {},
   "source": [
    "Develop a program to categorize a given person's BMI into underweight, normal, overweight, or obese using\n",
    "\n"
   ]
  },
  {
   "cell_type": "code",
   "execution_count": 10,
   "id": "a1d1ef03-b006-4ca8-ad59-ec4dc2b7cf0d",
   "metadata": {},
   "outputs": [
    {
     "name": "stdin",
     "output_type": "stream",
     "text": [
      "Enter your weight in kilograms:  62\n",
      "Enter your height in meters:  1.70\n"
     ]
    },
    {
     "name": "stdout",
     "output_type": "stream",
     "text": [
      "Your BMI category is: Normal\n"
     ]
    }
   ],
   "source": [
    "def categorize_bmi(weight_kg, height_m):\n",
    "    \n",
    "    bmi = weight_kg / (height_m ** 2)\n",
    "\n",
    "    if bmi < 18.5:\n",
    "        category = \"Underweight\"\n",
    "    else: \n",
    "        if bmi < 25:\n",
    "            category = \"Normal\"\n",
    "        else: \n",
    "            if bmi < 30:\n",
    "                category = \"Overweight\"\n",
    "            else:  \n",
    "                category = \"Obese\"\n",
    "    return category\n",
    "\n",
    "weight = float(input(\"Enter your weight in kilograms: \"))\n",
    "height = float(input(\"Enter your height in meters: \"))\n",
    "\n",
    "# Get the BMI category\n",
    "bmi_category = categorize_bmi(weight, height)\n",
    "print(f\"Your BMI category is: {bmi_category}\")"
   ]
  },
  {
   "cell_type": "markdown",
   "id": "2458e0c0-400a-4c04-a542-5c59289891f0",
   "metadata": {},
   "source": [
    "24. Create a program that determines whether a given number is positive, negative, or zero using elif\n",
    "statements\n"
   ]
  },
  {
   "cell_type": "code",
   "execution_count": 11,
   "id": "32dd1b4f-9db8-45bd-bb89-9f2ab1614d8b",
   "metadata": {},
   "outputs": [
    {
     "name": "stdin",
     "output_type": "stream",
     "text": [
      "Enter a number:  -15\n"
     ]
    },
    {
     "name": "stdout",
     "output_type": "stream",
     "text": [
      "-15.0 is a negative number.\n"
     ]
    }
   ],
   "source": [
    "\n",
    "    number = float(input(\"Enter a number: \"))\n",
    "\n",
    "    if number > 0:\n",
    "        print(f\"{number} is a positive number.\")\n",
    "    elif number < 0:\n",
    "        print(f\"{number} is a negative number.\")\n",
    "    else:\n",
    "        print(f\"{number} is zero.\")"
   ]
  },
  {
   "cell_type": "markdown",
   "id": "89d7f00e-5124-4a59-9516-cdf8fb94cb44",
   "metadata": {},
   "source": [
    "25. Write a Python script to determine the type of a character (uppercase, lowercase, or special) using elif\n",
    "statements.\n"
   ]
  },
  {
   "cell_type": "code",
   "execution_count": 13,
   "id": "baf367ea-8ebe-4754-b7d7-379f5582570c",
   "metadata": {},
   "outputs": [
    {
     "name": "stdin",
     "output_type": "stream",
     "text": [
      "Enter a single character:  g\n"
     ]
    },
    {
     "name": "stdout",
     "output_type": "stream",
     "text": [
      "'g' is a lowercase letter.\n"
     ]
    }
   ],
   "source": [
    "character = input(\"Enter a single character: \")\n",
    "\n",
    "if len(character) != 1:\n",
    "    print(\"Please enter only a single character.\")\n",
    "elif 'A' <= character <= 'Z':\n",
    "    print(f\"'{character}' is an uppercase letter.\")\n",
    "elif 'a' <= character <= 'z':\n",
    "    print(f\"'{character}' is a lowercase letter.\")\n",
    "else:\n",
    "    print(f\"'{character}' is a special character.\")\n"
   ]
  },
  {
   "cell_type": "markdown",
   "id": "7b549a93-12a0-4f4e-81b8-f6e7da1df7e1",
   "metadata": {},
   "source": [
    "26. Implement a program to calculate the discounted price based on different purchase amounts using elif\n",
    "statements\n"
   ]
  },
  {
   "cell_type": "code",
   "execution_count": 19,
   "id": "1f059ea7-8471-4731-92b9-cf2c365ff1d4",
   "metadata": {},
   "outputs": [
    {
     "name": "stdin",
     "output_type": "stream",
     "text": [
      "Please enter a total_cost: 800\n"
     ]
    },
    {
     "name": "stdout",
     "output_type": "stream",
     "text": [
      "You have won a discount by 15 percent\n",
      "Now the total cost is  680.0\n"
     ]
    }
   ],
   "source": [
    "total_cost = int(input('Please enter a total_cost:'))\n",
    "if total_cost>=500:\n",
    "    print(\"You have won a discount by 15 percent\")\n",
    "    total_cost *= 0.85\n",
    "\n",
    "\n",
    "\n",
    "elif total_cost>100:\n",
    "\n",
    "   print(\"You have won a discount by 10 percent\")\n",
    "   total_cost *= 0.9\n",
    "\n",
    "\n",
    "\n",
    "elif total_cost>=50:\n",
    "\n",
    "   print(\"You have won a discount by 5 percent\")\n",
    "   total_cost *= 0.95\n",
    "\n",
    "else:\n",
    "   print ('you total cost is not in the range of discount!')\n",
    "print ('Now the total cost is ', total_cost)"
   ]
  },
  {
   "cell_type": "markdown",
   "id": "48306427-9613-42d1-beca-f3c437e32585",
   "metadata": {},
   "source": [
    "27. Develop a program to calculate the electricity bill based on different consumption slabs using elif\n",
    "statements\n"
   ]
  },
  {
   "cell_type": "code",
   "execution_count": 21,
   "id": "12dbf963-dbf8-463b-b88f-a4d5130bdfcd",
   "metadata": {},
   "outputs": [
    {
     "name": "stdin",
     "output_type": "stream",
     "text": [
      "Enter the number of units consumed:  170\n"
     ]
    },
    {
     "name": "stdout",
     "output_type": "stream",
     "text": [
      "The total electricity bill for 170 units is: ₹679.00\n"
     ]
    }
   ],
   "source": [
    "def calculate_electricity_bill():\n",
    "    units = int(input(\"Enter the number of units consumed: \"))\n",
    " \n",
    "\n",
    "    bill_amount = 0\n",
    "\n",
    "    if units <= 50:\n",
    "        bill_amount = units * 3.50  \n",
    "    elif units <= 150:\n",
    "        bill_amount = (50 * 3.50) + ((units - 50) * 4.00)  \n",
    "    elif units <= 250:\n",
    "        bill_amount = (50 * 3.50) + (100 * 4.00) + ((units - 150) * 5.20) \n",
    "    else:\n",
    "        bill_amount = (50 * 3.50) + (100 * 4.00) + (100 * 5.20) + ((units - 250) * 6.80)  # Rate for 251+ units\n",
    "\n",
    "    print(f\"The total electricity bill for {units} units is: ₹{bill_amount:.2f}\")\n",
    "\n",
    "\n",
    "calculate_electricity_bill()"
   ]
  },
  {
   "cell_type": "markdown",
   "id": "ef7dbbbb-1fcb-42f4-83b0-1ef60d875681",
   "metadata": {},
   "source": [
    "28. Create a program to determine the type of quadrilateral based on its angles and sides using elif\n",
    "statements\n"
   ]
  },
  {
   "cell_type": "code",
   "execution_count": 23,
   "id": "5fa488ca-10a2-4b51-9adf-575e8d7e2501",
   "metadata": {},
   "outputs": [],
   "source": [
    "def classify_quadrilateral(s1, s2, s3, s4, a1, a2, a3, a4):\n",
    "\n",
    "\n",
    "\n",
    "    if not (abs(a1 + a2 + a3 + a4 - 360) < 0.01):  \n",
    "        print(\"Invalid quadrilateral: Sum of angles is not 360 degrees.\")\n",
    "        return\n",
    "\n",
    "    if s1 == s2 == s3 == s4 and a1 == a2 == a3 == a4 == 90:\n",
    "        print(\"This is a Square.\")\n",
    "    \n",
    "    elif s1 == s3 and s2 == s4 and s1 != s2 and a1 == a2 == a3 == a4 == 90:\n",
    "        print(\"This is a Rectangle.\")\n",
    "    \n",
    "    elif s1 == s2 == s3 == s4 and (a1 == a3 and a2 == a4) and not (a1 == 90):\n",
    "        print(\"This is a Rhombus.\")\n",
    "    \n",
    "    elif s1 == s3 and s2 == s4 and (a1 == a3 and a2 == a4) and not (a1 == 90):\n",
    "        print(\"This is a Parallelogram.\")\n",
    "   \n",
    "    elif (a1 + a4 == 180 and a2 + a3 == 180) or \\\n",
    "         (a1 + a2 == 180 and a3 + a4 == 180):\n",
    "        print(\"This is a Trapezoid (or Isosceles Trapezoid if non-parallel sides are equal).\")\n",
    "    else:\n",
    "        print(\"This is a general Quadrilateral.\")"
   ]
  },
  {
   "cell_type": "code",
   "execution_count": 24,
   "id": "5d6e5493-3593-4342-87ca-240a437f875d",
   "metadata": {},
   "outputs": [
    {
     "name": "stdout",
     "output_type": "stream",
     "text": [
      "This is a Square.\n"
     ]
    }
   ],
   "source": [
    "classify_quadrilateral(5, 5, 5, 5, 90, 90, 90, 90)\n"
   ]
  },
  {
   "cell_type": "code",
   "execution_count": 26,
   "id": "ea1a8664-798a-47fc-adcb-211ad9f46904",
   "metadata": {},
   "outputs": [
    {
     "name": "stdin",
     "output_type": "stream",
     "text": [
      "Enter the month number (1-12):  5\n"
     ]
    },
    {
     "name": "stdout",
     "output_type": "stream",
     "text": [
      "The season for month 5 is: Spring\n"
     ]
    }
   ],
   "source": [
    "def get_season_by_month(month_number):\n",
    "    \n",
    "    if month_number in [12, 1, 2]:\n",
    "        return \"Winter\"\n",
    "    elif month_number in [3, 4, 5]:\n",
    "        return \"Spring\"\n",
    "    elif month_number in [6, 7, 8]:\n",
    "        return \"Summer\"\n",
    "    elif month_number in [9, 10, 11]:\n",
    "        return \"Autumn\"\n",
    "    else:\n",
    "        return \"Invalid Month\"\n",
    "\n",
    "if __name__ == \"__main__\":\n",
    "    try:\n",
    "        month_input = int(input(\"Enter the month number (1-12): \"))\n",
    "        season = get_season_by_month(month_input)\n",
    "        print(f\"The season for month {month_input} is: {season}\")\n",
    "    except ValueError:\n",
    "        print(\"Invalid input. Please enter an integer between 1 and 12.\")"
   ]
  },
  {
   "cell_type": "markdown",
   "id": "7f13814d-fada-49c2-913c-4c1f8c10223e",
   "metadata": {},
   "source": [
    "30. Implement a program to determine the type of a year (leap or common) and month (30 or 31 days) using elif statements.\n"
   ]
  },
  {
   "cell_type": "code",
   "execution_count": 42,
   "id": "e63fc8e7-f8cd-4e69-8815-dfb7866a4044",
   "metadata": {},
   "outputs": [
    {
     "name": "stdin",
     "output_type": "stream",
     "text": [
      "Enter a year:  2520\n",
      "Enter a month (1-12):  2\n"
     ]
    },
    {
     "name": "stdout",
     "output_type": "stream",
     "text": [
      "2520 is a leap year.\n",
      "Month 2 in 2520 has 29 days.\n"
     ]
    }
   ],
   "source": [
    "def determine_year_and_month_type():\n",
    "    \n",
    "    try:\n",
    "        year = int(input(\"Enter a year: \"))\n",
    "        month = int(input(\"Enter a month (1-12): \"))\n",
    "    except ValueError:\n",
    "        print(\"Invalid input. Please enter integers for year and month.\")\n",
    "        return\n",
    "\n",
    "    is_leap_year = False\n",
    "    if (year % 4 == 0 and year % 100 != 0) or (year % 400 == 0):\n",
    "        is_leap_year = True\n",
    "\n",
    "    if is_leap_year:\n",
    "        print(f\"{year} is a leap year.\")\n",
    "    else:\n",
    "        print(f\"{year} is a common year.\")\n",
    "\n",
    "    if month in (1, 3, 5, 7, 8, 10, 12):\n",
    "        days_in_month = 31\n",
    "    elif month in (4, 6, 9, 11):\n",
    "        days_in_month = 30\n",
    "    elif month == 2:\n",
    "        if is_leap_year:\n",
    "            days_in_month = 29\n",
    "        else:\n",
    "            days_in_month = 28\n",
    "    else:\n",
    "        print(\"Invalid month entered. Please enter a number between 1 and 12.\")\n",
    "        return\n",
    "\n",
    "    print(f\"Month {month} in {year} has {days_in_month} days.\")\n",
    "determine_year_and_month_type()"
   ]
  },
  {
   "cell_type": "code",
   "execution_count": null,
   "id": "ccd5496d-3cc7-416e-b1be-99f6cfa75941",
   "metadata": {},
   "outputs": [],
   "source": []
  }
 ],
 "metadata": {
  "kernelspec": {
   "display_name": "Python 3 (ipykernel)",
   "language": "python",
   "name": "python3"
  },
  "language_info": {
   "codemirror_mode": {
    "name": "ipython",
    "version": 3
   },
   "file_extension": ".py",
   "mimetype": "text/x-python",
   "name": "python",
   "nbconvert_exporter": "python",
   "pygments_lexer": "ipython3",
   "version": "3.11.10"
  }
 },
 "nbformat": 4,
 "nbformat_minor": 5
}
